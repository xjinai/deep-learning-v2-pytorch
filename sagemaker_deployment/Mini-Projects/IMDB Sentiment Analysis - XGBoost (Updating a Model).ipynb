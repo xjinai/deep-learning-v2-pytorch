{
 "cells": [
  {
   "cell_type": "markdown",
   "metadata": {},
   "source": [
    "# Sentiment Analysis\n",
    "\n",
    "## Updating a Model in SageMaker\n",
    "\n",
    "_Deep Learning Nanodegree Program | Deployment_\n",
    "\n",
    "---\n",
    "\n",
    "In this notebook we will consider a situation in which a model that we constructed is no longer working as we intended. In particular, we will look at the XGBoost sentiment analysis model that we constructed earlier. In this case, however, we have some new data that our model doesn't seem to perform very well on. As a result, we will re-train our model and update an existing endpoint so that it uses our new model.\n",
    "\n",
    "This notebook starts by re-creating the XGBoost sentiment analysis model that was created in earlier notebooks. This means that you will have already seen the cells up to the end of Step 4. The new content in this notebook begins at Step 5.\n",
    "\n",
    "## Instructions\n",
    "\n",
    "Some template code has already been provided for you, and you will need to implement additional functionality to successfully complete this notebook. You will not need to modify the included code beyond what is requested. Sections that begin with '**TODO**' in the header indicate that you need to complete or implement some portion within them. Instructions will be provided for each section and the specifics of the implementation are marked in the code block with a `# TODO: ...` comment. Please be sure to read the instructions carefully!\n",
    "\n",
    "In addition to implementing code, there will be questions for you to answer which relate to the task and your implementation. Each section where you will answer a question is preceded by a '**Question:**' header. Carefully read each question and provide your answer below the '**Answer:**' header by editing the Markdown cell.\n",
    "\n",
    "> **Note**: Code and Markdown cells can be executed using the **Shift+Enter** keyboard shortcut. In addition, a cell can be edited by typically clicking it (double-click for Markdown cells) or by pressing **Enter** while it is highlighted."
   ]
  },
  {
   "cell_type": "markdown",
   "metadata": {},
   "source": [
    "## Step 1: Downloading the data\n",
    "\n",
    "The dataset we are going to use is very popular among researchers in Natural Language Processing, usually referred to as the [IMDb dataset](http://ai.stanford.edu/~amaas/data/sentiment/). It consists of movie reviews from the website [imdb.com](http://www.imdb.com/), each labeled as either '**pos**itive', if the reviewer enjoyed the film, or '**neg**ative' otherwise.\n",
    "\n",
    "> Maas, Andrew L., et al. [Learning Word Vectors for Sentiment Analysis](http://ai.stanford.edu/~amaas/data/sentiment/). In _Proceedings of the 49th Annual Meeting of the Association for Computational Linguistics: Human Language Technologies_. Association for Computational Linguistics, 2011.\n",
    "\n",
    "We begin by using some Jupyter Notebook magic to download and extract the dataset."
   ]
  },
  {
   "cell_type": "code",
   "execution_count": 1,
   "metadata": {},
   "outputs": [
    {
     "name": "stdout",
     "output_type": "stream",
     "text": [
      "mkdir: cannot create directory ‘../data’: File exists\n",
      "--2020-11-01 02:09:58--  http://ai.stanford.edu/~amaas/data/sentiment/aclImdb_v1.tar.gz\n",
      "Resolving ai.stanford.edu (ai.stanford.edu)... 171.64.68.10\n",
      "Connecting to ai.stanford.edu (ai.stanford.edu)|171.64.68.10|:80... connected.\n",
      "HTTP request sent, awaiting response... 200 OK\n",
      "Length: 84125825 (80M) [application/x-gzip]\n",
      "Saving to: ‘../data/aclImdb_v1.tar.gz’\n",
      "\n",
      "../data/aclImdb_v1. 100%[===================>]  80.23M  24.1MB/s    in 3.9s    \n",
      "\n",
      "2020-11-01 02:10:02 (20.5 MB/s) - ‘../data/aclImdb_v1.tar.gz’ saved [84125825/84125825]\n",
      "\n"
     ]
    }
   ],
   "source": [
    "%mkdir ../data\n",
    "!wget -O ../data/aclImdb_v1.tar.gz http://ai.stanford.edu/~amaas/data/sentiment/aclImdb_v1.tar.gz\n",
    "!tar -zxf ../data/aclImdb_v1.tar.gz -C ../data"
   ]
  },
  {
   "cell_type": "markdown",
   "metadata": {},
   "source": [
    "## Step 2: Preparing the data\n",
    "\n",
    "The data we have downloaded is split into various files, each of which contains a single review. It will be much easier going forward if we combine these individual files into two large files, one for training and one for testing."
   ]
  },
  {
   "cell_type": "code",
   "execution_count": 2,
   "metadata": {},
   "outputs": [],
   "source": [
    "import os\n",
    "import glob\n",
    "\n",
    "def read_imdb_data(data_dir='../data/aclImdb'):\n",
    "    data = {}\n",
    "    labels = {}\n",
    "    \n",
    "    for data_type in ['train', 'test']:\n",
    "        data[data_type] = {}\n",
    "        labels[data_type] = {}\n",
    "        \n",
    "        for sentiment in ['pos', 'neg']:\n",
    "            data[data_type][sentiment] = []\n",
    "            labels[data_type][sentiment] = []\n",
    "            \n",
    "            path = os.path.join(data_dir, data_type, sentiment, '*.txt')\n",
    "            files = glob.glob(path)\n",
    "            \n",
    "            for f in files:\n",
    "                with open(f) as review:\n",
    "                    data[data_type][sentiment].append(review.read())\n",
    "                    # Here we represent a positive review by '1' and a negative review by '0'\n",
    "                    labels[data_type][sentiment].append(1 if sentiment == 'pos' else 0)\n",
    "                    \n",
    "            assert len(data[data_type][sentiment]) == len(labels[data_type][sentiment]), \\\n",
    "                    \"{}/{} data size does not match labels size\".format(data_type, sentiment)\n",
    "                \n",
    "    return data, labels"
   ]
  },
  {
   "cell_type": "code",
   "execution_count": 3,
   "metadata": {},
   "outputs": [
    {
     "name": "stdout",
     "output_type": "stream",
     "text": [
      "IMDB reviews: train = 12500 pos / 12500 neg, test = 12500 pos / 12500 neg\n"
     ]
    }
   ],
   "source": [
    "data, labels = read_imdb_data()\n",
    "print(\"IMDB reviews: train = {} pos / {} neg, test = {} pos / {} neg\".format(\n",
    "            len(data['train']['pos']), len(data['train']['neg']),\n",
    "            len(data['test']['pos']), len(data['test']['neg'])))"
   ]
  },
  {
   "cell_type": "code",
   "execution_count": 4,
   "metadata": {},
   "outputs": [],
   "source": [
    "from sklearn.utils import shuffle\n",
    "\n",
    "def prepare_imdb_data(data, labels):\n",
    "    \"\"\"Prepare training and test sets from IMDb movie reviews.\"\"\"\n",
    "    \n",
    "    #Combine positive and negative reviews and labels\n",
    "    data_train = data['train']['pos'] + data['train']['neg']\n",
    "    data_test = data['test']['pos'] + data['test']['neg']\n",
    "    labels_train = labels['train']['pos'] + labels['train']['neg']\n",
    "    labels_test = labels['test']['pos'] + labels['test']['neg']\n",
    "    \n",
    "    #Shuffle reviews and corresponding labels within training and test sets\n",
    "    data_train, labels_train = shuffle(data_train, labels_train)\n",
    "    data_test, labels_test = shuffle(data_test, labels_test)\n",
    "    \n",
    "    # Return a unified training data, test data, training labels, test labets\n",
    "    return data_train, data_test, labels_train, labels_test"
   ]
  },
  {
   "cell_type": "code",
   "execution_count": 5,
   "metadata": {},
   "outputs": [
    {
     "name": "stdout",
     "output_type": "stream",
     "text": [
      "IMDb reviews (combined): train = 25000, test = 25000\n"
     ]
    }
   ],
   "source": [
    "train_X, test_X, train_y, test_y = prepare_imdb_data(data, labels)\n",
    "print(\"IMDb reviews (combined): train = {}, test = {}\".format(len(train_X), len(test_X)))"
   ]
  },
  {
   "cell_type": "code",
   "execution_count": 6,
   "metadata": {},
   "outputs": [
    {
     "data": {
      "text/plain": [
       "\"This is a very bad western mainly because it is historically inaccurate. It looks as if it were shot on a back lot in California instead of where Jack Slade lived and died, Idaho, Colorado Territories, and Montana. It fictionalizes everything that is known about this mysterious 'bad man,' 'good man.' The script is horrible; there is very little direction, and lousy acting. Dorothy Malone is completely wasted as his wife. Mark Steven never seems to know how to portray this mysterious Jack Slade. In real life, Jack Slade was a very good stage line superintendent. He was feared by his local townsmen for his hard drinking. When drunk he would start fights and cause other problems in Virginia City, Montana. To insure that he could never terrorize them again, vigilantes lynched Jack Slade after he ignored their warning to leave town immediately. This is a horrible movie. I can not recommend anyone to watch this movie other than to see how Hollywood butches history at will, even to this day.\""
      ]
     },
     "execution_count": 6,
     "metadata": {},
     "output_type": "execute_result"
    }
   ],
   "source": [
    "train_X[100]"
   ]
  },
  {
   "cell_type": "markdown",
   "metadata": {},
   "source": [
    "## Step 3: Processing the data\n",
    "\n",
    "Now that we have our training and testing datasets merged and ready to use, we need to start processing the raw data into something that will be useable by our machine learning algorithm. To begin with, we remove any html formatting that may appear in the reviews and perform some standard natural language processing in order to homogenize the data."
   ]
  },
  {
   "cell_type": "code",
   "execution_count": 7,
   "metadata": {},
   "outputs": [
    {
     "name": "stderr",
     "output_type": "stream",
     "text": [
      "[nltk_data] Downloading package stopwords to\n",
      "[nltk_data]     /home/ec2-user/nltk_data...\n",
      "[nltk_data]   Unzipping corpora/stopwords.zip.\n"
     ]
    }
   ],
   "source": [
    "import nltk\n",
    "nltk.download(\"stopwords\")\n",
    "from nltk.corpus import stopwords\n",
    "from nltk.stem.porter import *\n",
    "stemmer = PorterStemmer()"
   ]
  },
  {
   "cell_type": "code",
   "execution_count": 8,
   "metadata": {},
   "outputs": [],
   "source": [
    "import re\n",
    "from bs4 import BeautifulSoup\n",
    "\n",
    "def review_to_words(review):\n",
    "    text = BeautifulSoup(review, \"html.parser\").get_text() # Remove HTML tags\n",
    "    text = re.sub(r\"[^a-zA-Z0-9]\", \" \", text.lower()) # Convert to lower case\n",
    "    words = text.split() # Split string into words\n",
    "    words = [w for w in words if w not in stopwords.words(\"english\")] # Remove stopwords\n",
    "    words = [PorterStemmer().stem(w) for w in words] # stem\n",
    "    \n",
    "    return words"
   ]
  },
  {
   "cell_type": "code",
   "execution_count": 9,
   "metadata": {},
   "outputs": [
    {
     "data": {
      "text/plain": [
       "['bad',\n",
       " 'western',\n",
       " 'mainli',\n",
       " 'histor',\n",
       " 'inaccur',\n",
       " 'look',\n",
       " 'shot',\n",
       " 'back',\n",
       " 'lot',\n",
       " 'california',\n",
       " 'instead',\n",
       " 'jack',\n",
       " 'slade',\n",
       " 'live',\n",
       " 'die',\n",
       " 'idaho',\n",
       " 'colorado',\n",
       " 'territori',\n",
       " 'montana',\n",
       " 'fiction',\n",
       " 'everyth',\n",
       " 'known',\n",
       " 'mysteri',\n",
       " 'bad',\n",
       " 'man',\n",
       " 'good',\n",
       " 'man',\n",
       " 'script',\n",
       " 'horribl',\n",
       " 'littl',\n",
       " 'direct',\n",
       " 'lousi',\n",
       " 'act',\n",
       " 'dorothi',\n",
       " 'malon',\n",
       " 'complet',\n",
       " 'wast',\n",
       " 'wife',\n",
       " 'mark',\n",
       " 'steven',\n",
       " 'never',\n",
       " 'seem',\n",
       " 'know',\n",
       " 'portray',\n",
       " 'mysteri',\n",
       " 'jack',\n",
       " 'slade',\n",
       " 'real',\n",
       " 'life',\n",
       " 'jack',\n",
       " 'slade',\n",
       " 'good',\n",
       " 'stage',\n",
       " 'line',\n",
       " 'superintend',\n",
       " 'fear',\n",
       " 'local',\n",
       " 'townsmen',\n",
       " 'hard',\n",
       " 'drink',\n",
       " 'drunk',\n",
       " 'would',\n",
       " 'start',\n",
       " 'fight',\n",
       " 'caus',\n",
       " 'problem',\n",
       " 'virginia',\n",
       " 'citi',\n",
       " 'montana',\n",
       " 'insur',\n",
       " 'could',\n",
       " 'never',\n",
       " 'terror',\n",
       " 'vigilant',\n",
       " 'lynch',\n",
       " 'jack',\n",
       " 'slade',\n",
       " 'ignor',\n",
       " 'warn',\n",
       " 'leav',\n",
       " 'town',\n",
       " 'immedi',\n",
       " 'horribl',\n",
       " 'movi',\n",
       " 'recommend',\n",
       " 'anyon',\n",
       " 'watch',\n",
       " 'movi',\n",
       " 'see',\n",
       " 'hollywood',\n",
       " 'butch',\n",
       " 'histori',\n",
       " 'even',\n",
       " 'day']"
      ]
     },
     "execution_count": 9,
     "metadata": {},
     "output_type": "execute_result"
    }
   ],
   "source": [
    "review_to_words(train_X[100])"
   ]
  },
  {
   "cell_type": "code",
   "execution_count": 10,
   "metadata": {},
   "outputs": [],
   "source": [
    "import pickle\n",
    "\n",
    "cache_dir = os.path.join(\"../cache\", \"sentiment_analysis\")  # where to store cache files\n",
    "os.makedirs(cache_dir, exist_ok=True)  # ensure cache directory exists\n",
    "\n",
    "def preprocess_data(data_train, data_test, labels_train, labels_test,\n",
    "                    cache_dir=cache_dir, cache_file=\"preprocessed_data.pkl\"):\n",
    "    \"\"\"Convert each review to words; read from cache if available.\"\"\"\n",
    "\n",
    "    # If cache_file is not None, try to read from it first\n",
    "    cache_data = None\n",
    "    if cache_file is not None:\n",
    "        try:\n",
    "            with open(os.path.join(cache_dir, cache_file), \"rb\") as f:\n",
    "                cache_data = pickle.load(f)\n",
    "            print(\"Read preprocessed data from cache file:\", cache_file)\n",
    "        except:\n",
    "            pass  # unable to read from cache, but that's okay\n",
    "    \n",
    "    # If cache is missing, then do the heavy lifting\n",
    "    if cache_data is None:\n",
    "        # Preprocess training and test data to obtain words for each review\n",
    "        #words_train = list(map(review_to_words, data_train))\n",
    "        #words_test = list(map(review_to_words, data_test))\n",
    "        words_train = [review_to_words(review) for review in data_train]\n",
    "        words_test = [review_to_words(review) for review in data_test]\n",
    "        \n",
    "        # Write to cache file for future runs\n",
    "        if cache_file is not None:\n",
    "            cache_data = dict(words_train=words_train, words_test=words_test,\n",
    "                              labels_train=labels_train, labels_test=labels_test)\n",
    "            with open(os.path.join(cache_dir, cache_file), \"wb\") as f:\n",
    "                pickle.dump(cache_data, f)\n",
    "            print(\"Wrote preprocessed data to cache file:\", cache_file)\n",
    "    else:\n",
    "        # Unpack data loaded from cache file\n",
    "        words_train, words_test, labels_train, labels_test = (cache_data['words_train'],\n",
    "                cache_data['words_test'], cache_data['labels_train'], cache_data['labels_test'])\n",
    "    \n",
    "    return words_train, words_test, labels_train, labels_test"
   ]
  },
  {
   "cell_type": "code",
   "execution_count": 11,
   "metadata": {},
   "outputs": [
    {
     "name": "stdout",
     "output_type": "stream",
     "text": [
      "Read preprocessed data from cache file: preprocessed_data.pkl\n"
     ]
    }
   ],
   "source": [
    "# Preprocess data\n",
    "train_X, test_X, train_y, test_y = preprocess_data(train_X, test_X, train_y, test_y)"
   ]
  },
  {
   "cell_type": "markdown",
   "metadata": {},
   "source": [
    "### Extract Bag-of-Words features\n",
    "\n",
    "For the model we will be implementing, rather than using the reviews directly, we are going to transform each review into a Bag-of-Words feature representation. Keep in mind that 'in the wild' we will only have access to the training set so our transformer can only use the training set to construct a representation."
   ]
  },
  {
   "cell_type": "code",
   "execution_count": 12,
   "metadata": {},
   "outputs": [
    {
     "name": "stderr",
     "output_type": "stream",
     "text": [
      "/home/ec2-user/anaconda3/envs/pytorch_p36/lib/python3.6/site-packages/sklearn/externals/joblib/__init__.py:15: FutureWarning: sklearn.externals.joblib is deprecated in 0.21 and will be removed in 0.23. Please import this functionality directly from joblib, which can be installed with: pip install joblib. If this warning is raised when loading pickled models, you may need to re-serialize those models with scikit-learn 0.21+.\n",
      "  warnings.warn(msg, category=FutureWarning)\n"
     ]
    }
   ],
   "source": [
    "import numpy as np\n",
    "from sklearn.feature_extraction.text import CountVectorizer\n",
    "from sklearn.externals import joblib\n",
    "# joblib is an enhanced version of pickle that is more efficient for storing NumPy arrays\n",
    "\n",
    "def extract_BoW_features(words_train, words_test, vocabulary_size=5000,\n",
    "                         cache_dir=cache_dir, cache_file=\"bow_features.pkl\"):\n",
    "    \"\"\"Extract Bag-of-Words for a given set of documents, already preprocessed into words.\"\"\"\n",
    "    \n",
    "    # If cache_file is not None, try to read from it first\n",
    "    cache_data = None\n",
    "    if cache_file is not None:\n",
    "        try:\n",
    "            with open(os.path.join(cache_dir, cache_file), \"rb\") as f:\n",
    "                cache_data = joblib.load(f)\n",
    "            print(\"Read features from cache file:\", cache_file)\n",
    "        except:\n",
    "            pass  # unable to read from cache, but that's okay\n",
    "    \n",
    "    # If cache is missing, then do the heavy lifting\n",
    "    if cache_data is None:\n",
    "        # Fit a vectorizer to training documents and use it to transform them\n",
    "        # NOTE: Training documents have already been preprocessed and tokenized into words;\n",
    "        #       pass in dummy functions to skip those steps, e.g. preprocessor=lambda x: x\n",
    "        vectorizer = CountVectorizer(max_features=vocabulary_size,\n",
    "                preprocessor=lambda x: x, tokenizer=lambda x: x)  # already preprocessed\n",
    "        features_train = vectorizer.fit_transform(words_train).toarray()\n",
    "\n",
    "        # Apply the same vectorizer to transform the test documents (ignore unknown words)\n",
    "        features_test = vectorizer.transform(words_test).toarray()\n",
    "        \n",
    "        # NOTE: Remember to convert the features using .toarray() for a compact representation\n",
    "        \n",
    "        # Write to cache file for future runs (store vocabulary as well)\n",
    "        if cache_file is not None:\n",
    "            vocabulary = vectorizer.vocabulary_\n",
    "            cache_data = dict(features_train=features_train, features_test=features_test,\n",
    "                             vocabulary=vocabulary)\n",
    "            with open(os.path.join(cache_dir, cache_file), \"wb\") as f:\n",
    "                joblib.dump(cache_data, f)\n",
    "            print(\"Wrote features to cache file:\", cache_file)\n",
    "    else:\n",
    "        # Unpack data loaded from cache file\n",
    "        features_train, features_test, vocabulary = (cache_data['features_train'],\n",
    "                cache_data['features_test'], cache_data['vocabulary'])\n",
    "    \n",
    "    # Return both the extracted features as well as the vocabulary\n",
    "    return features_train, features_test, vocabulary"
   ]
  },
  {
   "cell_type": "code",
   "execution_count": 13,
   "metadata": {},
   "outputs": [
    {
     "name": "stdout",
     "output_type": "stream",
     "text": [
      "Read features from cache file: bow_features.pkl\n"
     ]
    }
   ],
   "source": [
    "# Extract Bag of Words features for both training and test datasets\n",
    "train_X, test_X, vocabulary = extract_BoW_features(train_X, test_X)"
   ]
  },
  {
   "cell_type": "code",
   "execution_count": 14,
   "metadata": {},
   "outputs": [
    {
     "data": {
      "text/plain": [
       "5000"
      ]
     },
     "execution_count": 14,
     "metadata": {},
     "output_type": "execute_result"
    }
   ],
   "source": [
    "len(train_X[100])"
   ]
  },
  {
   "cell_type": "markdown",
   "metadata": {},
   "source": [
    "## Step 4: Classification using XGBoost\n",
    "\n",
    "Now that we have created the feature representation of our training (and testing) data, it is time to start setting up and using the XGBoost classifier provided by SageMaker.\n",
    "\n",
    "### Writing the dataset\n",
    "\n",
    "The XGBoost classifier that we will be using requires the dataset to be written to a file and stored using Amazon S3. To do this, we will start by splitting the training dataset into two parts, the data we will train the model with and a validation set. Then, we will write those datasets to a file and upload the files to S3. In addition, we will write the test set input to a file and upload the file to S3. This is so that we can use SageMakers Batch Transform functionality to test our model once we've fit it."
   ]
  },
  {
   "cell_type": "code",
   "execution_count": 15,
   "metadata": {},
   "outputs": [],
   "source": [
    "import pandas as pd\n",
    "\n",
    "# Earlier we shuffled the training dataset so to make things simple we can just assign\n",
    "# the first 10 000 reviews to the validation set and use the remaining reviews for training.\n",
    "val_X = pd.DataFrame(train_X[:10000])\n",
    "train_X = pd.DataFrame(train_X[10000:])\n",
    "\n",
    "val_y = pd.DataFrame(train_y[:10000])\n",
    "train_y = pd.DataFrame(train_y[10000:])"
   ]
  },
  {
   "cell_type": "markdown",
   "metadata": {},
   "source": [
    "The documentation for the XGBoost algorithm in SageMaker requires that the saved datasets should contain no headers or index and that for the training and validation data, the label should occur first for each sample.\n",
    "\n",
    "For more information about this and other algorithms, the SageMaker developer documentation can be found on __[Amazon's website.](https://docs.aws.amazon.com/sagemaker/latest/dg/)__"
   ]
  },
  {
   "cell_type": "code",
   "execution_count": 16,
   "metadata": {},
   "outputs": [],
   "source": [
    "# First we make sure that the local directory in which we'd like to store the training and validation csv files exists.\n",
    "data_dir = '../data/sentiment_update'\n",
    "if not os.path.exists(data_dir):\n",
    "    os.makedirs(data_dir)"
   ]
  },
  {
   "cell_type": "code",
   "execution_count": 17,
   "metadata": {},
   "outputs": [],
   "source": [
    "pd.DataFrame(test_X).to_csv(os.path.join(data_dir, 'test.csv'), header=False, index=False)\n",
    "\n",
    "pd.concat([val_y, val_X], axis=1).to_csv(os.path.join(data_dir, 'validation.csv'), header=False, index=False)\n",
    "pd.concat([train_y, train_X], axis=1).to_csv(os.path.join(data_dir, 'train.csv'), header=False, index=False)"
   ]
  },
  {
   "cell_type": "code",
   "execution_count": 18,
   "metadata": {},
   "outputs": [],
   "source": [
    "# To save a bit of memory we can set text_X, train_X, val_X, train_y and val_y to None.\n",
    "\n",
    "test_X = train_X = val_X = train_y = val_y = None"
   ]
  },
  {
   "cell_type": "markdown",
   "metadata": {},
   "source": [
    "### Uploading Training / Validation files to S3\n",
    "\n",
    "Amazon's S3 service allows us to store files that can be access by both the built-in training models such as the XGBoost model we will be using as well as custom models such as the one we will see a little later.\n",
    "\n",
    "For this, and most other tasks we will be doing using SageMaker, there are two methods we could use. The first is to use the low level functionality of SageMaker which requires knowing each of the objects involved in the SageMaker environment. The second is to use the high level functionality in which certain choices have been made on the user's behalf. The low level approach benefits from allowing the user a great deal of flexibility while the high level approach makes development much quicker. For our purposes we will opt to use the high level approach although using the low-level approach is certainly an option.\n",
    "\n",
    "Recall the method `upload_data()` which is a member of object representing our current SageMaker session. What this method does is upload the data to the default bucket (which is created if it does not exist) into the path described by the key_prefix variable. To see this for yourself, once you have uploaded the data files, go to the S3 console and look to see where the files have been uploaded.\n",
    "\n",
    "For additional resources, see the __[SageMaker API documentation](http://sagemaker.readthedocs.io/en/latest/)__ and in addition the __[SageMaker Developer Guide.](https://docs.aws.amazon.com/sagemaker/latest/dg/)__"
   ]
  },
  {
   "cell_type": "code",
   "execution_count": 19,
   "metadata": {},
   "outputs": [],
   "source": [
    "import sagemaker\n",
    "\n",
    "session = sagemaker.Session() # Store the current SageMaker session\n",
    "\n",
    "# S3 prefix (which folder will we use)\n",
    "prefix = 'sentiment-update'\n",
    "\n",
    "test_location = session.upload_data(os.path.join(data_dir, 'test.csv'), key_prefix=prefix)\n",
    "val_location = session.upload_data(os.path.join(data_dir, 'validation.csv'), key_prefix=prefix)\n",
    "train_location = session.upload_data(os.path.join(data_dir, 'train.csv'), key_prefix=prefix)"
   ]
  },
  {
   "cell_type": "markdown",
   "metadata": {},
   "source": [
    "### Creating the XGBoost model\n",
    "\n",
    "Now that the data has been uploaded it is time to create the XGBoost model. To begin with, we need to do some setup. At this point it is worth discussing what a model is in SageMaker. It is easiest to think of a model of comprising three different objects in the SageMaker ecosystem, which interact with one another.\n",
    "\n",
    "- Model Artifacts\n",
    "- Training Code (Container)\n",
    "- Inference Code (Container)\n",
    "\n",
    "The Model Artifacts are what you might think of as the actual model itself. For example, if you were building a neural network, the model artifacts would be the weights of the various layers. In our case, for an XGBoost model, the artifacts are the actual trees that are created during training.\n",
    "\n",
    "The other two objects, the training code and the inference code are then used the manipulate the training artifacts. More precisely, the training code uses the training data that is provided and creates the model artifacts, while the inference code uses the model artifacts to make predictions on new data.\n",
    "\n",
    "The way that SageMaker runs the training and inference code is by making use of Docker containers. For now, think of a container as being a way of packaging code up so that dependencies aren't an issue."
   ]
  },
  {
   "cell_type": "code",
   "execution_count": 20,
   "metadata": {},
   "outputs": [],
   "source": [
    "from sagemaker import get_execution_role\n",
    "\n",
    "# Our current execution role is require when creating the model as the training\n",
    "# and inference code will need to access the model artifacts.\n",
    "role = get_execution_role()"
   ]
  },
  {
   "cell_type": "code",
   "execution_count": 21,
   "metadata": {},
   "outputs": [
    {
     "name": "stderr",
     "output_type": "stream",
     "text": [
      "'get_image_uri' method will be deprecated in favor of 'ImageURIProvider' class in SageMaker Python SDK v2.\n",
      "There is a more up to date SageMaker XGBoost image. To use the newer image, please set 'repo_version'='1.0-1'. For example:\n",
      "\tget_image_uri(region, 'xgboost', '1.0-1').\n"
     ]
    }
   ],
   "source": [
    "# We need to retrieve the location of the container which is provided by Amazon for using XGBoost.\n",
    "# As a matter of convenience, the training and inference code both use the same container.\n",
    "from sagemaker.amazon.amazon_estimator import get_image_uri\n",
    "\n",
    "container = get_image_uri(session.boto_region_name, 'xgboost')"
   ]
  },
  {
   "cell_type": "code",
   "execution_count": 22,
   "metadata": {},
   "outputs": [
    {
     "name": "stderr",
     "output_type": "stream",
     "text": [
      "Parameter image_name will be renamed to image_uri in SageMaker Python SDK v2.\n"
     ]
    }
   ],
   "source": [
    "# First we create a SageMaker estimator object for our model.\n",
    "xgb = sagemaker.estimator.Estimator(container, # The location of the container we wish to use\n",
    "                                    role,                                    # What is our current IAM Role\n",
    "                                    train_instance_count=1,                  # How many compute instances\n",
    "                                    train_instance_type='ml.m4.xlarge',      # What kind of compute instances\n",
    "                                    output_path='s3://{}/{}/output'.format(session.default_bucket(), prefix),\n",
    "                                    sagemaker_session=session)\n",
    "\n",
    "# And then set the algorithm specific parameters.\n",
    "xgb.set_hyperparameters(max_depth=5,\n",
    "                        eta=0.2,\n",
    "                        gamma=4,\n",
    "                        min_child_weight=6,\n",
    "                        subsample=0.8,\n",
    "                        silent=0,\n",
    "                        objective='binary:logistic',\n",
    "                        early_stopping_rounds=10,\n",
    "                        num_round=500)"
   ]
  },
  {
   "cell_type": "markdown",
   "metadata": {},
   "source": [
    "### Fit the XGBoost model\n",
    "\n",
    "Now that our model has been set up we simply need to attach the training and validation datasets and then ask SageMaker to set up the computation."
   ]
  },
  {
   "cell_type": "code",
   "execution_count": 23,
   "metadata": {},
   "outputs": [
    {
     "name": "stderr",
     "output_type": "stream",
     "text": [
      "'s3_input' class will be renamed to 'TrainingInput' in SageMaker Python SDK v2.\n",
      "'s3_input' class will be renamed to 'TrainingInput' in SageMaker Python SDK v2.\n"
     ]
    }
   ],
   "source": [
    "s3_input_train = sagemaker.s3_input(s3_data=train_location, content_type='csv')\n",
    "s3_input_validation = sagemaker.s3_input(s3_data=val_location, content_type='csv')"
   ]
  },
  {
   "cell_type": "code",
   "execution_count": 24,
   "metadata": {},
   "outputs": [
    {
     "name": "stdout",
     "output_type": "stream",
     "text": [
      "2020-11-01 02:20:03 Starting - Starting the training job...\n",
      "2020-11-01 02:20:05 Starting - Launching requested ML instances......\n",
      "2020-11-01 02:21:08 Starting - Preparing the instances for training...\n",
      "2020-11-01 02:22:01 Downloading - Downloading input data......\n",
      "2020-11-01 02:22:57 Training - Training image download completed. Training in progress..\u001b[34mArguments: train\u001b[0m\n",
      "\u001b[34m[2020-11-01:02:22:58:INFO] Running standalone xgboost training.\u001b[0m\n",
      "\u001b[34m[2020-11-01:02:22:58:INFO] File size need to be processed in the node: 238.47mb. Available memory size in the node: 8486.39mb\u001b[0m\n",
      "\u001b[34m[2020-11-01:02:22:58:INFO] Determined delimiter of CSV input is ','\u001b[0m\n",
      "\u001b[34m[02:22:58] S3DistributionType set as FullyReplicated\u001b[0m\n",
      "\u001b[34m[02:22:59] 15000x5000 matrix with 75000000 entries loaded from /opt/ml/input/data/train?format=csv&label_column=0&delimiter=,\u001b[0m\n",
      "\u001b[34m[2020-11-01:02:22:59:INFO] Determined delimiter of CSV input is ','\u001b[0m\n",
      "\u001b[34m[02:22:59] S3DistributionType set as FullyReplicated\u001b[0m\n",
      "\u001b[34m[02:23:01] 10000x5000 matrix with 50000000 entries loaded from /opt/ml/input/data/validation?format=csv&label_column=0&delimiter=,\u001b[0m\n",
      "\u001b[34m[02:23:04] src/tree/updater_prune.cc:74: tree pruning end, 1 roots, 38 extra nodes, 6 pruned nodes, max_depth=5\u001b[0m\n",
      "\u001b[34m[0]#011train-error:0.2944#011validation-error:0.2995\u001b[0m\n",
      "\u001b[34mMultiple eval metrics have been passed: 'validation-error' will be used for early stopping.\n",
      "\u001b[0m\n",
      "\u001b[34mWill train until validation-error hasn't improved in 10 rounds.\u001b[0m\n",
      "\u001b[34m[02:23:05] src/tree/updater_prune.cc:74: tree pruning end, 1 roots, 34 extra nodes, 12 pruned nodes, max_depth=5\u001b[0m\n",
      "\u001b[34m[1]#011train-error:0.2792#011validation-error:0.2861\u001b[0m\n",
      "\u001b[34m[02:23:07] src/tree/updater_prune.cc:74: tree pruning end, 1 roots, 40 extra nodes, 8 pruned nodes, max_depth=5\u001b[0m\n",
      "\u001b[34m[2]#011train-error:0.269#011validation-error:0.2716\u001b[0m\n",
      "\u001b[34m[02:23:08] src/tree/updater_prune.cc:74: tree pruning end, 1 roots, 34 extra nodes, 2 pruned nodes, max_depth=5\u001b[0m\n",
      "\u001b[34m[3]#011train-error:0.2618#011validation-error:0.2671\u001b[0m\n",
      "\u001b[34m[02:23:10] src/tree/updater_prune.cc:74: tree pruning end, 1 roots, 44 extra nodes, 4 pruned nodes, max_depth=5\u001b[0m\n",
      "\u001b[34m[4]#011train-error:0.2604#011validation-error:0.2667\u001b[0m\n",
      "\u001b[34m[02:23:11] src/tree/updater_prune.cc:74: tree pruning end, 1 roots, 34 extra nodes, 6 pruned nodes, max_depth=5\u001b[0m\n",
      "\u001b[34m[5]#011train-error:0.252#011validation-error:0.2603\u001b[0m\n",
      "\u001b[34m[02:23:12] src/tree/updater_prune.cc:74: tree pruning end, 1 roots, 34 extra nodes, 8 pruned nodes, max_depth=5\u001b[0m\n",
      "\u001b[34m[6]#011train-error:0.244933#011validation-error:0.2498\u001b[0m\n",
      "\u001b[34m[02:23:14] src/tree/updater_prune.cc:74: tree pruning end, 1 roots, 34 extra nodes, 8 pruned nodes, max_depth=5\u001b[0m\n",
      "\u001b[34m[7]#011train-error:0.239#011validation-error:0.2444\u001b[0m\n",
      "\u001b[34m[02:23:15] src/tree/updater_prune.cc:74: tree pruning end, 1 roots, 28 extra nodes, 4 pruned nodes, max_depth=5\u001b[0m\n",
      "\u001b[34m[8]#011train-error:0.230467#011validation-error:0.2349\u001b[0m\n",
      "\u001b[34m[02:23:16] src/tree/updater_prune.cc:74: tree pruning end, 1 roots, 34 extra nodes, 4 pruned nodes, max_depth=5\u001b[0m\n",
      "\u001b[34m[9]#011train-error:0.2238#011validation-error:0.2311\u001b[0m\n",
      "\u001b[34m[02:23:18] src/tree/updater_prune.cc:74: tree pruning end, 1 roots, 36 extra nodes, 4 pruned nodes, max_depth=5\u001b[0m\n",
      "\u001b[34m[10]#011train-error:0.219867#011validation-error:0.2281\u001b[0m\n",
      "\u001b[34m[02:23:19] src/tree/updater_prune.cc:74: tree pruning end, 1 roots, 42 extra nodes, 8 pruned nodes, max_depth=5\u001b[0m\n",
      "\u001b[34m[11]#011train-error:0.2148#011validation-error:0.2222\u001b[0m\n",
      "\u001b[34m[02:23:20] src/tree/updater_prune.cc:74: tree pruning end, 1 roots, 30 extra nodes, 2 pruned nodes, max_depth=5\u001b[0m\n",
      "\u001b[34m[12]#011train-error:0.211933#011validation-error:0.2187\u001b[0m\n",
      "\u001b[34m[02:23:21] src/tree/updater_prune.cc:74: tree pruning end, 1 roots, 36 extra nodes, 8 pruned nodes, max_depth=5\u001b[0m\n",
      "\u001b[34m[13]#011train-error:0.2074#011validation-error:0.2138\u001b[0m\n",
      "\u001b[34m[02:23:23] src/tree/updater_prune.cc:74: tree pruning end, 1 roots, 32 extra nodes, 10 pruned nodes, max_depth=5\u001b[0m\n",
      "\u001b[34m[14]#011train-error:0.203667#011validation-error:0.2104\u001b[0m\n",
      "\u001b[34m[02:23:24] src/tree/updater_prune.cc:74: tree pruning end, 1 roots, 32 extra nodes, 2 pruned nodes, max_depth=5\u001b[0m\n",
      "\u001b[34m[15]#011train-error:0.203267#011validation-error:0.2084\u001b[0m\n",
      "\u001b[34m[02:23:25] src/tree/updater_prune.cc:74: tree pruning end, 1 roots, 26 extra nodes, 10 pruned nodes, max_depth=5\u001b[0m\n",
      "\u001b[34m[16]#011train-error:0.200067#011validation-error:0.2051\u001b[0m\n",
      "\u001b[34m[02:23:26] src/tree/updater_prune.cc:74: tree pruning end, 1 roots, 22 extra nodes, 12 pruned nodes, max_depth=5\u001b[0m\n",
      "\u001b[34m[17]#011train-error:0.197#011validation-error:0.2047\u001b[0m\n",
      "\u001b[34m[02:23:28] src/tree/updater_prune.cc:74: tree pruning end, 1 roots, 28 extra nodes, 6 pruned nodes, max_depth=5\u001b[0m\n",
      "\u001b[34m[18]#011train-error:0.1934#011validation-error:0.2021\u001b[0m\n",
      "\u001b[34m[02:23:29] src/tree/updater_prune.cc:74: tree pruning end, 1 roots, 20 extra nodes, 6 pruned nodes, max_depth=5\u001b[0m\n",
      "\u001b[34m[19]#011train-error:0.191067#011validation-error:0.1995\u001b[0m\n",
      "\u001b[34m[02:23:30] src/tree/updater_prune.cc:74: tree pruning end, 1 roots, 30 extra nodes, 0 pruned nodes, max_depth=5\u001b[0m\n",
      "\u001b[34m[20]#011train-error:0.1892#011validation-error:0.1991\u001b[0m\n",
      "\u001b[34m[02:23:32] src/tree/updater_prune.cc:74: tree pruning end, 1 roots, 20 extra nodes, 16 pruned nodes, max_depth=5\u001b[0m\n",
      "\u001b[34m[21]#011train-error:0.1872#011validation-error:0.1963\u001b[0m\n",
      "\u001b[34m[02:23:33] src/tree/updater_prune.cc:74: tree pruning end, 1 roots, 32 extra nodes, 2 pruned nodes, max_depth=5\u001b[0m\n",
      "\u001b[34m[22]#011train-error:0.1822#011validation-error:0.1928\u001b[0m\n",
      "\u001b[34m[02:23:34] src/tree/updater_prune.cc:74: tree pruning end, 1 roots, 30 extra nodes, 6 pruned nodes, max_depth=5\u001b[0m\n",
      "\u001b[34m[23]#011train-error:0.178867#011validation-error:0.1909\u001b[0m\n",
      "\u001b[34m[02:23:35] src/tree/updater_prune.cc:74: tree pruning end, 1 roots, 20 extra nodes, 8 pruned nodes, max_depth=5\u001b[0m\n",
      "\u001b[34m[24]#011train-error:0.1776#011validation-error:0.1889\u001b[0m\n",
      "\u001b[34m[02:23:37] src/tree/updater_prune.cc:74: tree pruning end, 1 roots, 20 extra nodes, 14 pruned nodes, max_depth=5\u001b[0m\n",
      "\u001b[34m[25]#011train-error:0.175333#011validation-error:0.1883\u001b[0m\n",
      "\u001b[34m[02:23:38] src/tree/updater_prune.cc:74: tree pruning end, 1 roots, 30 extra nodes, 10 pruned nodes, max_depth=5\u001b[0m\n",
      "\u001b[34m[26]#011train-error:0.1732#011validation-error:0.1862\u001b[0m\n",
      "\u001b[34m[02:23:39] src/tree/updater_prune.cc:74: tree pruning end, 1 roots, 28 extra nodes, 8 pruned nodes, max_depth=5\u001b[0m\n",
      "\u001b[34m[27]#011train-error:0.171067#011validation-error:0.1838\u001b[0m\n",
      "\u001b[34m[02:23:41] src/tree/updater_prune.cc:74: tree pruning end, 1 roots, 32 extra nodes, 10 pruned nodes, max_depth=5\u001b[0m\n",
      "\u001b[34m[28]#011train-error:0.170333#011validation-error:0.1826\u001b[0m\n",
      "\u001b[34m[02:23:42] src/tree/updater_prune.cc:74: tree pruning end, 1 roots, 22 extra nodes, 8 pruned nodes, max_depth=5\u001b[0m\n",
      "\u001b[34m[29]#011train-error:0.167933#011validation-error:0.1832\u001b[0m\n",
      "\u001b[34m[02:23:43] src/tree/updater_prune.cc:74: tree pruning end, 1 roots, 18 extra nodes, 6 pruned nodes, max_depth=5\u001b[0m\n",
      "\u001b[34m[30]#011train-error:0.167467#011validation-error:0.1825\u001b[0m\n",
      "\u001b[34m[02:23:44] src/tree/updater_prune.cc:74: tree pruning end, 1 roots, 14 extra nodes, 10 pruned nodes, max_depth=5\u001b[0m\n",
      "\u001b[34m[31]#011train-error:0.165533#011validation-error:0.183\u001b[0m\n",
      "\u001b[34m[02:23:46] src/tree/updater_prune.cc:74: tree pruning end, 1 roots, 16 extra nodes, 8 pruned nodes, max_depth=5\u001b[0m\n",
      "\u001b[34m[32]#011train-error:0.164733#011validation-error:0.1811\u001b[0m\n",
      "\u001b[34m[02:23:47] src/tree/updater_prune.cc:74: tree pruning end, 1 roots, 36 extra nodes, 4 pruned nodes, max_depth=5\u001b[0m\n",
      "\u001b[34m[33]#011train-error:0.162067#011validation-error:0.1803\u001b[0m\n",
      "\u001b[34m[02:23:48] src/tree/updater_prune.cc:74: tree pruning end, 1 roots, 22 extra nodes, 4 pruned nodes, max_depth=5\u001b[0m\n",
      "\u001b[34m[34]#011train-error:0.159933#011validation-error:0.1799\u001b[0m\n",
      "\u001b[34m[02:23:49] src/tree/updater_prune.cc:74: tree pruning end, 1 roots, 22 extra nodes, 10 pruned nodes, max_depth=5\u001b[0m\n",
      "\u001b[34m[35]#011train-error:0.158267#011validation-error:0.1782\u001b[0m\n",
      "\u001b[34m[02:23:51] src/tree/updater_prune.cc:74: tree pruning end, 1 roots, 30 extra nodes, 8 pruned nodes, max_depth=5\u001b[0m\n",
      "\u001b[34m[36]#011train-error:0.158#011validation-error:0.1782\u001b[0m\n",
      "\u001b[34m[02:23:52] src/tree/updater_prune.cc:74: tree pruning end, 1 roots, 28 extra nodes, 8 pruned nodes, max_depth=5\u001b[0m\n",
      "\u001b[34m[37]#011train-error:0.155333#011validation-error:0.1769\u001b[0m\n",
      "\u001b[34m[02:23:53] src/tree/updater_prune.cc:74: tree pruning end, 1 roots, 30 extra nodes, 8 pruned nodes, max_depth=5\u001b[0m\n",
      "\u001b[34m[38]#011train-error:0.154667#011validation-error:0.1785\u001b[0m\n",
      "\u001b[34m[02:23:54] src/tree/updater_prune.cc:74: tree pruning end, 1 roots, 22 extra nodes, 12 pruned nodes, max_depth=5\u001b[0m\n",
      "\u001b[34m[39]#011train-error:0.152933#011validation-error:0.1779\u001b[0m\n",
      "\u001b[34m[02:23:56] src/tree/updater_prune.cc:74: tree pruning end, 1 roots, 22 extra nodes, 4 pruned nodes, max_depth=5\u001b[0m\n",
      "\u001b[34m[40]#011train-error:0.151267#011validation-error:0.1748\u001b[0m\n",
      "\u001b[34m[02:23:57] src/tree/updater_prune.cc:74: tree pruning end, 1 roots, 24 extra nodes, 6 pruned nodes, max_depth=5\u001b[0m\n",
      "\u001b[34m[41]#011train-error:0.150867#011validation-error:0.1745\u001b[0m\n",
      "\u001b[34m[02:23:58] src/tree/updater_prune.cc:74: tree pruning end, 1 roots, 22 extra nodes, 12 pruned nodes, max_depth=5\u001b[0m\n",
      "\u001b[34m[42]#011train-error:0.149933#011validation-error:0.1731\u001b[0m\n",
      "\u001b[34m[02:24:00] src/tree/updater_prune.cc:74: tree pruning end, 1 roots, 20 extra nodes, 6 pruned nodes, max_depth=5\u001b[0m\n",
      "\u001b[34m[43]#011train-error:0.148267#011validation-error:0.1717\u001b[0m\n",
      "\u001b[34m[02:24:01] src/tree/updater_prune.cc:74: tree pruning end, 1 roots, 32 extra nodes, 10 pruned nodes, max_depth=5\u001b[0m\n",
      "\u001b[34m[44]#011train-error:0.146733#011validation-error:0.1706\u001b[0m\n"
     ]
    },
    {
     "name": "stdout",
     "output_type": "stream",
     "text": [
      "\u001b[34m[02:24:02] src/tree/updater_prune.cc:74: tree pruning end, 1 roots, 36 extra nodes, 6 pruned nodes, max_depth=5\u001b[0m\n",
      "\u001b[34m[45]#011train-error:0.145467#011validation-error:0.1695\u001b[0m\n",
      "\u001b[34m[02:24:03] src/tree/updater_prune.cc:74: tree pruning end, 1 roots, 12 extra nodes, 8 pruned nodes, max_depth=5\u001b[0m\n",
      "\u001b[34m[46]#011train-error:0.1442#011validation-error:0.1683\u001b[0m\n",
      "\u001b[34m[02:24:05] src/tree/updater_prune.cc:74: tree pruning end, 1 roots, 32 extra nodes, 2 pruned nodes, max_depth=5\u001b[0m\n",
      "\u001b[34m[47]#011train-error:0.143133#011validation-error:0.1674\u001b[0m\n",
      "\u001b[34m[02:24:06] src/tree/updater_prune.cc:74: tree pruning end, 1 roots, 12 extra nodes, 18 pruned nodes, max_depth=5\u001b[0m\n",
      "\u001b[34m[48]#011train-error:0.142667#011validation-error:0.1679\u001b[0m\n",
      "\u001b[34m[02:24:07] src/tree/updater_prune.cc:74: tree pruning end, 1 roots, 16 extra nodes, 12 pruned nodes, max_depth=5\u001b[0m\n",
      "\u001b[34m[49]#011train-error:0.141733#011validation-error:0.1674\u001b[0m\n",
      "\u001b[34m[02:24:09] src/tree/updater_prune.cc:74: tree pruning end, 1 roots, 20 extra nodes, 10 pruned nodes, max_depth=5\u001b[0m\n",
      "\u001b[34m[50]#011train-error:0.140667#011validation-error:0.1661\u001b[0m\n",
      "\u001b[34m[02:24:10] src/tree/updater_prune.cc:74: tree pruning end, 1 roots, 28 extra nodes, 8 pruned nodes, max_depth=5\u001b[0m\n",
      "\u001b[34m[51]#011train-error:0.139467#011validation-error:0.1643\u001b[0m\n",
      "\u001b[34m[02:24:11] src/tree/updater_prune.cc:74: tree pruning end, 1 roots, 16 extra nodes, 6 pruned nodes, max_depth=5\u001b[0m\n",
      "\u001b[34m[52]#011train-error:0.1394#011validation-error:0.1631\u001b[0m\n",
      "\u001b[34m[02:24:12] src/tree/updater_prune.cc:74: tree pruning end, 1 roots, 20 extra nodes, 12 pruned nodes, max_depth=5\u001b[0m\n",
      "\u001b[34m[53]#011train-error:0.138267#011validation-error:0.1632\u001b[0m\n",
      "\u001b[34m[02:24:14] src/tree/updater_prune.cc:74: tree pruning end, 1 roots, 22 extra nodes, 6 pruned nodes, max_depth=5\u001b[0m\n",
      "\u001b[34m[54]#011train-error:0.136333#011validation-error:0.163\u001b[0m\n",
      "\u001b[34m[02:24:15] src/tree/updater_prune.cc:74: tree pruning end, 1 roots, 14 extra nodes, 8 pruned nodes, max_depth=5\u001b[0m\n",
      "\u001b[34m[55]#011train-error:0.1356#011validation-error:0.1627\u001b[0m\n",
      "\u001b[34m[02:24:16] src/tree/updater_prune.cc:74: tree pruning end, 1 roots, 18 extra nodes, 8 pruned nodes, max_depth=5\u001b[0m\n",
      "\u001b[34m[56]#011train-error:0.135933#011validation-error:0.1624\u001b[0m\n",
      "\u001b[34m[02:24:17] src/tree/updater_prune.cc:74: tree pruning end, 1 roots, 12 extra nodes, 6 pruned nodes, max_depth=5\u001b[0m\n",
      "\u001b[34m[57]#011train-error:0.134867#011validation-error:0.1616\u001b[0m\n",
      "\u001b[34m[02:24:19] src/tree/updater_prune.cc:74: tree pruning end, 1 roots, 12 extra nodes, 8 pruned nodes, max_depth=5\u001b[0m\n",
      "\u001b[34m[58]#011train-error:0.134733#011validation-error:0.1607\u001b[0m\n",
      "\u001b[34m[02:24:20] src/tree/updater_prune.cc:74: tree pruning end, 1 roots, 12 extra nodes, 4 pruned nodes, max_depth=5\u001b[0m\n",
      "\u001b[34m[59]#011train-error:0.1336#011validation-error:0.1598\u001b[0m\n",
      "\u001b[34m[02:24:21] src/tree/updater_prune.cc:74: tree pruning end, 1 roots, 34 extra nodes, 8 pruned nodes, max_depth=5\u001b[0m\n",
      "\u001b[34m[60]#011train-error:0.131667#011validation-error:0.1585\u001b[0m\n",
      "\u001b[34m[02:24:23] src/tree/updater_prune.cc:74: tree pruning end, 1 roots, 20 extra nodes, 8 pruned nodes, max_depth=5\u001b[0m\n",
      "\u001b[34m[61]#011train-error:0.130267#011validation-error:0.1579\u001b[0m\n",
      "\u001b[34m[02:24:24] src/tree/updater_prune.cc:74: tree pruning end, 1 roots, 26 extra nodes, 10 pruned nodes, max_depth=5\u001b[0m\n",
      "\u001b[34m[62]#011train-error:0.129733#011validation-error:0.1579\u001b[0m\n",
      "\u001b[34m[02:24:25] src/tree/updater_prune.cc:74: tree pruning end, 1 roots, 26 extra nodes, 10 pruned nodes, max_depth=5\u001b[0m\n",
      "\u001b[34m[63]#011train-error:0.129333#011validation-error:0.1568\u001b[0m\n",
      "\u001b[34m[02:24:26] src/tree/updater_prune.cc:74: tree pruning end, 1 roots, 16 extra nodes, 16 pruned nodes, max_depth=5\u001b[0m\n",
      "\u001b[34m[64]#011train-error:0.129267#011validation-error:0.1569\u001b[0m\n",
      "\u001b[34m[02:24:28] src/tree/updater_prune.cc:74: tree pruning end, 1 roots, 12 extra nodes, 14 pruned nodes, max_depth=5\u001b[0m\n",
      "\u001b[34m[65]#011train-error:0.128133#011validation-error:0.1563\u001b[0m\n",
      "\u001b[34m[02:24:29] src/tree/updater_prune.cc:74: tree pruning end, 1 roots, 14 extra nodes, 12 pruned nodes, max_depth=5\u001b[0m\n",
      "\u001b[34m[66]#011train-error:0.1262#011validation-error:0.1566\u001b[0m\n",
      "\u001b[34m[02:24:30] src/tree/updater_prune.cc:74: tree pruning end, 1 roots, 18 extra nodes, 6 pruned nodes, max_depth=5\u001b[0m\n",
      "\u001b[34m[67]#011train-error:0.1246#011validation-error:0.1565\u001b[0m\n",
      "\u001b[34m[02:24:31] src/tree/updater_prune.cc:74: tree pruning end, 1 roots, 18 extra nodes, 14 pruned nodes, max_depth=5\u001b[0m\n",
      "\u001b[34m[68]#011train-error:0.125467#011validation-error:0.1556\u001b[0m\n",
      "\u001b[34m[02:24:33] src/tree/updater_prune.cc:74: tree pruning end, 1 roots, 12 extra nodes, 6 pruned nodes, max_depth=5\u001b[0m\n",
      "\u001b[34m[69]#011train-error:0.124733#011validation-error:0.155\u001b[0m\n",
      "\u001b[34m[02:24:34] src/tree/updater_prune.cc:74: tree pruning end, 1 roots, 22 extra nodes, 8 pruned nodes, max_depth=5\u001b[0m\n",
      "\u001b[34m[70]#011train-error:0.1236#011validation-error:0.1548\u001b[0m\n",
      "\u001b[34m[02:24:35] src/tree/updater_prune.cc:74: tree pruning end, 1 roots, 14 extra nodes, 6 pruned nodes, max_depth=5\u001b[0m\n",
      "\u001b[34m[71]#011train-error:0.123333#011validation-error:0.1541\u001b[0m\n",
      "\u001b[34m[02:24:36] src/tree/updater_prune.cc:74: tree pruning end, 1 roots, 16 extra nodes, 0 pruned nodes, max_depth=5\u001b[0m\n",
      "\u001b[34m[72]#011train-error:0.123#011validation-error:0.1551\u001b[0m\n",
      "\u001b[34m[02:24:38] src/tree/updater_prune.cc:74: tree pruning end, 1 roots, 16 extra nodes, 20 pruned nodes, max_depth=5\u001b[0m\n",
      "\u001b[34m[73]#011train-error:0.122533#011validation-error:0.1539\u001b[0m\n",
      "\u001b[34m[02:24:39] src/tree/updater_prune.cc:74: tree pruning end, 1 roots, 16 extra nodes, 12 pruned nodes, max_depth=5\u001b[0m\n",
      "\u001b[34m[74]#011train-error:0.122067#011validation-error:0.1539\u001b[0m\n",
      "\u001b[34m[02:24:40] src/tree/updater_prune.cc:74: tree pruning end, 1 roots, 20 extra nodes, 16 pruned nodes, max_depth=5\u001b[0m\n",
      "\u001b[34m[75]#011train-error:0.119933#011validation-error:0.1536\u001b[0m\n",
      "\u001b[34m[02:24:42] src/tree/updater_prune.cc:74: tree pruning end, 1 roots, 14 extra nodes, 2 pruned nodes, max_depth=5\u001b[0m\n",
      "\u001b[34m[76]#011train-error:0.120467#011validation-error:0.1529\u001b[0m\n",
      "\u001b[34m[02:24:43] src/tree/updater_prune.cc:74: tree pruning end, 1 roots, 20 extra nodes, 8 pruned nodes, max_depth=5\u001b[0m\n",
      "\u001b[34m[77]#011train-error:0.119867#011validation-error:0.1528\u001b[0m\n",
      "\u001b[34m[02:24:44] src/tree/updater_prune.cc:74: tree pruning end, 1 roots, 16 extra nodes, 6 pruned nodes, max_depth=5\u001b[0m\n",
      "\u001b[34m[78]#011train-error:0.119333#011validation-error:0.1521\u001b[0m\n",
      "\u001b[34m[02:24:45] src/tree/updater_prune.cc:74: tree pruning end, 1 roots, 16 extra nodes, 14 pruned nodes, max_depth=5\u001b[0m\n",
      "\u001b[34m[79]#011train-error:0.118#011validation-error:0.1524\u001b[0m\n",
      "\u001b[34m[02:24:47] src/tree/updater_prune.cc:74: tree pruning end, 1 roots, 18 extra nodes, 14 pruned nodes, max_depth=5\u001b[0m\n",
      "\u001b[34m[80]#011train-error:0.1178#011validation-error:0.1517\u001b[0m\n",
      "\u001b[34m[02:24:48] src/tree/updater_prune.cc:74: tree pruning end, 1 roots, 18 extra nodes, 2 pruned nodes, max_depth=5\u001b[0m\n",
      "\u001b[34m[81]#011train-error:0.116933#011validation-error:0.1513\u001b[0m\n",
      "\u001b[34m[02:24:49] src/tree/updater_prune.cc:74: tree pruning end, 1 roots, 20 extra nodes, 10 pruned nodes, max_depth=5\u001b[0m\n",
      "\u001b[34m[82]#011train-error:0.116#011validation-error:0.1506\u001b[0m\n",
      "\u001b[34m[02:24:50] src/tree/updater_prune.cc:74: tree pruning end, 1 roots, 18 extra nodes, 6 pruned nodes, max_depth=5\u001b[0m\n",
      "\u001b[34m[83]#011train-error:0.116467#011validation-error:0.1518\u001b[0m\n",
      "\u001b[34m[02:24:52] src/tree/updater_prune.cc:74: tree pruning end, 1 roots, 12 extra nodes, 10 pruned nodes, max_depth=5\u001b[0m\n",
      "\u001b[34m[84]#011train-error:0.1154#011validation-error:0.1518\u001b[0m\n",
      "\u001b[34m[02:24:53] src/tree/updater_prune.cc:74: tree pruning end, 1 roots, 12 extra nodes, 10 pruned nodes, max_depth=5\u001b[0m\n",
      "\u001b[34m[85]#011train-error:0.1156#011validation-error:0.1504\u001b[0m\n",
      "\u001b[34m[02:24:54] src/tree/updater_prune.cc:74: tree pruning end, 1 roots, 12 extra nodes, 12 pruned nodes, max_depth=5\u001b[0m\n",
      "\u001b[34m[86]#011train-error:0.115533#011validation-error:0.1506\u001b[0m\n",
      "\u001b[34m[02:24:56] src/tree/updater_prune.cc:74: tree pruning end, 1 roots, 20 extra nodes, 8 pruned nodes, max_depth=5\u001b[0m\n",
      "\u001b[34m[87]#011train-error:0.113933#011validation-error:0.1505\u001b[0m\n",
      "\u001b[34m[02:24:57] src/tree/updater_prune.cc:74: tree pruning end, 1 roots, 24 extra nodes, 14 pruned nodes, max_depth=5\u001b[0m\n",
      "\u001b[34m[88]#011train-error:0.114667#011validation-error:0.1504\u001b[0m\n",
      "\u001b[34m[02:24:58] src/tree/updater_prune.cc:74: tree pruning end, 1 roots, 12 extra nodes, 12 pruned nodes, max_depth=5\u001b[0m\n",
      "\u001b[34m[89]#011train-error:0.114467#011validation-error:0.15\u001b[0m\n",
      "\u001b[34m[02:24:59] src/tree/updater_prune.cc:74: tree pruning end, 1 roots, 20 extra nodes, 8 pruned nodes, max_depth=5\u001b[0m\n",
      "\u001b[34m[90]#011train-error:0.113933#011validation-error:0.1491\u001b[0m\n",
      "\u001b[34m[02:25:01] src/tree/updater_prune.cc:74: tree pruning end, 1 roots, 12 extra nodes, 12 pruned nodes, max_depth=5\u001b[0m\n",
      "\u001b[34m[91]#011train-error:0.1134#011validation-error:0.149\u001b[0m\n",
      "\u001b[34m[02:25:02] src/tree/updater_prune.cc:74: tree pruning end, 1 roots, 12 extra nodes, 12 pruned nodes, max_depth=5\u001b[0m\n",
      "\u001b[34m[92]#011train-error:0.1134#011validation-error:0.1485\u001b[0m\n"
     ]
    },
    {
     "name": "stdout",
     "output_type": "stream",
     "text": [
      "\u001b[34m[02:25:03] src/tree/updater_prune.cc:74: tree pruning end, 1 roots, 22 extra nodes, 8 pruned nodes, max_depth=5\u001b[0m\n",
      "\u001b[34m[93]#011train-error:0.112533#011validation-error:0.1484\u001b[0m\n",
      "\u001b[34m[02:25:05] src/tree/updater_prune.cc:74: tree pruning end, 1 roots, 28 extra nodes, 16 pruned nodes, max_depth=5\u001b[0m\n",
      "\u001b[34m[94]#011train-error:0.1118#011validation-error:0.1486\u001b[0m\n",
      "\u001b[34m[02:25:06] src/tree/updater_prune.cc:74: tree pruning end, 1 roots, 18 extra nodes, 8 pruned nodes, max_depth=5\u001b[0m\n",
      "\u001b[34m[95]#011train-error:0.111467#011validation-error:0.1479\u001b[0m\n",
      "\u001b[34m[02:25:07] src/tree/updater_prune.cc:74: tree pruning end, 1 roots, 20 extra nodes, 18 pruned nodes, max_depth=5\u001b[0m\n",
      "\u001b[34m[96]#011train-error:0.110933#011validation-error:0.147\u001b[0m\n",
      "\u001b[34m[02:25:08] src/tree/updater_prune.cc:74: tree pruning end, 1 roots, 22 extra nodes, 6 pruned nodes, max_depth=5\u001b[0m\n",
      "\u001b[34m[97]#011train-error:0.110533#011validation-error:0.1477\u001b[0m\n",
      "\u001b[34m[02:25:10] src/tree/updater_prune.cc:74: tree pruning end, 1 roots, 36 extra nodes, 4 pruned nodes, max_depth=5\u001b[0m\n",
      "\u001b[34m[98]#011train-error:0.1092#011validation-error:0.1474\u001b[0m\n",
      "\u001b[34m[02:25:11] src/tree/updater_prune.cc:74: tree pruning end, 1 roots, 22 extra nodes, 14 pruned nodes, max_depth=5\u001b[0m\n",
      "\u001b[34m[99]#011train-error:0.1094#011validation-error:0.1477\u001b[0m\n",
      "\u001b[34m[02:25:12] src/tree/updater_prune.cc:74: tree pruning end, 1 roots, 18 extra nodes, 8 pruned nodes, max_depth=5\u001b[0m\n",
      "\u001b[34m[100]#011train-error:0.108333#011validation-error:0.147\u001b[0m\n",
      "\u001b[34m[02:25:14] src/tree/updater_prune.cc:74: tree pruning end, 1 roots, 14 extra nodes, 8 pruned nodes, max_depth=5\u001b[0m\n",
      "\u001b[34m[101]#011train-error:0.1072#011validation-error:0.1457\u001b[0m\n",
      "\u001b[34m[02:25:15] src/tree/updater_prune.cc:74: tree pruning end, 1 roots, 10 extra nodes, 0 pruned nodes, max_depth=5\u001b[0m\n",
      "\u001b[34m[102]#011train-error:0.107467#011validation-error:0.1455\u001b[0m\n",
      "\u001b[34m[02:25:16] src/tree/updater_prune.cc:74: tree pruning end, 1 roots, 18 extra nodes, 10 pruned nodes, max_depth=5\u001b[0m\n",
      "\u001b[34m[103]#011train-error:0.106933#011validation-error:0.1455\u001b[0m\n",
      "\u001b[34m[02:25:17] src/tree/updater_prune.cc:74: tree pruning end, 1 roots, 12 extra nodes, 8 pruned nodes, max_depth=5\u001b[0m\n",
      "\u001b[34m[104]#011train-error:0.106467#011validation-error:0.1451\u001b[0m\n",
      "\u001b[34m[02:25:19] src/tree/updater_prune.cc:74: tree pruning end, 1 roots, 24 extra nodes, 10 pruned nodes, max_depth=5\u001b[0m\n",
      "\u001b[34m[105]#011train-error:0.1056#011validation-error:0.1439\u001b[0m\n",
      "\u001b[34m[02:25:20] src/tree/updater_prune.cc:74: tree pruning end, 1 roots, 16 extra nodes, 6 pruned nodes, max_depth=5\u001b[0m\n",
      "\u001b[34m[106]#011train-error:0.105467#011validation-error:0.1436\u001b[0m\n",
      "\u001b[34m[02:25:21] src/tree/updater_prune.cc:74: tree pruning end, 1 roots, 22 extra nodes, 6 pruned nodes, max_depth=5\u001b[0m\n",
      "\u001b[34m[107]#011train-error:0.104667#011validation-error:0.1436\u001b[0m\n",
      "\u001b[34m[02:25:22] src/tree/updater_prune.cc:74: tree pruning end, 1 roots, 18 extra nodes, 10 pruned nodes, max_depth=5\u001b[0m\n",
      "\u001b[34m[108]#011train-error:0.104067#011validation-error:0.1446\u001b[0m\n",
      "\u001b[34m[02:25:24] src/tree/updater_prune.cc:74: tree pruning end, 1 roots, 14 extra nodes, 4 pruned nodes, max_depth=5\u001b[0m\n",
      "\u001b[34m[109]#011train-error:0.1042#011validation-error:0.1439\u001b[0m\n",
      "\u001b[34m[02:25:25] src/tree/updater_prune.cc:74: tree pruning end, 1 roots, 14 extra nodes, 10 pruned nodes, max_depth=5\u001b[0m\n",
      "\u001b[34m[110]#011train-error:0.103667#011validation-error:0.1446\u001b[0m\n",
      "\u001b[34m[02:25:26] src/tree/updater_prune.cc:74: tree pruning end, 1 roots, 16 extra nodes, 6 pruned nodes, max_depth=5\u001b[0m\n",
      "\u001b[34m[111]#011train-error:0.104133#011validation-error:0.1429\u001b[0m\n",
      "\u001b[34m[02:25:28] src/tree/updater_prune.cc:74: tree pruning end, 1 roots, 14 extra nodes, 10 pruned nodes, max_depth=5\u001b[0m\n",
      "\u001b[34m[112]#011train-error:0.1036#011validation-error:0.143\u001b[0m\n",
      "\u001b[34m[02:25:29] src/tree/updater_prune.cc:74: tree pruning end, 1 roots, 24 extra nodes, 12 pruned nodes, max_depth=5\u001b[0m\n",
      "\u001b[34m[113]#011train-error:0.102067#011validation-error:0.1428\u001b[0m\n",
      "\u001b[34m[02:25:30] src/tree/updater_prune.cc:74: tree pruning end, 1 roots, 14 extra nodes, 8 pruned nodes, max_depth=5\u001b[0m\n",
      "\u001b[34m[114]#011train-error:0.101267#011validation-error:0.143\u001b[0m\n",
      "\u001b[34m[02:25:31] src/tree/updater_prune.cc:74: tree pruning end, 1 roots, 10 extra nodes, 6 pruned nodes, max_depth=5\u001b[0m\n",
      "\u001b[34m[115]#011train-error:0.101733#011validation-error:0.1424\u001b[0m\n",
      "\u001b[34m[02:25:33] src/tree/updater_prune.cc:74: tree pruning end, 1 roots, 14 extra nodes, 12 pruned nodes, max_depth=5\u001b[0m\n",
      "\u001b[34m[116]#011train-error:0.1016#011validation-error:0.1425\u001b[0m\n",
      "\u001b[34m[02:25:34] src/tree/updater_prune.cc:74: tree pruning end, 1 roots, 24 extra nodes, 10 pruned nodes, max_depth=5\u001b[0m\n",
      "\u001b[34m[117]#011train-error:0.1012#011validation-error:0.1433\u001b[0m\n",
      "\u001b[34m[02:25:35] src/tree/updater_prune.cc:74: tree pruning end, 1 roots, 18 extra nodes, 8 pruned nodes, max_depth=5\u001b[0m\n",
      "\u001b[34m[118]#011train-error:0.100267#011validation-error:0.1425\u001b[0m\n",
      "\u001b[34m[02:25:36] src/tree/updater_prune.cc:74: tree pruning end, 1 roots, 10 extra nodes, 18 pruned nodes, max_depth=5\u001b[0m\n",
      "\u001b[34m[119]#011train-error:0.099467#011validation-error:0.1426\u001b[0m\n",
      "\u001b[34m[02:25:38] src/tree/updater_prune.cc:74: tree pruning end, 1 roots, 20 extra nodes, 6 pruned nodes, max_depth=5\u001b[0m\n",
      "\u001b[34m[120]#011train-error:0.098733#011validation-error:0.1428\u001b[0m\n",
      "\u001b[34m[02:25:39] src/tree/updater_prune.cc:74: tree pruning end, 1 roots, 16 extra nodes, 10 pruned nodes, max_depth=5\u001b[0m\n",
      "\u001b[34m[121]#011train-error:0.098133#011validation-error:0.142\u001b[0m\n",
      "\u001b[34m[02:25:40] src/tree/updater_prune.cc:74: tree pruning end, 1 roots, 10 extra nodes, 14 pruned nodes, max_depth=5\u001b[0m\n",
      "\u001b[34m[122]#011train-error:0.097667#011validation-error:0.1421\u001b[0m\n",
      "\u001b[34m[02:25:42] src/tree/updater_prune.cc:74: tree pruning end, 1 roots, 16 extra nodes, 0 pruned nodes, max_depth=5\u001b[0m\n",
      "\u001b[34m[123]#011train-error:0.097#011validation-error:0.1427\u001b[0m\n",
      "\u001b[34m[02:25:43] src/tree/updater_prune.cc:74: tree pruning end, 1 roots, 16 extra nodes, 10 pruned nodes, max_depth=5\u001b[0m\n",
      "\u001b[34m[124]#011train-error:0.097#011validation-error:0.1423\u001b[0m\n",
      "\u001b[34m[02:25:44] src/tree/updater_prune.cc:74: tree pruning end, 1 roots, 12 extra nodes, 16 pruned nodes, max_depth=5\u001b[0m\n",
      "\u001b[34m[125]#011train-error:0.0962#011validation-error:0.1421\u001b[0m\n",
      "\u001b[34m[02:25:45] src/tree/updater_prune.cc:74: tree pruning end, 1 roots, 14 extra nodes, 10 pruned nodes, max_depth=5\u001b[0m\n",
      "\u001b[34m[126]#011train-error:0.095733#011validation-error:0.1419\u001b[0m\n",
      "\u001b[34m[02:25:47] src/tree/updater_prune.cc:74: tree pruning end, 1 roots, 18 extra nodes, 14 pruned nodes, max_depth=5\u001b[0m\n",
      "\u001b[34m[127]#011train-error:0.095533#011validation-error:0.1418\u001b[0m\n",
      "\u001b[34m[02:25:48] src/tree/updater_prune.cc:74: tree pruning end, 1 roots, 10 extra nodes, 14 pruned nodes, max_depth=5\u001b[0m\n",
      "\u001b[34m[128]#011train-error:0.096067#011validation-error:0.1418\u001b[0m\n",
      "\u001b[34m[02:25:49] src/tree/updater_prune.cc:74: tree pruning end, 1 roots, 12 extra nodes, 8 pruned nodes, max_depth=5\u001b[0m\n",
      "\u001b[34m[129]#011train-error:0.095733#011validation-error:0.1413\u001b[0m\n",
      "\u001b[34m[02:25:51] src/tree/updater_prune.cc:74: tree pruning end, 1 roots, 12 extra nodes, 8 pruned nodes, max_depth=5\u001b[0m\n",
      "\u001b[34m[130]#011train-error:0.0952#011validation-error:0.1405\u001b[0m\n",
      "\u001b[34m[02:25:52] src/tree/updater_prune.cc:74: tree pruning end, 1 roots, 20 extra nodes, 6 pruned nodes, max_depth=5\u001b[0m\n",
      "\u001b[34m[131]#011train-error:0.094733#011validation-error:0.1398\u001b[0m\n",
      "\u001b[34m[02:25:53] src/tree/updater_prune.cc:74: tree pruning end, 1 roots, 22 extra nodes, 8 pruned nodes, max_depth=5\u001b[0m\n",
      "\u001b[34m[132]#011train-error:0.093933#011validation-error:0.1407\u001b[0m\n",
      "\u001b[34m[02:25:54] src/tree/updater_prune.cc:74: tree pruning end, 1 roots, 14 extra nodes, 18 pruned nodes, max_depth=5\u001b[0m\n",
      "\u001b[34m[133]#011train-error:0.0938#011validation-error:0.1403\u001b[0m\n",
      "\u001b[34m[02:25:56] src/tree/updater_prune.cc:74: tree pruning end, 1 roots, 24 extra nodes, 10 pruned nodes, max_depth=5\u001b[0m\n",
      "\u001b[34m[134]#011train-error:0.0938#011validation-error:0.1402\u001b[0m\n",
      "\u001b[34m[02:25:57] src/tree/updater_prune.cc:74: tree pruning end, 1 roots, 10 extra nodes, 22 pruned nodes, max_depth=5\u001b[0m\n",
      "\u001b[34m[135]#011train-error:0.0934#011validation-error:0.1408\u001b[0m\n",
      "\u001b[34m[02:25:58] src/tree/updater_prune.cc:74: tree pruning end, 1 roots, 10 extra nodes, 2 pruned nodes, max_depth=5\u001b[0m\n",
      "\u001b[34m[136]#011train-error:0.0932#011validation-error:0.1404\u001b[0m\n"
     ]
    },
    {
     "name": "stdout",
     "output_type": "stream",
     "text": [
      "\u001b[34m[02:26:00] src/tree/updater_prune.cc:74: tree pruning end, 1 roots, 16 extra nodes, 10 pruned nodes, max_depth=5\u001b[0m\n",
      "\u001b[34m[137]#011train-error:0.0928#011validation-error:0.1409\u001b[0m\n",
      "\u001b[34m[02:26:01] src/tree/updater_prune.cc:74: tree pruning end, 1 roots, 16 extra nodes, 8 pruned nodes, max_depth=5\u001b[0m\n",
      "\u001b[34m[138]#011train-error:0.0922#011validation-error:0.14\u001b[0m\n",
      "\u001b[34m[02:26:02] src/tree/updater_prune.cc:74: tree pruning end, 1 roots, 14 extra nodes, 14 pruned nodes, max_depth=5\u001b[0m\n",
      "\u001b[34m[139]#011train-error:0.0916#011validation-error:0.1401\u001b[0m\n",
      "\u001b[34m[02:26:03] src/tree/updater_prune.cc:74: tree pruning end, 1 roots, 10 extra nodes, 0 pruned nodes, max_depth=5\u001b[0m\n",
      "\u001b[34m[140]#011train-error:0.091667#011validation-error:0.1403\u001b[0m\n",
      "\u001b[34m[02:26:05] src/tree/updater_prune.cc:74: tree pruning end, 1 roots, 12 extra nodes, 10 pruned nodes, max_depth=5\u001b[0m\n",
      "\u001b[34m[141]#011train-error:0.0912#011validation-error:0.1399\u001b[0m\n",
      "\u001b[34mStopping. Best iteration:\u001b[0m\n",
      "\u001b[34m[131]#011train-error:0.094733#011validation-error:0.1398\n",
      "\u001b[0m\n",
      "\n",
      "2020-11-01 02:26:17 Uploading - Uploading generated training model\n",
      "2020-11-01 02:26:17 Completed - Training job completed\n",
      "Training seconds: 256\n",
      "Billable seconds: 256\n"
     ]
    }
   ],
   "source": [
    "xgb.fit({'train': s3_input_train, 'validation': s3_input_validation})"
   ]
  },
  {
   "cell_type": "markdown",
   "metadata": {},
   "source": [
    "### Testing the model\n",
    "\n",
    "Now that we've fit our XGBoost model, it's time to see how well it performs. To do this we will use SageMakers Batch Transform functionality. Batch Transform is a convenient way to perform inference on a large dataset in a way that is not realtime. That is, we don't necessarily need to use our model's results immediately and instead we can peform inference on a large number of samples. An example of this in industry might be peforming an end of month report. This method of inference can also be useful to us as it means to can perform inference on our entire test set. \n",
    "\n",
    "To perform a Batch Transformation we need to first create a transformer objects from our trained estimator object."
   ]
  },
  {
   "cell_type": "code",
   "execution_count": 25,
   "metadata": {},
   "outputs": [
    {
     "name": "stderr",
     "output_type": "stream",
     "text": [
      "Parameter image will be renamed to image_uri in SageMaker Python SDK v2.\n"
     ]
    }
   ],
   "source": [
    "xgb_transformer = xgb.transformer(instance_count = 1, instance_type = 'ml.m4.xlarge')"
   ]
  },
  {
   "cell_type": "markdown",
   "metadata": {},
   "source": [
    "Next we actually perform the transform job. When doing so we need to make sure to specify the type of data we are sending so that it is serialized correctly in the background. In our case we are providing our model with csv data so we specify `text/csv`. Also, if the test data that we have provided is too large to process all at once then we need to specify how the data file should be split up. Since each line is a single entry in our data set we tell SageMaker that it can split the input on each line."
   ]
  },
  {
   "cell_type": "code",
   "execution_count": 26,
   "metadata": {},
   "outputs": [],
   "source": [
    "xgb_transformer.transform(test_location, content_type='text/csv', split_type='Line')"
   ]
  },
  {
   "cell_type": "markdown",
   "metadata": {},
   "source": [
    "Currently the transform job is running but it is doing so in the background. Since we wish to wait until the transform job is done and we would like a bit of feedback we can run the `wait()` method."
   ]
  },
  {
   "cell_type": "code",
   "execution_count": 27,
   "metadata": {},
   "outputs": [
    {
     "name": "stdout",
     "output_type": "stream",
     "text": [
      ".............................\u001b[32m2020-11-01T02:32:30.146:[sagemaker logs]: MaxConcurrentTransforms=4, MaxPayloadInMB=6, BatchStrategy=MULTI_RECORD\u001b[0m\n",
      "\u001b[34mArguments: serve\u001b[0m\n",
      "\u001b[34m[2020-11-01 02:32:30 +0000] [1] [INFO] Starting gunicorn 19.7.1\u001b[0m\n",
      "\u001b[34m[2020-11-01 02:32:30 +0000] [1] [INFO] Listening at: http://0.0.0.0:8080 (1)\u001b[0m\n",
      "\u001b[34m[2020-11-01 02:32:30 +0000] [1] [INFO] Using worker: gevent\u001b[0m\n",
      "\u001b[34m[2020-11-01 02:32:30 +0000] [37] [INFO] Booting worker with pid: 37\u001b[0m\n",
      "\u001b[34m[2020-11-01 02:32:30 +0000] [38] [INFO] Booting worker with pid: 38\u001b[0m\n",
      "\u001b[34m[2020-11-01 02:32:30 +0000] [39] [INFO] Booting worker with pid: 39\u001b[0m\n",
      "\u001b[34m[2020-11-01:02:32:30:INFO] Model loaded successfully for worker : 37\u001b[0m\n",
      "\u001b[34m[2020-11-01:02:32:30:INFO] Model loaded successfully for worker : 38\u001b[0m\n",
      "\u001b[34m[2020-11-01 02:32:30 +0000] [40] [INFO] Booting worker with pid: 40\u001b[0m\n",
      "\u001b[34m[2020-11-01:02:32:30:INFO] Model loaded successfully for worker : 39\u001b[0m\n",
      "\u001b[34m[2020-11-01:02:32:30:INFO] Model loaded successfully for worker : 40\u001b[0m\n",
      "\u001b[34m[2020-11-01:02:32:30:INFO] Sniff delimiter as ','\u001b[0m\n",
      "\u001b[34m[2020-11-01:02:32:30:INFO] Determined delimiter of CSV input is ','\u001b[0m\n",
      "\u001b[34m[2020-11-01:02:32:30:INFO] Sniff delimiter as ','\u001b[0m\n",
      "\u001b[34m[2020-11-01:02:32:30:INFO] Determined delimiter of CSV input is ','\u001b[0m\n",
      "\u001b[34m[2020-11-01:02:32:30:INFO] Sniff delimiter as ','\u001b[0m\n",
      "\u001b[34m[2020-11-01:02:32:30:INFO] Determined delimiter of CSV input is ','\u001b[0m\n",
      "\u001b[34m[2020-11-01:02:32:30:INFO] Sniff delimiter as ','\u001b[0m\n",
      "\u001b[35mArguments: serve\u001b[0m\n",
      "\u001b[35m[2020-11-01 02:32:30 +0000] [1] [INFO] Starting gunicorn 19.7.1\u001b[0m\n",
      "\u001b[35m[2020-11-01 02:32:30 +0000] [1] [INFO] Listening at: http://0.0.0.0:8080 (1)\u001b[0m\n",
      "\u001b[35m[2020-11-01 02:32:30 +0000] [1] [INFO] Using worker: gevent\u001b[0m\n",
      "\u001b[35m[2020-11-01 02:32:30 +0000] [37] [INFO] Booting worker with pid: 37\u001b[0m\n",
      "\u001b[35m[2020-11-01 02:32:30 +0000] [38] [INFO] Booting worker with pid: 38\u001b[0m\n",
      "\u001b[35m[2020-11-01 02:32:30 +0000] [39] [INFO] Booting worker with pid: 39\u001b[0m\n",
      "\u001b[35m[2020-11-01:02:32:30:INFO] Model loaded successfully for worker : 37\u001b[0m\n",
      "\u001b[35m[2020-11-01:02:32:30:INFO] Model loaded successfully for worker : 38\u001b[0m\n",
      "\u001b[35m[2020-11-01 02:32:30 +0000] [40] [INFO] Booting worker with pid: 40\u001b[0m\n",
      "\u001b[35m[2020-11-01:02:32:30:INFO] Model loaded successfully for worker : 39\u001b[0m\n",
      "\u001b[35m[2020-11-01:02:32:30:INFO] Model loaded successfully for worker : 40\u001b[0m\n",
      "\u001b[35m[2020-11-01:02:32:30:INFO] Sniff delimiter as ','\u001b[0m\n",
      "\u001b[35m[2020-11-01:02:32:30:INFO] Determined delimiter of CSV input is ','\u001b[0m\n",
      "\u001b[35m[2020-11-01:02:32:30:INFO] Sniff delimiter as ','\u001b[0m\n",
      "\u001b[35m[2020-11-01:02:32:30:INFO] Determined delimiter of CSV input is ','\u001b[0m\n",
      "\u001b[35m[2020-11-01:02:32:30:INFO] Sniff delimiter as ','\u001b[0m\n",
      "\u001b[35m[2020-11-01:02:32:30:INFO] Determined delimiter of CSV input is ','\u001b[0m\n",
      "\u001b[35m[2020-11-01:02:32:30:INFO] Sniff delimiter as ','\u001b[0m\n",
      "\u001b[34m[2020-11-01:02:32:30:INFO] Determined delimiter of CSV input is ','\u001b[0m\n",
      "\u001b[35m[2020-11-01:02:32:30:INFO] Determined delimiter of CSV input is ','\u001b[0m\n",
      "\u001b[34m[2020-11-01:02:32:33:INFO] Sniff delimiter as ','\u001b[0m\n",
      "\u001b[34m[2020-11-01:02:32:33:INFO] Determined delimiter of CSV input is ','\u001b[0m\n",
      "\u001b[34m[2020-11-01:02:32:33:INFO] Sniff delimiter as ','\u001b[0m\n",
      "\u001b[34m[2020-11-01:02:32:33:INFO] Determined delimiter of CSV input is ','\u001b[0m\n",
      "\u001b[34m[2020-11-01:02:32:33:INFO] Sniff delimiter as ','\u001b[0m\n",
      "\u001b[34m[2020-11-01:02:32:33:INFO] Determined delimiter of CSV input is ','\u001b[0m\n",
      "\u001b[34m[2020-11-01:02:32:33:INFO] Sniff delimiter as ','\u001b[0m\n",
      "\u001b[35m[2020-11-01:02:32:33:INFO] Sniff delimiter as ','\u001b[0m\n",
      "\u001b[35m[2020-11-01:02:32:33:INFO] Determined delimiter of CSV input is ','\u001b[0m\n",
      "\u001b[35m[2020-11-01:02:32:33:INFO] Sniff delimiter as ','\u001b[0m\n",
      "\u001b[35m[2020-11-01:02:32:33:INFO] Determined delimiter of CSV input is ','\u001b[0m\n",
      "\u001b[35m[2020-11-01:02:32:33:INFO] Sniff delimiter as ','\u001b[0m\n",
      "\u001b[35m[2020-11-01:02:32:33:INFO] Determined delimiter of CSV input is ','\u001b[0m\n",
      "\u001b[35m[2020-11-01:02:32:33:INFO] Sniff delimiter as ','\u001b[0m\n",
      "\u001b[34m[2020-11-01:02:32:33:INFO] Determined delimiter of CSV input is ','\u001b[0m\n",
      "\u001b[35m[2020-11-01:02:32:33:INFO] Determined delimiter of CSV input is ','\u001b[0m\n",
      "\u001b[34m[2020-11-01:02:32:35:INFO] Sniff delimiter as ','\u001b[0m\n",
      "\u001b[34m[2020-11-01:02:32:35:INFO] Determined delimiter of CSV input is ','\u001b[0m\n",
      "\u001b[34m[2020-11-01:02:32:35:INFO] Sniff delimiter as ','\u001b[0m\n",
      "\u001b[34m[2020-11-01:02:32:35:INFO] Determined delimiter of CSV input is ','\u001b[0m\n",
      "\u001b[34m[2020-11-01:02:32:35:INFO] Sniff delimiter as ','\u001b[0m\n",
      "\u001b[34m[2020-11-01:02:32:35:INFO] Determined delimiter of CSV input is ','\u001b[0m\n",
      "\u001b[35m[2020-11-01:02:32:35:INFO] Sniff delimiter as ','\u001b[0m\n",
      "\u001b[35m[2020-11-01:02:32:35:INFO] Determined delimiter of CSV input is ','\u001b[0m\n",
      "\u001b[35m[2020-11-01:02:32:35:INFO] Sniff delimiter as ','\u001b[0m\n",
      "\u001b[35m[2020-11-01:02:32:35:INFO] Determined delimiter of CSV input is ','\u001b[0m\n",
      "\u001b[35m[2020-11-01:02:32:35:INFO] Sniff delimiter as ','\u001b[0m\n",
      "\u001b[35m[2020-11-01:02:32:35:INFO] Determined delimiter of CSV input is ','\u001b[0m\n",
      "\u001b[34m[2020-11-01:02:32:38:INFO] Sniff delimiter as ','\u001b[0m\n",
      "\u001b[34m[2020-11-01:02:32:38:INFO] Determined delimiter of CSV input is ','\u001b[0m\n",
      "\u001b[34m[2020-11-01:02:32:38:INFO] Sniff delimiter as ','\u001b[0m\n",
      "\u001b[34m[2020-11-01:02:32:38:INFO] Determined delimiter of CSV input is ','\u001b[0m\n",
      "\u001b[35m[2020-11-01:02:32:38:INFO] Sniff delimiter as ','\u001b[0m\n",
      "\u001b[35m[2020-11-01:02:32:38:INFO] Determined delimiter of CSV input is ','\u001b[0m\n",
      "\u001b[35m[2020-11-01:02:32:38:INFO] Sniff delimiter as ','\u001b[0m\n",
      "\u001b[35m[2020-11-01:02:32:38:INFO] Determined delimiter of CSV input is ','\u001b[0m\n",
      "\u001b[34m[2020-11-01:02:32:40:INFO] Sniff delimiter as ','\u001b[0m\n",
      "\u001b[34m[2020-11-01:02:32:40:INFO] Determined delimiter of CSV input is ','\u001b[0m\n",
      "\u001b[34m[2020-11-01:02:32:40:INFO] Sniff delimiter as ','\u001b[0m\n",
      "\u001b[34m[2020-11-01:02:32:40:INFO] Determined delimiter of CSV input is ','\u001b[0m\n",
      "\u001b[35m[2020-11-01:02:32:40:INFO] Sniff delimiter as ','\u001b[0m\n",
      "\u001b[35m[2020-11-01:02:32:40:INFO] Determined delimiter of CSV input is ','\u001b[0m\n",
      "\u001b[35m[2020-11-01:02:32:40:INFO] Sniff delimiter as ','\u001b[0m\n",
      "\u001b[35m[2020-11-01:02:32:40:INFO] Determined delimiter of CSV input is ','\u001b[0m\n",
      "\u001b[34m[2020-11-01:02:32:40:INFO] Sniff delimiter as ','\u001b[0m\n",
      "\u001b[34m[2020-11-01:02:32:40:INFO] Determined delimiter of CSV input is ','\u001b[0m\n",
      "\u001b[34m[2020-11-01:02:32:41:INFO] Sniff delimiter as ','\u001b[0m\n",
      "\u001b[34m[2020-11-01:02:32:41:INFO] Determined delimiter of CSV input is ','\u001b[0m\n",
      "\u001b[35m[2020-11-01:02:32:40:INFO] Sniff delimiter as ','\u001b[0m\n",
      "\u001b[35m[2020-11-01:02:32:40:INFO] Determined delimiter of CSV input is ','\u001b[0m\n",
      "\u001b[35m[2020-11-01:02:32:41:INFO] Sniff delimiter as ','\u001b[0m\n",
      "\u001b[35m[2020-11-01:02:32:41:INFO] Determined delimiter of CSV input is ','\u001b[0m\n",
      "\u001b[34m[2020-11-01:02:32:42:INFO] Sniff delimiter as ','\u001b[0m\n",
      "\u001b[34m[2020-11-01:02:32:42:INFO] Determined delimiter of CSV input is ','\u001b[0m\n",
      "\u001b[35m[2020-11-01:02:32:42:INFO] Sniff delimiter as ','\u001b[0m\n",
      "\u001b[35m[2020-11-01:02:32:42:INFO] Determined delimiter of CSV input is ','\u001b[0m\n",
      "\u001b[34m[2020-11-01:02:32:43:INFO] Sniff delimiter as ','\u001b[0m\n",
      "\u001b[34m[2020-11-01:02:32:43:INFO] Determined delimiter of CSV input is ','\u001b[0m\n",
      "\u001b[34m[2020-11-01:02:32:44:INFO] Sniff delimiter as ','\u001b[0m\n",
      "\u001b[34m[2020-11-01:02:32:44:INFO] Determined delimiter of CSV input is ','\u001b[0m\n",
      "\u001b[34m[2020-11-01:02:32:44:INFO] Sniff delimiter as ','\u001b[0m\n",
      "\u001b[34m[2020-11-01:02:32:44:INFO] Determined delimiter of CSV input is ','\u001b[0m\n",
      "\u001b[34m[2020-11-01:02:32:44:INFO] Sniff delimiter as ','\u001b[0m\n",
      "\u001b[34m[2020-11-01:02:32:44:INFO] Determined delimiter of CSV input is ','\u001b[0m\n",
      "\u001b[35m[2020-11-01:02:32:43:INFO] Sniff delimiter as ','\u001b[0m\n",
      "\u001b[35m[2020-11-01:02:32:43:INFO] Determined delimiter of CSV input is ','\u001b[0m\n",
      "\u001b[35m[2020-11-01:02:32:44:INFO] Sniff delimiter as ','\u001b[0m\n",
      "\u001b[35m[2020-11-01:02:32:44:INFO] Determined delimiter of CSV input is ','\u001b[0m\n",
      "\u001b[35m[2020-11-01:02:32:44:INFO] Sniff delimiter as ','\u001b[0m\n",
      "\u001b[35m[2020-11-01:02:32:44:INFO] Determined delimiter of CSV input is ','\u001b[0m\n",
      "\u001b[35m[2020-11-01:02:32:44:INFO] Sniff delimiter as ','\u001b[0m\n",
      "\u001b[35m[2020-11-01:02:32:44:INFO] Determined delimiter of CSV input is ','\u001b[0m\n",
      "\u001b[34m[2020-11-01:02:32:48:INFO] Sniff delimiter as ','\u001b[0m\n",
      "\u001b[34m[2020-11-01:02:32:48:INFO] Determined delimiter of CSV input is ','\u001b[0m\n",
      "\u001b[34m[2020-11-01:02:32:48:INFO] Sniff delimiter as ','\u001b[0m\n",
      "\u001b[34m[2020-11-01:02:32:48:INFO] Determined delimiter of CSV input is ','\u001b[0m\n",
      "\u001b[34m[2020-11-01:02:32:49:INFO] Sniff delimiter as ','\u001b[0m\n",
      "\u001b[34m[2020-11-01:02:32:49:INFO] Determined delimiter of CSV input is ','\u001b[0m\n",
      "\u001b[34m[2020-11-01:02:32:49:INFO] Sniff delimiter as ','\u001b[0m\n",
      "\u001b[34m[2020-11-01:02:32:49:INFO] Determined delimiter of CSV input is ','\u001b[0m\n",
      "\u001b[35m[2020-11-01:02:32:48:INFO] Sniff delimiter as ','\u001b[0m\n",
      "\u001b[35m[2020-11-01:02:32:48:INFO] Determined delimiter of CSV input is ','\u001b[0m\n",
      "\u001b[35m[2020-11-01:02:32:48:INFO] Sniff delimiter as ','\u001b[0m\n",
      "\u001b[35m[2020-11-01:02:32:48:INFO] Determined delimiter of CSV input is ','\u001b[0m\n",
      "\u001b[35m[2020-11-01:02:32:49:INFO] Sniff delimiter as ','\u001b[0m\n",
      "\u001b[35m[2020-11-01:02:32:49:INFO] Determined delimiter of CSV input is ','\u001b[0m\n",
      "\u001b[35m[2020-11-01:02:32:49:INFO] Sniff delimiter as ','\u001b[0m\n",
      "\u001b[35m[2020-11-01:02:32:49:INFO] Determined delimiter of CSV input is ','\u001b[0m\n",
      "\u001b[34m[2020-11-01:02:32:51:INFO] Sniff delimiter as ','\u001b[0m\n",
      "\u001b[34m[2020-11-01:02:32:51:INFO] Determined delimiter of CSV input is ','\u001b[0m\n",
      "\u001b[34m[2020-11-01:02:32:51:INFO] Sniff delimiter as ','\u001b[0m\n",
      "\u001b[34m[2020-11-01:02:32:51:INFO] Determined delimiter of CSV input is ','\u001b[0m\n",
      "\u001b[34m[2020-11-01:02:32:51:INFO] Sniff delimiter as ','\u001b[0m\n",
      "\u001b[34m[2020-11-01:02:32:51:INFO] Determined delimiter of CSV input is ','\u001b[0m\n",
      "\u001b[34m[2020-11-01:02:32:51:INFO] Sniff delimiter as ','\u001b[0m\n",
      "\u001b[34m[2020-11-01:02:32:51:INFO] Determined delimiter of CSV input is ','\u001b[0m\n",
      "\u001b[35m[2020-11-01:02:32:51:INFO] Sniff delimiter as ','\u001b[0m\n",
      "\u001b[35m[2020-11-01:02:32:51:INFO] Determined delimiter of CSV input is ','\u001b[0m\n",
      "\u001b[35m[2020-11-01:02:32:51:INFO] Sniff delimiter as ','\u001b[0m\n",
      "\u001b[35m[2020-11-01:02:32:51:INFO] Determined delimiter of CSV input is ','\u001b[0m\n",
      "\u001b[35m[2020-11-01:02:32:51:INFO] Sniff delimiter as ','\u001b[0m\n",
      "\u001b[35m[2020-11-01:02:32:51:INFO] Determined delimiter of CSV input is ','\u001b[0m\n",
      "\u001b[35m[2020-11-01:02:32:51:INFO] Sniff delimiter as ','\u001b[0m\n",
      "\u001b[35m[2020-11-01:02:32:51:INFO] Determined delimiter of CSV input is ','\u001b[0m\n",
      "\u001b[34m[2020-11-01:02:32:53:INFO] Sniff delimiter as ','\u001b[0m\n",
      "\u001b[34m[2020-11-01:02:32:53:INFO] Determined delimiter of CSV input is ','\u001b[0m\n",
      "\u001b[35m[2020-11-01:02:32:53:INFO] Sniff delimiter as ','\u001b[0m\n",
      "\u001b[35m[2020-11-01:02:32:53:INFO] Determined delimiter of CSV input is ','\u001b[0m\n",
      "\u001b[34m[2020-11-01:02:32:53:INFO] Sniff delimiter as ','\u001b[0m\n",
      "\u001b[34m[2020-11-01:02:32:53:INFO] Determined delimiter of CSV input is ','\u001b[0m\n",
      "\u001b[34m[2020-11-01:02:32:53:INFO] Sniff delimiter as ','\u001b[0m\n",
      "\u001b[34m[2020-11-01:02:32:53:INFO] Determined delimiter of CSV input is ','\u001b[0m\n",
      "\u001b[35m[2020-11-01:02:32:53:INFO] Sniff delimiter as ','\u001b[0m\n",
      "\u001b[35m[2020-11-01:02:32:53:INFO] Determined delimiter of CSV input is ','\u001b[0m\n",
      "\u001b[35m[2020-11-01:02:32:53:INFO] Sniff delimiter as ','\u001b[0m\n",
      "\u001b[35m[2020-11-01:02:32:53:INFO] Determined delimiter of CSV input is ','\u001b[0m\n"
     ]
    },
    {
     "name": "stdout",
     "output_type": "stream",
     "text": [
      "\n"
     ]
    }
   ],
   "source": [
    "xgb_transformer.wait()"
   ]
  },
  {
   "cell_type": "markdown",
   "metadata": {},
   "source": [
    "Now the transform job has executed and the result, the estimated sentiment of each review, has been saved on S3. Since we would rather work on this file locally we can perform a bit of notebook magic to copy the file to the `data_dir`."
   ]
  },
  {
   "cell_type": "code",
   "execution_count": 28,
   "metadata": {},
   "outputs": [
    {
     "name": "stdout",
     "output_type": "stream",
     "text": [
      "Completed 256.0 KiB/369.3 KiB (2.8 MiB/s) with 1 file(s) remaining\r",
      "Completed 369.3 KiB/369.3 KiB (3.9 MiB/s) with 1 file(s) remaining\r",
      "download: s3://sagemaker-us-east-2-189919161534/xgboost-2020-11-01-02-27-48-540/test.csv.out to ../data/sentiment_update/test.csv.out\r\n"
     ]
    }
   ],
   "source": [
    "!aws s3 cp --recursive $xgb_transformer.output_path $data_dir"
   ]
  },
  {
   "cell_type": "markdown",
   "metadata": {},
   "source": [
    "The last step is now to read in the output from our model, convert the output to something a little more usable, in this case we want the sentiment to be either `1` (positive) or `0` (negative), and then compare to the ground truth labels."
   ]
  },
  {
   "cell_type": "code",
   "execution_count": 29,
   "metadata": {},
   "outputs": [],
   "source": [
    "predictions = pd.read_csv(os.path.join(data_dir, 'test.csv.out'), header=None)\n",
    "predictions = [round(num) for num in predictions.squeeze().values]"
   ]
  },
  {
   "cell_type": "code",
   "execution_count": 30,
   "metadata": {},
   "outputs": [
    {
     "data": {
      "text/plain": [
       "0.85668"
      ]
     },
     "execution_count": 30,
     "metadata": {},
     "output_type": "execute_result"
    }
   ],
   "source": [
    "from sklearn.metrics import accuracy_score\n",
    "accuracy_score(test_y, predictions)"
   ]
  },
  {
   "cell_type": "markdown",
   "metadata": {},
   "source": [
    "\n",
    "## Step 5: Looking at New Data\n",
    "\n",
    "So now we have an XGBoost sentiment analysis model that we believe is working pretty well. As a result, we deployed it and we are using it in some sort of app.\n",
    "\n",
    "However, as we allow users to use our app we periodically record submitted movie reviews so that we can perform some quality control on our deployed model. Once we've accumulated enough reviews we go through them by hand and evaluate whether they are positive or negative (there are many ways you might do this in practice aside from by hand). The reason for doing this is so that we can check to see how well our model is doing."
   ]
  },
  {
   "cell_type": "code",
   "execution_count": 31,
   "metadata": {},
   "outputs": [],
   "source": [
    "import new_data\n",
    "\n",
    "new_X, new_Y = new_data.get_new_data()"
   ]
  },
  {
   "cell_type": "markdown",
   "metadata": {},
   "source": [
    "**NOTE:** Part of the fun in this notebook is trying to figure out what exactly is happening with the new data, so try not to cheat by looking in the `new_data` module. Also, the `new_data` module assumes that the cache created earlier in Step 3 is still stored in `../cache/sentiment_analysis`."
   ]
  },
  {
   "cell_type": "markdown",
   "metadata": {},
   "source": [
    "### (TODO) Testing the current model\n",
    "\n",
    "Now that we've loaded the new data, let's check to see how our current XGBoost model performs on it.\n",
    "\n",
    "First, note that the data that has been loaded has already been pre-processed so that each entry in `new_X` is a list of words that have been processed using `nltk`. However, we have not yet constructed the bag of words encoding, which we will do now.\n",
    "\n",
    "First, we use the vocabulary that we constructed earlier using the original training data to construct a `CountVectorizer` which we will use to transform our new data into its bag of words encoding.\n",
    "\n",
    "**TODO:** Create the CountVectorizer object using the vocabulary created earlier and use it to transform the new data."
   ]
  },
  {
   "cell_type": "code",
   "execution_count": 41,
   "metadata": {},
   "outputs": [],
   "source": [
    "# TODO: Create the CountVectorizer using the previously constructed vocabulary\n",
    "vectorizer = CountVectorizer(vocabulary=vocabulary, \n",
    "                             preprocessor=lambda x: x, \n",
    "                             tokenizer=lambda x: x)  # already preprocessed\n",
    "\n",
    "# TODO: Transform our new data set and store the transformed data in the variable new_XV\n",
    "new_XV = vectorizer.transform(new_X).toarray()"
   ]
  },
  {
   "cell_type": "markdown",
   "metadata": {},
   "source": [
    "As a quick sanity check, we make sure that the length of each of our bag of words encoded reviews is correct. In particular, it must be the same size as the vocabulary which in our case is `5000`."
   ]
  },
  {
   "cell_type": "code",
   "execution_count": 42,
   "metadata": {},
   "outputs": [
    {
     "data": {
      "text/plain": [
       "5000"
      ]
     },
     "execution_count": 42,
     "metadata": {},
     "output_type": "execute_result"
    }
   ],
   "source": [
    "len(new_XV[100])"
   ]
  },
  {
   "cell_type": "code",
   "execution_count": 59,
   "metadata": {},
   "outputs": [
    {
     "data": {
      "text/plain": [
       "array([0, 0, 0, ..., 0, 0, 0])"
      ]
     },
     "execution_count": 59,
     "metadata": {},
     "output_type": "execute_result"
    }
   ],
   "source": [
    "new_XV[100]"
   ]
  },
  {
   "cell_type": "code",
   "execution_count": 61,
   "metadata": {},
   "outputs": [
    {
     "data": {
      "text/plain": [
       "{'engross': 1543,\n",
       " 'bbc': 454,\n",
       " 'tv': 4633,\n",
       " 'mini': 2893,\n",
       " 'seri': 3953,\n",
       " 'loos': 2695,\n",
       " 'base': 437,\n",
       " 'upon': 4716,\n",
       " 'mysteri': 2998,\n",
       " 'disappear': 1326,\n",
       " 'young': 4989,\n",
       " 'mother': 2962,\n",
       " 'realli': 3612,\n",
       " 'studi': 4304,\n",
       " 'assort': 347,\n",
       " 'charact': 808,\n",
       " 'stori': 4271,\n",
       " 'last': 2580,\n",
       " 'five': 1771,\n",
       " 'hour': 2221,\n",
       " 'thu': 4506,\n",
       " 'much': 2977,\n",
       " 'ensembl': 1550,\n",
       " 'piec': 3328,\n",
       " 'wide': 4900,\n",
       " 'varieti': 4750,\n",
       " 'brilliant': 633,\n",
       " 'british': 638,\n",
       " 'actor': 139,\n",
       " 'actress': 140,\n",
       " 'show': 4016,\n",
       " 'talent': 4413,\n",
       " 'actual': 141,\n",
       " 'portray': 3397,\n",
       " 'kind': 2530,\n",
       " 'peopl': 3283,\n",
       " 'one': 3155,\n",
       " 'normal': 3088,\n",
       " 'meet': 2835,\n",
       " 'bore': 583,\n",
       " 'difficult': 1305,\n",
       " 'admir': 150,\n",
       " 'instanc': 2360,\n",
       " 'lead': 2602,\n",
       " 'husband': 2247,\n",
       " 'whose': 4898,\n",
       " 'wife': 4905,\n",
       " 'job': 2460,\n",
       " 'appar': 291,\n",
       " 'interest': 2377,\n",
       " 'find': 1756,\n",
       " 'live': 2677,\n",
       " 'parent': 3239,\n",
       " 'law': 2595,\n",
       " 'armi': 313,\n",
       " 'appear': 293,\n",
       " 'slightest': 4092,\n",
       " 'ambit': 237,\n",
       " 'life': 2646,\n",
       " 'apart': 287,\n",
       " 'small': 4101,\n",
       " 'famili': 1684,\n",
       " 'play': 3352,\n",
       " 'david': 1192,\n",
       " 'part': 3245,\n",
       " 'come': 952,\n",
       " 'across': 135,\n",
       " 'total': 4558,\n",
       " 'sympathet': 4397,\n",
       " 'person': 3297,\n",
       " 'although': 225,\n",
       " 'activ': 138,\n",
       " 'love': 2709,\n",
       " 'superbl': 4354,\n",
       " 'want': 4830,\n",
       " 'comfort': 956,\n",
       " 'obvious': 3127,\n",
       " 'nice': 3059,\n",
       " 'guy': 2062,\n",
       " 'standout': 4226,\n",
       " 'perform': 3290,\n",
       " 'whole': 4894,\n",
       " 'act': 136,\n",
       " 'circl': 875,\n",
       " 'round': 3805,\n",
       " 'everyon': 1604,\n",
       " 'els': 1506,\n",
       " 'simpli': 4044,\n",
       " 'incred': 2315,\n",
       " 'woman': 4934,\n",
       " 'inde': 2316,\n",
       " 'familiar': 1685,\n",
       " 'name': 3006,\n",
       " 'hyster': 2252,\n",
       " 'self': 3930,\n",
       " 'centr': 785,\n",
       " 'hate': 2109,\n",
       " 'elderli': 1491,\n",
       " 'idiot': 2262,\n",
       " 'ala': 192,\n",
       " 'know': 2545,\n",
       " 'well': 4872,\n",
       " 'britain': 637,\n",
       " 'finest': 1758,\n",
       " 'see': 3920,\n",
       " 'review': 3730,\n",
       " 'half': 2072,\n",
       " 'broken': 644,\n",
       " 'thing': 4484,\n",
       " 'take': 4410,\n",
       " 'could': 1075,\n",
       " 'two': 4640,\n",
       " 'dimension': 1313,\n",
       " 'make': 2757,\n",
       " 'four': 1840,\n",
       " 'wonder': 4936,\n",
       " 'support': 4361,\n",
       " 'old': 3148,\n",
       " 'pro': 3469,\n",
       " 'patrick': 3265,\n",
       " 'pair': 3220,\n",
       " 'set': 3961,\n",
       " 'high': 2155,\n",
       " 'standard': 4225,\n",
       " 'younger': 4990,\n",
       " 'player': 3354,\n",
       " 'spectacular': 4172,\n",
       " 'becom': 467,\n",
       " 'less': 2632,\n",
       " 'type': 4642,\n",
       " 'older': 3149,\n",
       " 'way': 4851,\n",
       " 'put': 3538,\n",
       " 'redeem': 3632,\n",
       " 'latter': 2585,\n",
       " 'stage': 4216,\n",
       " 'chanc': 802,\n",
       " 'pull': 3523,\n",
       " 'convinc': 1051,\n",
       " 'origin': 3173,\n",
       " 'drunk': 1423,\n",
       " 'scene': 3876,\n",
       " 'ever': 1600,\n",
       " 'seen': 3926,\n",
       " 'film': 1750,\n",
       " 'big': 510,\n",
       " 'surpris': 4370,\n",
       " 'sarah': 3856,\n",
       " 'great': 2019,\n",
       " 'depth': 1261,\n",
       " 'smart': 4103,\n",
       " 'tediou': 4444,\n",
       " 'sheer': 3988,\n",
       " 'magic': 2747,\n",
       " 'turn': 4630,\n",
       " 'deepli': 1226,\n",
       " 'intrigu': 2387,\n",
       " 'entir': 1559,\n",
       " 'good': 1989,\n",
       " 'end': 1531,\n",
       " 'frankli': 1854,\n",
       " 'guess': 2051,\n",
       " 'happen': 2090,\n",
       " 'properli': 3498,\n",
       " 'begin': 474,\n",
       " 'mani': 2766,\n",
       " 'trick': 4606,\n",
       " 'eye': 1659,\n",
       " 'let': 2636,\n",
       " 'us': 4721,\n",
       " 'sure': 4365,\n",
       " 'though': 4491,\n",
       " 'eventu': 1599,\n",
       " 'learn': 2607,\n",
       " 'extrem': 1658,\n",
       " 'violent': 4788,\n",
       " 'traumat': 4591,\n",
       " 'childhood': 840,\n",
       " 'ambigu': 236,\n",
       " 'facial': 1665,\n",
       " 'express': 1650,\n",
       " 'extraordinari': 1657,\n",
       " 'amazingli': 234,\n",
       " 'hopeless': 2203,\n",
       " 'fellow': 1725,\n",
       " 'mum': 2981,\n",
       " 'hidden': 2152,\n",
       " 'suppos': 4362,\n",
       " 'question': 3547,\n",
       " 'superb': 4353,\n",
       " 'given': 1960,\n",
       " 'revolt': 3732,\n",
       " 'teenag': 4446,\n",
       " 'girl': 1957,\n",
       " 'sort': 4147,\n",
       " 'dread': 1403,\n",
       " 'crucial': 1129,\n",
       " 'moment': 2935,\n",
       " 'collaps': 938,\n",
       " 'helpless': 2142,\n",
       " 'tear': 4436,\n",
       " 'pathet': 3261,\n",
       " 'arrog': 320,\n",
       " 'pose': 3398,\n",
       " 'three': 4497,\n",
       " 'children': 842,\n",
       " 'also': 222,\n",
       " 'friend': 1868,\n",
       " 'brother': 650,\n",
       " 'sister': 4061,\n",
       " 'sibl': 4023,\n",
       " 'may': 2814,\n",
       " 'dim': 1311,\n",
       " 'seem': 3924,\n",
       " 'unabl': 4652,\n",
       " 'say': 3866,\n",
       " 'anyth': 284,\n",
       " 'particularli': 3250,\n",
       " 'wit': 4926,\n",
       " 'littl': 2675,\n",
       " 'recommend': 3625,\n",
       " 'sweet': 4389,\n",
       " 'natur': 3017,\n",
       " 'convey': 1049,\n",
       " 'effect': 1480,\n",
       " 'lee': 2613,\n",
       " 'boy': 601,\n",
       " 'tyler': 4641,\n",
       " 'anthoni': 273,\n",
       " 'walter': 4825,\n",
       " 'role': 3780,\n",
       " 'get': 1944,\n",
       " 'shame': 3978,\n",
       " 'fine': 1757,\n",
       " 'wast': 4843,\n",
       " 'go': 1975,\n",
       " 'must': 2993,\n",
       " 'draw': 1401,\n",
       " 'line': 2661,\n",
       " 'somewher': 4137,\n",
       " 'manag': 2764,\n",
       " 'strang': 4279,\n",
       " 'fascin': 1699,\n",
       " 'essenti': 1579,\n",
       " 'uninterest': 4690,\n",
       " 'caught': 772,\n",
       " 'web': 4864,\n",
       " 'intens': 2374,\n",
       " 'suspens': 4379,\n",
       " 'simpl': 4043,\n",
       " 'meaning': 2824,\n",
       " 'deliv': 1242,\n",
       " 'emot': 1517,\n",
       " 'punch': 3526,\n",
       " 'trail': 4576,\n",
       " 'dull': 1433,\n",
       " 'short': 4008,\n",
       " 'alway': 229,\n",
       " 'someth': 4134,\n",
       " 'enlighten': 1546,\n",
       " 'messag': 2857,\n",
       " 'without': 4929,\n",
       " 'pretens': 3444,\n",
       " 'indulg': 2325,\n",
       " 'direct': 1318,\n",
       " 'school': 3881,\n",
       " 'attend': 364,\n",
       " 'lesson': 2634,\n",
       " 'import': 2290,\n",
       " 'enough': 1549,\n",
       " 'copi': 1060,\n",
       " 'around': 316,\n",
       " 'share': 3981,\n",
       " 'bulli': 672,\n",
       " 'unlik': 4698,\n",
       " 'featur': 1718,\n",
       " 'kid': 2523,\n",
       " 'hold': 2178,\n",
       " 'believ': 482,\n",
       " 'soundtrack': 4150,\n",
       " 'work': 4944,\n",
       " 'blade': 532,\n",
       " 'runner': 3821,\n",
       " 'citi': 878,\n",
       " 'lost': 2701,\n",
       " 'sens': 3938,\n",
       " 'whatev': 4883,\n",
       " 'use': 4723,\n",
       " 'abus': 113,\n",
       " 'mostli': 2961,\n",
       " 'give': 1959,\n",
       " 'far': 1692,\n",
       " 'might': 2874,\n",
       " 'dream': 1404,\n",
       " 'ought': 3181,\n",
       " 'ad': 142,\n",
       " 'wait': 4815,\n",
       " 'anim': 262,\n",
       " 'affect': 165,\n",
       " 'miyazaki': 2920,\n",
       " 'stuff': 4306,\n",
       " '1st': 54,\n",
       " 'scratch': 3894,\n",
       " 'relationship': 3658,\n",
       " 'noir': 3077,\n",
       " 'hey': 2151,\n",
       " 'leav': 2610,\n",
       " 'right': 3751,\n",
       " 'sci': 3882,\n",
       " 'fi': 1736,\n",
       " 'theme': 4478,\n",
       " 'watch': 4844,\n",
       " 'bought': 593,\n",
       " 'movi': 2972,\n",
       " 'day': 1195,\n",
       " 'ago': 179,\n",
       " 'thought': 4492,\n",
       " 'would': 4957,\n",
       " 'pretti': 3446,\n",
       " 'pop': 3388,\n",
       " 'dvd': 1442,\n",
       " 'jame': 2426,\n",
       " 'belushi': 488,\n",
       " 'bill': 517,\n",
       " 'mouth': 2969,\n",
       " 'especi': 1577,\n",
       " 'timothi': 4522,\n",
       " 'dalton': 1166,\n",
       " 'roll': 3781,\n",
       " 'sheriff': 3994,\n",
       " 'hous': 2222,\n",
       " 'excel': 1618,\n",
       " 'camera': 708,\n",
       " 'dialogu': 1295,\n",
       " 'stolen': 4264,\n",
       " '12': 7,\n",
       " 'million': 2886,\n",
       " 'dollar': 1371,\n",
       " 'mafia': 2744,\n",
       " 'togeth': 4532,\n",
       " 'south': 4153,\n",
       " 'protect': 3506,\n",
       " 'program': 3485,\n",
       " 'track': 4569,\n",
       " 'trust': 4623,\n",
       " 'insid': 2353,\n",
       " 'within': 4928,\n",
       " 'first': 1764,\n",
       " 'minut': 2900,\n",
       " 'dutch': 1439,\n",
       " 'thriller': 4500,\n",
       " 'gay': 1924,\n",
       " 'alcohol': 198,\n",
       " 'writer': 4967,\n",
       " 'sleep': 4086,\n",
       " 'san': 3850,\n",
       " 'murder': 2985,\n",
       " 'roommat': 3793,\n",
       " 'tri': 4601,\n",
       " 'steal': 4242,\n",
       " 'magazin': 2745,\n",
       " 'news': 3056,\n",
       " 'stand': 4224,\n",
       " 'lust': 2732,\n",
       " 'man': 2763,\n",
       " 'train': 4578,\n",
       " 'station': 4238,\n",
       " 'hero': 2146,\n",
       " 'nonsens': 3085,\n",
       " 'dress': 1407,\n",
       " 'except': 1619,\n",
       " 'least': 2608,\n",
       " 'nowher': 3105,\n",
       " 'basic': 442,\n",
       " 'plot': 3362,\n",
       " 'drag': 1395,\n",
       " 'nearli': 3023,\n",
       " 'reach': 3600,\n",
       " 'pointless': 3371,\n",
       " 'conclus': 997,\n",
       " 'verhoeven': 4762,\n",
       " 'visual': 4798,\n",
       " 'flair': 1774,\n",
       " 'resort': 3706,\n",
       " 'wild': 4907,\n",
       " 'hallucin': 2076,\n",
       " 'symbol': 4395,\n",
       " 'gratuit': 2015,\n",
       " 'gore': 1993,\n",
       " 'run': 3820,\n",
       " 'idea': 2257,\n",
       " 'hope': 2202,\n",
       " 'went': 4875,\n",
       " 'heck': 2131,\n",
       " 'similar': 4039,\n",
       " 'experi': 1636,\n",
       " 'unfortun': 4682,\n",
       " 'took': 4547,\n",
       " 'serious': 3956,\n",
       " 'care': 737,\n",
       " 'jason': 2434,\n",
       " 'problem': 3471,\n",
       " 'sorri': 4145,\n",
       " 'cover': 1088,\n",
       " 'anyway': 285,\n",
       " 'undead': 4662,\n",
       " 'serial': 3954,\n",
       " 'killer': 2528,\n",
       " 'freddi': 1858,\n",
       " 'aspect': 336,\n",
       " 'bad': 410,\n",
       " 'episod': 1565,\n",
       " 'celebr': 778,\n",
       " 'funni': 1891,\n",
       " 'complain': 976,\n",
       " 'local': 2682,\n",
       " 'cinema': 871,\n",
       " 'qualiti': 3543,\n",
       " 'sound': 4149,\n",
       " 'whether': 4888,\n",
       " 'system': 4400,\n",
       " 'understand': 4670,\n",
       " 'anyon': 283,\n",
       " 'background': 407,\n",
       " '20': 56,\n",
       " 'music': 2990,\n",
       " 'readi': 3605,\n",
       " 'blame': 536,\n",
       " 'equip': 1568,\n",
       " 'director': 1320,\n",
       " 'told': 4536,\n",
       " 'subject': 4315,\n",
       " 'complaint': 977,\n",
       " 'distort': 1354,\n",
       " 'creat': 1104,\n",
       " 'disturb': 1358,\n",
       " 'length': 2625,\n",
       " 'uniqu': 4692,\n",
       " 'matter': 2809,\n",
       " 'score': 3889,\n",
       " 'histor': 2168,\n",
       " 'inaccuraci': 2300,\n",
       " 'elsewher': 1507,\n",
       " 'reason': 3615,\n",
       " 'miss': 2910,\n",
       " 'hear': 2121,\n",
       " 'certainli': 791,\n",
       " 'cat': 765,\n",
       " 'despit': 1278,\n",
       " 'stereotyp': 4249,\n",
       " 'virtual': 4792,\n",
       " 'cast': 762,\n",
       " 'low': 2711,\n",
       " 'budget': 663,\n",
       " 'alright': 221,\n",
       " 'better': 502,\n",
       " 'expect': 1633,\n",
       " 'skeptic': 4069,\n",
       " 'comput': 988,\n",
       " 'viru': 4793,\n",
       " 'infect': 2331,\n",
       " 'ludicr': 2722,\n",
       " 'handl': 2085,\n",
       " 'concept': 993,\n",
       " 'even': 1597,\n",
       " 'clich': 899,\n",
       " 'quit': 3554,\n",
       " 'help': 2141,\n",
       " 'think': 4485,\n",
       " 'turner': 4631,\n",
       " 'bit': 524,\n",
       " 'davi': 1191,\n",
       " 'look': 2694,\n",
       " 'like': 2654,\n",
       " 'mayb': 2815,\n",
       " 'face': 1664,\n",
       " 'hair': 2070,\n",
       " 'cloth': 917,\n",
       " 'kept': 2518,\n",
       " 'back': 405,\n",
       " 'mind': 2890,\n",
       " 'time': 4519,\n",
       " 'fatal': 1705,\n",
       " 'error': 1575,\n",
       " 'entertain': 1555,\n",
       " 'flick': 1787,\n",
       " 'keep': 2511,\n",
       " 'other': 3179,\n",
       " 'seriou': 3955,\n",
       " 'view': 4779,\n",
       " 'god': 1977,\n",
       " 'lot': 2702,\n",
       " 'fun': 1886,\n",
       " 'root': 3795,\n",
       " 'hop': 2201,\n",
       " 'long': 2692,\n",
       " 'cassidi': 761,\n",
       " 'tribut': 4605,\n",
       " 'western': 4878,\n",
       " 'year': 4981,\n",
       " 'meant': 2826,\n",
       " 'special': 4169,\n",
       " 'tongu': 4544,\n",
       " 'cheek': 826,\n",
       " 'relax': 3659,\n",
       " 'enjoy': 1545,\n",
       " 'depict': 1259,\n",
       " 'plight': 3360,\n",
       " 'al': 191,\n",
       " 'lou': 2703,\n",
       " 'diseas': 1336,\n",
       " 'suffer': 4334,\n",
       " 'done': 1377,\n",
       " 'compass': 971,\n",
       " 'humor': 2239,\n",
       " 'carter': 753,\n",
       " 'found': 1839,\n",
       " 'hard': 2094,\n",
       " 'kenneth': 2516,\n",
       " 'branagh': 608,\n",
       " 'quirki': 3553,\n",
       " 'artist': 326,\n",
       " 'forc': 1817,\n",
       " 'provid': 3510,\n",
       " 'commun': 965,\n",
       " 'servic': 3959,\n",
       " 'altern': 224,\n",
       " 'prison': 3466,\n",
       " 'develop': 1289,\n",
       " 'treat': 4595,\n",
       " 'fact': 1667,\n",
       " 'fairi': 1675,\n",
       " 'tale': 4412,\n",
       " 'detract': 1287,\n",
       " 'fabul': 1663,\n",
       " 'made': 2742,\n",
       " 'stupid': 4310,\n",
       " 'mystic': 2999,\n",
       " 'eat': 1463,\n",
       " 'women': 4935,\n",
       " 'virgin': 4789,\n",
       " 'ridicul': 3749,\n",
       " 'got': 1996,\n",
       " 'noth': 3098,\n",
       " 'yeah': 4980,\n",
       " 'star': 4229,\n",
       " 'war': 4831,\n",
       " 'new': 3051,\n",
       " 'scienc': 3883,\n",
       " 'fiction': 1738,\n",
       " 'empir': 1522,\n",
       " 'strike': 4289,\n",
       " 'third': 4486,\n",
       " 'final': 1753,\n",
       " 'trilog': 4609,\n",
       " 'resolv': 3704,\n",
       " 'cliffhang': 903,\n",
       " 'left': 2614,\n",
       " 'previou': 3449,\n",
       " 'elabor': 1490,\n",
       " 'escap': 1576,\n",
       " 'plan': 3345,\n",
       " 'action': 137,\n",
       " 'move': 2970,\n",
       " 'rebel': 3616,\n",
       " 'build': 667,\n",
       " 'confront': 1006,\n",
       " 'emperor': 1519,\n",
       " 'battl': 452,\n",
       " 'audienc': 370,\n",
       " 'alreadi': 220,\n",
       " 'edg': 1471,\n",
       " 'seat': 3909,\n",
       " 'everyth': 1605,\n",
       " 'climax': 906,\n",
       " 'definit': 1233,\n",
       " 'stake': 4218,\n",
       " 'continu': 1036,\n",
       " 'chang': 803,\n",
       " 'ground': 2042,\n",
       " 'crew': 1114,\n",
       " 'land': 2572,\n",
       " 'includ': 2305,\n",
       " 'han': 2082,\n",
       " 'solo': 4127,\n",
       " 'rage': 3566,\n",
       " 'space': 4157,\n",
       " 'luke': 2726,\n",
       " 'death': 1206,\n",
       " 'anoth': 268,\n",
       " 'duel': 1431,\n",
       " 'vader': 4734,\n",
       " 'sinc': 4051,\n",
       " 'constantli': 1024,\n",
       " 'lose': 2698,\n",
       " 'determin': 1286,\n",
       " 'outcom': 3183,\n",
       " 'fetch': 1734,\n",
       " 'unrealist': 4705,\n",
       " 'distract': 1355,\n",
       " 'rather': 3592,\n",
       " 'threat': 4495,\n",
       " 'luck': 2719,\n",
       " 'fight': 1744,\n",
       " 'twist': 4639,\n",
       " 'nobodi': 3075,\n",
       " 'saw': 3865,\n",
       " 'stun': 4308,\n",
       " 'still': 4255,\n",
       " 'complet': 978,\n",
       " 'light': 2651,\n",
       " 'tone': 4543,\n",
       " 'combin': 951,\n",
       " 'grand': 2008,\n",
       " 'edit': 1475,\n",
       " 'return': 3723,\n",
       " 'jedi': 2440,\n",
       " 'concentr': 992,\n",
       " 'need': 3030,\n",
       " 'fifteen': 1741,\n",
       " 'technolog': 4442,\n",
       " 'advanc': 157,\n",
       " 'concern': 994,\n",
       " 'occasion': 3129,\n",
       " 'tie': 4512,\n",
       " 'fighter': 1745,\n",
       " 'non': 3082,\n",
       " 'threaten': 4496,\n",
       " 'huge': 2231,\n",
       " 'fli': 1786,\n",
       " 'trap': 4587,\n",
       " 'head': 2115,\n",
       " 'emerg': 1514,\n",
       " 'taken': 4411,\n",
       " 'palac': 3222,\n",
       " 'lame': 2569,\n",
       " 'replac': 3686,\n",
       " 'victori': 4774,\n",
       " 'span': 4161,\n",
       " 'galaxi': 1908,\n",
       " 'instead': 2363,\n",
       " 'villag': 4784,\n",
       " 'case': 756,\n",
       " 'deserv': 1271,\n",
       " 'best': 498,\n",
       " 'outstand': 3193,\n",
       " 'fan': 1687,\n",
       " 'shop': 4007,\n",
       " 'corner': 1065,\n",
       " 'feel': 1721,\n",
       " 'romant': 3785,\n",
       " 'comedi': 954,\n",
       " 'word': 4942,\n",
       " 'possibl': 3402,\n",
       " 'scenario': 3875,\n",
       " 'protagonist': 3505,\n",
       " 'charm': 819,\n",
       " 'contain': 1029,\n",
       " 'highli': 2158,\n",
       " 'boot': 581,\n",
       " 'easi': 1457,\n",
       " 'beauti': 465,\n",
       " 'often': 3142,\n",
       " 'howev': 2226,\n",
       " 'heart': 2123,\n",
       " 'warm': 4834,\n",
       " 'alfr': 204,\n",
       " 'stewart': 4252,\n",
       " 'clara': 885,\n",
       " 'novak': 3102,\n",
       " 'margaret': 2777,\n",
       " 'arriv': 319,\n",
       " 'co': 924,\n",
       " 'past': 3258,\n",
       " 'nine': 3070,\n",
       " 'ask': 334,\n",
       " 'clash': 887,\n",
       " 'cigarett': 869,\n",
       " 'box': 599,\n",
       " 'open': 3158,\n",
       " 'sell': 3932,\n",
       " 'hire': 2167,\n",
       " 'next': 3058,\n",
       " 'six': 4066,\n",
       " 'month': 2945,\n",
       " 'cours': 1085,\n",
       " 'fall': 1680,\n",
       " 'soul': 4148,\n",
       " 'letter': 2637,\n",
       " 'pass': 3253,\n",
       " 'thin': 4483,\n",
       " 'flesh': 1785,\n",
       " 'engag': 1539,\n",
       " 'lone': 2690,\n",
       " 'frank': 1851,\n",
       " 'morgan': 2955,\n",
       " 'home': 2188,\n",
       " 'felix': 1723,\n",
       " 'sidekick': 4028,\n",
       " 'room': 3792,\n",
       " 'honest': 2193,\n",
       " 'opinion': 3161,\n",
       " 'joseph': 2475,\n",
       " 'ultim': 4648,\n",
       " 'ambiti': 238,\n",
       " 'william': 4912,\n",
       " 'traci': 4568,\n",
       " 'promot': 3492,\n",
       " 'posit': 3400,\n",
       " 'clerk': 896,\n",
       " 'dear': 1205,\n",
       " 'dismiss': 1344,\n",
       " 'subsequ': 4319,\n",
       " 'along': 218,\n",
       " 'journey': 2478,\n",
       " 'almost': 216,\n",
       " 'touch': 4559,\n",
       " 'invit': 2396,\n",
       " 'charl': 815,\n",
       " 'smith': 4107,\n",
       " 'christma': 862,\n",
       " 'eve': 1595,\n",
       " 'dinner': 1315,\n",
       " 'snow': 4116,\n",
       " 'winter': 4920,\n",
       " 'glad': 1961,\n",
       " 'alon': 217,\n",
       " 'busi': 683,\n",
       " 'tell': 4449,\n",
       " 'asid': 333,\n",
       " 'truli': 4621,\n",
       " 'full': 1883,\n",
       " 'jimmi': 2457,\n",
       " 'persona': 3298,\n",
       " 'c': 694,\n",
       " 'f': 1661,\n",
       " 'mr': 2973,\n",
       " 'goe': 1980,\n",
       " 'washington': 4842,\n",
       " 'abrupt': 106,\n",
       " 'hint': 2164,\n",
       " 'perhap': 3291,\n",
       " 'aw': 387,\n",
       " 'soon': 4140,\n",
       " 'secret': 3913,\n",
       " 'quickli': 3549,\n",
       " 'realis': 3607,\n",
       " 'boss': 588,\n",
       " 'exchang': 1621,\n",
       " 'descript': 1269,\n",
       " 'fianc': 1737,\n",
       " 'hilari': 2162,\n",
       " 'prove': 3509,\n",
       " 'reveal': 3726,\n",
       " 'perfectli': 3289,\n",
       " 'control': 1043,\n",
       " 'whenev': 4886,\n",
       " 'insult': 2368,\n",
       " 'wont': 4937,\n",
       " 'yet': 4986,\n",
       " 'underneath': 4667,\n",
       " 'profession': 3480,\n",
       " 'ident': 2259,\n",
       " 'earnest': 1454,\n",
       " 'sincer': 4052,\n",
       " 'mention': 2849,\n",
       " 'member': 2843,\n",
       " 'fare': 1694,\n",
       " 'close': 913,\n",
       " 'vivid': 4800,\n",
       " 'jealou': 2438,\n",
       " 'driven': 1415,\n",
       " 'nervou': 3045,\n",
       " 'breakdown': 617,\n",
       " 'mean': 2822,\n",
       " '22': 68,\n",
       " 'grow': 2044,\n",
       " 'loyal': 2714,\n",
       " 'regular': 3649,\n",
       " 'russian': 3826,\n",
       " 'particular': 3249,\n",
       " 'note': 3097,\n",
       " 'present': 3436,\n",
       " 'hung': 2242,\n",
       " 'proud': 3508,\n",
       " 'exampl': 1617,\n",
       " 'lavish': 2594,\n",
       " 'detail': 1284,\n",
       " 'creation': 1105,\n",
       " 'worth': 4953,\n",
       " 'effort': 1482,\n",
       " 'door': 1382,\n",
       " 'cash': 757,\n",
       " 'regist': 3647,\n",
       " 'chose': 855,\n",
       " 'univers': 4694,\n",
       " 'anywher': 286,\n",
       " 'lie': 2645,\n",
       " 'real': 3606,\n",
       " 'machin': 2738,\n",
       " 'brought': 651,\n",
       " 'expens': 1635,\n",
       " 'desir': 1273,\n",
       " 'realism': 3608,\n",
       " 'cannot': 723,\n",
       " 'remak': 3671,\n",
       " 'mail': 2751,\n",
       " 'talk': 4414,\n",
       " 'merit': 2852,\n",
       " 'harm': 2099,\n",
       " 'lucki': 2720,\n",
       " 'romanc': 3784,\n",
       " 'away': 393,\n",
       " '11': 6,\n",
       " 'former': 1830,\n",
       " 'colleg': 942,\n",
       " 'account': 125,\n",
       " 'professor': 3481,\n",
       " 'amaz': 233,\n",
       " '1968': 25,\n",
       " 'coher': 932,\n",
       " 'crime': 1116,\n",
       " 'maggi': 2746,\n",
       " 'delight': 1241,\n",
       " 'ustinov': 4726,\n",
       " 'judg': 2482,\n",
       " 'worst': 4952,\n",
       " 'read': 3603,\n",
       " 'classic': 889,\n",
       " 'literatur': 2674,\n",
       " 'never': 3049,\n",
       " 'late': 2581,\n",
       " 'jane': 2429,\n",
       " 'eyr': 1660,\n",
       " 'favorit': 1710,\n",
       " 'mainli': 2753,\n",
       " 'book': 579,\n",
       " '1983': 38,\n",
       " 'clark': 886,\n",
       " '2006': 63,\n",
       " 'rochest': 3774,\n",
       " 'absolut': 109,\n",
       " 'recent': 3619,\n",
       " 'disappoint': 1327,\n",
       " 'product': 3477,\n",
       " 'faith': 1677,\n",
       " 'hollywood': 2184,\n",
       " 'titl': 4528,\n",
       " 'brit': 636,\n",
       " 'among': 243,\n",
       " 'abl': 100,\n",
       " 'proper': 3497,\n",
       " 'context': 1035,\n",
       " 'spirit': 4188,\n",
       " 'imageri': 2275,\n",
       " 'confus': 1007,\n",
       " 'top': 4550,\n",
       " 'dramat': 1400,\n",
       " 'contribut': 1041,\n",
       " 'element': 1496,\n",
       " 'either': 1488,\n",
       " 'typic': 4643,\n",
       " 'spoil': 4196,\n",
       " 'creativ': 1106,\n",
       " 'rent': 3681,\n",
       " 'twice': 4636,\n",
       " 'follow': 1806,\n",
       " 'novel': 3103,\n",
       " 'clock': 911,\n",
       " 'bet': 499,\n",
       " 'reader': 3604,\n",
       " 'version': 4763,\n",
       " 'valu': 4740,\n",
       " 'inspector': 2357,\n",
       " 'holm': 2185,\n",
       " 'dicken': 1301,\n",
       " 'london': 2689,\n",
       " 'minor': 2898,\n",
       " 'fire': 1761,\n",
       " 'cap': 726,\n",
       " 'place': 3342,\n",
       " 'applaud': 295,\n",
       " 'polit': 3382,\n",
       " 'heroin': 2148,\n",
       " 'quietli': 3551,\n",
       " 'cute': 1156,\n",
       " 'matur': 2812,\n",
       " 'sergeant': 3952,\n",
       " 'evil': 1608,\n",
       " 'poor': 3386,\n",
       " 'written': 4968,\n",
       " 'poverti': 3410,\n",
       " 'tragic': 4575,\n",
       " 'capit': 729,\n",
       " 'raw': 3596,\n",
       " 'gener': 1930,\n",
       " 'rich': 3741,\n",
       " 'gate': 1921,\n",
       " 'motiv': 2964,\n",
       " 'outright': 3191,\n",
       " 'justic': 2494,\n",
       " 'evid': 1607,\n",
       " 'court': 1086,\n",
       " 'decid': 1215,\n",
       " 'distribut': 1357,\n",
       " 'properti': 3499,\n",
       " 'gather': 1922,\n",
       " 'becam': 466,\n",
       " 'notori': 3101,\n",
       " 'thoroughli': 4490,\n",
       " 'england': 1541,\n",
       " '1973': 30,\n",
       " 'describ': 1268,\n",
       " 'curs': 1149,\n",
       " 'impress': 2294,\n",
       " 'involv': 2397,\n",
       " 'money': 2937,\n",
       " 'retir': 3721,\n",
       " 'soldier': 4124,\n",
       " 'fenc': 1731,\n",
       " 'tradit': 4572,\n",
       " 'male': 2760,\n",
       " 'rememb': 3673,\n",
       " 'scream': 3895,\n",
       " 'toward': 4563,\n",
       " 'delic': 1239,\n",
       " 'exercis': 1626,\n",
       " 'bring': 635,\n",
       " 'closer': 914,\n",
       " 'coupl': 1083,\n",
       " 'stick': 4253,\n",
       " 'amus': 247,\n",
       " 'dialog': 1294,\n",
       " 'ass': 338,\n",
       " 'bleak': 542,\n",
       " 'second': 3910,\n",
       " 'practic': 3413,\n",
       " 'ideal': 2258,\n",
       " 'art': 322,\n",
       " 'scroog': 3902,\n",
       " 'atmospher': 357,\n",
       " 'dismal': 1343,\n",
       " 'usual': 4727,\n",
       " 'depress': 1260,\n",
       " 'author': 381,\n",
       " 'world': 4946,\n",
       " 'knew': 2540,\n",
       " 'okay': 3146,\n",
       " 'treatment': 4596,\n",
       " 'add': 145,\n",
       " '2005': 62,\n",
       " 'pace': 3209,\n",
       " 'faster': 1703,\n",
       " 'vs': 4809,\n",
       " 'explain': 1640,\n",
       " 'front': 1874,\n",
       " 'lurk': 2730,\n",
       " 'shadow': 3972,\n",
       " 'easier': 1458,\n",
       " 'awesom': 395,\n",
       " 'scari': 3873,\n",
       " 'smile': 4106,\n",
       " 'popcorn': 3389,\n",
       " 'horror': 2213,\n",
       " 'appeal': 292,\n",
       " 'nonetheless': 3084,\n",
       " 'today': 4529,\n",
       " '1': 3,\n",
       " 'sick': 4024,\n",
       " 'tire': 4525,\n",
       " 'compar': 969,\n",
       " 'modern': 2928,\n",
       " 'ya': 4976,\n",
       " 'oh': 3143,\n",
       " 'mistak': 2913,\n",
       " 'everi': 1601,\n",
       " 'earlier': 1452,\n",
       " 'stop': 4269,\n",
       " 'adapt': 144,\n",
       " 'tom': 4538,\n",
       " 'robbin': 3769,\n",
       " 'screen': 3896,\n",
       " 'crap': 1095,\n",
       " 'spoken': 4199,\n",
       " 'suggest': 4338,\n",
       " 'someon': 4133,\n",
       " 'pearl': 3277,\n",
       " 'overal': 3195,\n",
       " 'badli': 412,\n",
       " 'cliff': 902,\n",
       " 'hack': 2066,\n",
       " 'fifth': 1742,\n",
       " 'size': 4068,\n",
       " 'term': 4460,\n",
       " 'current': 1148,\n",
       " 'wildli': 4909,\n",
       " 'differ': 1304,\n",
       " 'gotten': 1999,\n",
       " 'refer': 3640,\n",
       " 'viewer': 4780,\n",
       " ...}"
      ]
     },
     "execution_count": 61,
     "metadata": {},
     "output_type": "execute_result"
    }
   ],
   "source": [
    "vocabulary"
   ]
  },
  {
   "cell_type": "markdown",
   "metadata": {},
   "source": [
    "Now that we've performed the data processing that is required by our model we can save it locally and then upload it to S3 so that we can construct a batch transform job in order to see how well our model is working.\n",
    "\n",
    "First, we save the data locally.\n",
    "\n",
    "**TODO:** Save the new data (after it has been transformed using the original vocabulary) to the local notebook instance."
   ]
  },
  {
   "cell_type": "code",
   "execution_count": 43,
   "metadata": {},
   "outputs": [],
   "source": [
    "# TODO: Save the data contained in new_XV locally in the data_dir with the file name new_data.csv\n",
    "pd.DataFrame(new_XV).to_csv(os.path.join(data_dir, 'new_data.csv'), header=False, index=False)"
   ]
  },
  {
   "cell_type": "markdown",
   "metadata": {},
   "source": [
    "Next, we upload the data to S3.\n",
    "\n",
    "**TODO:** Upload the csv file created above to S3."
   ]
  },
  {
   "cell_type": "code",
   "execution_count": 44,
   "metadata": {},
   "outputs": [],
   "source": [
    "# TODO: Upload the new_data.csv file contained in the data_dir folder to S3 and save the resulting\n",
    "#       URI as new_data_location\n",
    "\n",
    "new_data_location = session.upload_data(os.path.join(data_dir, 'new_data.csv'), key_prefix=prefix)"
   ]
  },
  {
   "cell_type": "markdown",
   "metadata": {},
   "source": [
    "Then, once the new data has been uploaded to S3, we create and run the batch transform job to get our model's predictions about the sentiment of the new movie reviews.\n",
    "\n",
    "**TODO:** Using the `xgb_transformer` object that was created earlier (at the end of Step 4 to test the XGBoost model), transform the data located at `new_data_location`."
   ]
  },
  {
   "cell_type": "code",
   "execution_count": 45,
   "metadata": {},
   "outputs": [
    {
     "name": "stdout",
     "output_type": "stream",
     "text": [
      "..............................\u001b[34mArguments: serve\u001b[0m\n",
      "\u001b[34m[2020-11-01 02:56:01 +0000] [1] [INFO] Starting gunicorn 19.7.1\u001b[0m\n",
      "\u001b[34m[2020-11-01 02:56:01 +0000] [1] [INFO] Listening at: http://0.0.0.0:8080 (1)\u001b[0m\n",
      "\u001b[34m[2020-11-01 02:56:01 +0000] [1] [INFO] Using worker: gevent\u001b[0m\n",
      "\u001b[34m[2020-11-01 02:56:01 +0000] [36] [INFO] Booting worker with pid: 36\u001b[0m\n",
      "\u001b[34m[2020-11-01 02:56:02 +0000] [37] [INFO] Booting worker with pid: 37\u001b[0m\n",
      "\u001b[34m[2020-11-01:02:56:02:INFO] Model loaded successfully for worker : 36\u001b[0m\n",
      "\u001b[34m[2020-11-01 02:56:02 +0000] [38] [INFO] Booting worker with pid: 38\u001b[0m\n",
      "\u001b[34m[2020-11-01 02:56:02 +0000] [39] [INFO] Booting worker with pid: 39\u001b[0m\n",
      "\u001b[34m[2020-11-01:02:56:02:INFO] Model loaded successfully for worker : 37\u001b[0m\n",
      "\u001b[34m[2020-11-01:02:56:02:INFO] Model loaded successfully for worker : 38\u001b[0m\n",
      "\u001b[34m[2020-11-01:02:56:02:INFO] Model loaded successfully for worker : 39\u001b[0m\n",
      "\u001b[34m[2020-11-01:02:56:02:INFO] Sniff delimiter as ','\u001b[0m\n",
      "\u001b[34m[2020-11-01:02:56:02:INFO] Determined delimiter of CSV input is ','\u001b[0m\n",
      "\u001b[34m[2020-11-01:02:56:02:INFO] Sniff delimiter as ','\u001b[0m\n",
      "\u001b[34m[2020-11-01:02:56:02:INFO] Determined delimiter of CSV input is ','\u001b[0m\n",
      "\u001b[34m[2020-11-01:02:56:02:INFO] Sniff delimiter as ','\u001b[0m\n",
      "\u001b[34m[2020-11-01:02:56:02:INFO] Determined delimiter of CSV input is ','\u001b[0m\n",
      "\u001b[34m[2020-11-01:02:56:02:INFO] Sniff delimiter as ','\u001b[0m\n",
      "\u001b[34m[2020-11-01:02:56:02:INFO] Determined delimiter of CSV input is ','\u001b[0m\n",
      "\u001b[34m[2020-11-01:02:56:05:INFO] Sniff delimiter as ','\u001b[0m\n",
      "\u001b[34m[2020-11-01:02:56:05:INFO] Determined delimiter of CSV input is ','\u001b[0m\n",
      "\u001b[34m[2020-11-01:02:56:05:INFO] Sniff delimiter as ','\u001b[0m\n",
      "\u001b[34m[2020-11-01:02:56:05:INFO] Determined delimiter of CSV input is ','\u001b[0m\n",
      "\u001b[34m[2020-11-01:02:56:05:INFO] Sniff delimiter as ','\u001b[0m\n",
      "\u001b[34m[2020-11-01:02:56:05:INFO] Determined delimiter of CSV input is ','\u001b[0m\n",
      "\u001b[34m[2020-11-01:02:56:05:INFO] Sniff delimiter as ','\u001b[0m\n",
      "\u001b[34m[2020-11-01:02:56:05:INFO] Determined delimiter of CSV input is ','\u001b[0m\n",
      "\u001b[32m2020-11-01T02:56:02.052:[sagemaker logs]: MaxConcurrentTransforms=4, MaxPayloadInMB=6, BatchStrategy=MULTI_RECORD\u001b[0m\n",
      "\u001b[34m[2020-11-01:02:56:07:INFO] Sniff delimiter as ','\u001b[0m\n",
      "\u001b[34m[2020-11-01:02:56:07:INFO] Determined delimiter of CSV input is ','\u001b[0m\n",
      "\u001b[34m[2020-11-01:02:56:07:INFO] Sniff delimiter as ','\u001b[0m\n",
      "\u001b[34m[2020-11-01:02:56:07:INFO] Determined delimiter of CSV input is ','\u001b[0m\n",
      "\u001b[34m[2020-11-01:02:56:07:INFO] Sniff delimiter as ','\u001b[0m\n",
      "\u001b[34m[2020-11-01:02:56:07:INFO] Determined delimiter of CSV input is ','\u001b[0m\n",
      "\u001b[35m[2020-11-01:02:56:07:INFO] Sniff delimiter as ','\u001b[0m\n",
      "\u001b[35m[2020-11-01:02:56:07:INFO] Determined delimiter of CSV input is ','\u001b[0m\n",
      "\u001b[35m[2020-11-01:02:56:07:INFO] Sniff delimiter as ','\u001b[0m\n",
      "\u001b[35m[2020-11-01:02:56:07:INFO] Determined delimiter of CSV input is ','\u001b[0m\n",
      "\u001b[35m[2020-11-01:02:56:07:INFO] Sniff delimiter as ','\u001b[0m\n",
      "\u001b[35m[2020-11-01:02:56:07:INFO] Determined delimiter of CSV input is ','\u001b[0m\n",
      "\u001b[34m[2020-11-01:02:56:07:INFO] Sniff delimiter as ','\u001b[0m\n",
      "\u001b[34m[2020-11-01:02:56:07:INFO] Determined delimiter of CSV input is ','\u001b[0m\n",
      "\u001b[35m[2020-11-01:02:56:07:INFO] Sniff delimiter as ','\u001b[0m\n",
      "\u001b[35m[2020-11-01:02:56:07:INFO] Determined delimiter of CSV input is ','\u001b[0m\n",
      "\u001b[34m[2020-11-01:02:56:09:INFO] Sniff delimiter as ','\u001b[0m\n",
      "\u001b[34m[2020-11-01:02:56:09:INFO] Determined delimiter of CSV input is ','\u001b[0m\n",
      "\u001b[34m[2020-11-01:02:56:09:INFO] Sniff delimiter as ','\u001b[0m\n",
      "\u001b[34m[2020-11-01:02:56:09:INFO] Determined delimiter of CSV input is ','\u001b[0m\n",
      "\u001b[34m[2020-11-01:02:56:09:INFO] Sniff delimiter as ','\u001b[0m\n",
      "\u001b[34m[2020-11-01:02:56:09:INFO] Determined delimiter of CSV input is ','\u001b[0m\n",
      "\u001b[34m[2020-11-01:02:56:10:INFO] Sniff delimiter as ','\u001b[0m\n",
      "\u001b[34m[2020-11-01:02:56:10:INFO] Determined delimiter of CSV input is ','\u001b[0m\n",
      "\u001b[35m[2020-11-01:02:56:09:INFO] Sniff delimiter as ','\u001b[0m\n",
      "\u001b[35m[2020-11-01:02:56:09:INFO] Determined delimiter of CSV input is ','\u001b[0m\n",
      "\u001b[35m[2020-11-01:02:56:09:INFO] Sniff delimiter as ','\u001b[0m\n",
      "\u001b[35m[2020-11-01:02:56:09:INFO] Determined delimiter of CSV input is ','\u001b[0m\n",
      "\u001b[35m[2020-11-01:02:56:09:INFO] Sniff delimiter as ','\u001b[0m\n",
      "\u001b[35m[2020-11-01:02:56:09:INFO] Determined delimiter of CSV input is ','\u001b[0m\n",
      "\u001b[35m[2020-11-01:02:56:10:INFO] Sniff delimiter as ','\u001b[0m\n",
      "\u001b[35m[2020-11-01:02:56:10:INFO] Determined delimiter of CSV input is ','\u001b[0m\n",
      "\u001b[34m[2020-11-01:02:56:12:INFO] Sniff delimiter as ','\u001b[0m\n",
      "\u001b[34m[2020-11-01:02:56:12:INFO] Determined delimiter of CSV input is ','\u001b[0m\n",
      "\u001b[34m[2020-11-01:02:56:12:INFO] Sniff delimiter as ','\u001b[0m\n",
      "\u001b[34m[2020-11-01:02:56:12:INFO] Determined delimiter of CSV input is ','\u001b[0m\n",
      "\u001b[34m[2020-11-01:02:56:12:INFO] Sniff delimiter as ','\u001b[0m\n",
      "\u001b[34m[2020-11-01:02:56:12:INFO] Determined delimiter of CSV input is ','\u001b[0m\n",
      "\u001b[34m[2020-11-01:02:56:12:INFO] Sniff delimiter as ','\u001b[0m\n",
      "\u001b[34m[2020-11-01:02:56:12:INFO] Determined delimiter of CSV input is ','\u001b[0m\n",
      "\u001b[35m[2020-11-01:02:56:12:INFO] Sniff delimiter as ','\u001b[0m\n",
      "\u001b[35m[2020-11-01:02:56:12:INFO] Determined delimiter of CSV input is ','\u001b[0m\n",
      "\u001b[35m[2020-11-01:02:56:12:INFO] Sniff delimiter as ','\u001b[0m\n",
      "\u001b[35m[2020-11-01:02:56:12:INFO] Determined delimiter of CSV input is ','\u001b[0m\n",
      "\u001b[35m[2020-11-01:02:56:12:INFO] Sniff delimiter as ','\u001b[0m\n",
      "\u001b[35m[2020-11-01:02:56:12:INFO] Determined delimiter of CSV input is ','\u001b[0m\n",
      "\u001b[35m[2020-11-01:02:56:12:INFO] Sniff delimiter as ','\u001b[0m\n",
      "\u001b[35m[2020-11-01:02:56:12:INFO] Determined delimiter of CSV input is ','\u001b[0m\n",
      "\u001b[34m[2020-11-01:02:56:14:INFO] Sniff delimiter as ','\u001b[0m\n",
      "\u001b[34m[2020-11-01:02:56:14:INFO] Determined delimiter of CSV input is ','\u001b[0m\n",
      "\u001b[35m[2020-11-01:02:56:14:INFO] Sniff delimiter as ','\u001b[0m\n",
      "\u001b[35m[2020-11-01:02:56:14:INFO] Determined delimiter of CSV input is ','\u001b[0m\n",
      "\u001b[34m[2020-11-01:02:56:14:INFO] Sniff delimiter as ','\u001b[0m\n",
      "\u001b[34m[2020-11-01:02:56:14:INFO] Determined delimiter of CSV input is ','\u001b[0m\n",
      "\u001b[34m[2020-11-01:02:56:14:INFO] Sniff delimiter as ','\u001b[0m\n",
      "\u001b[34m[2020-11-01:02:56:14:INFO] Determined delimiter of CSV input is ','\u001b[0m\n",
      "\u001b[34m[2020-11-01:02:56:15:INFO] Sniff delimiter as ','\u001b[0m\n",
      "\u001b[34m[2020-11-01:02:56:15:INFO] Determined delimiter of CSV input is ','\u001b[0m\n",
      "\u001b[35m[2020-11-01:02:56:14:INFO] Sniff delimiter as ','\u001b[0m\n",
      "\u001b[35m[2020-11-01:02:56:14:INFO] Determined delimiter of CSV input is ','\u001b[0m\n",
      "\u001b[35m[2020-11-01:02:56:14:INFO] Sniff delimiter as ','\u001b[0m\n",
      "\u001b[35m[2020-11-01:02:56:14:INFO] Determined delimiter of CSV input is ','\u001b[0m\n",
      "\u001b[35m[2020-11-01:02:56:15:INFO] Sniff delimiter as ','\u001b[0m\n",
      "\u001b[35m[2020-11-01:02:56:15:INFO] Determined delimiter of CSV input is ','\u001b[0m\n",
      "\u001b[34m[2020-11-01:02:56:17:INFO] Sniff delimiter as ','\u001b[0m\n",
      "\u001b[34m[2020-11-01:02:56:17:INFO] Determined delimiter of CSV input is ','\u001b[0m\n",
      "\u001b[35m[2020-11-01:02:56:17:INFO] Sniff delimiter as ','\u001b[0m\n",
      "\u001b[35m[2020-11-01:02:56:17:INFO] Determined delimiter of CSV input is ','\u001b[0m\n",
      "\u001b[34m[2020-11-01:02:56:19:INFO] Sniff delimiter as ','\u001b[0m\n",
      "\u001b[34m[2020-11-01:02:56:19:INFO] Determined delimiter of CSV input is ','\u001b[0m\n",
      "\u001b[34m[2020-11-01:02:56:19:INFO] Sniff delimiter as ','\u001b[0m\n",
      "\u001b[34m[2020-11-01:02:56:19:INFO] Determined delimiter of CSV input is ','\u001b[0m\n",
      "\u001b[35m[2020-11-01:02:56:19:INFO] Sniff delimiter as ','\u001b[0m\n",
      "\u001b[35m[2020-11-01:02:56:19:INFO] Determined delimiter of CSV input is ','\u001b[0m\n",
      "\u001b[35m[2020-11-01:02:56:19:INFO] Sniff delimiter as ','\u001b[0m\n",
      "\u001b[35m[2020-11-01:02:56:19:INFO] Determined delimiter of CSV input is ','\u001b[0m\n",
      "\u001b[34m[2020-11-01:02:56:19:INFO] Sniff delimiter as ','\u001b[0m\n",
      "\u001b[35m[2020-11-01:02:56:19:INFO] Sniff delimiter as ','\u001b[0m\n",
      "\u001b[34m[2020-11-01:02:56:19:INFO] Determined delimiter of CSV input is ','\u001b[0m\n",
      "\u001b[34m[2020-11-01:02:56:19:INFO] Sniff delimiter as ','\u001b[0m\n",
      "\u001b[34m[2020-11-01:02:56:19:INFO] Determined delimiter of CSV input is ','\u001b[0m\n",
      "\u001b[35m[2020-11-01:02:56:19:INFO] Determined delimiter of CSV input is ','\u001b[0m\n",
      "\u001b[35m[2020-11-01:02:56:19:INFO] Sniff delimiter as ','\u001b[0m\n",
      "\u001b[35m[2020-11-01:02:56:19:INFO] Determined delimiter of CSV input is ','\u001b[0m\n",
      "\u001b[34m[2020-11-01:02:56:21:INFO] Sniff delimiter as ','\u001b[0m\n",
      "\u001b[34m[2020-11-01:02:56:21:INFO] Determined delimiter of CSV input is ','\u001b[0m\n",
      "\u001b[34m[2020-11-01:02:56:21:INFO] Sniff delimiter as ','\u001b[0m\n",
      "\u001b[35m[2020-11-01:02:56:21:INFO] Sniff delimiter as ','\u001b[0m\n",
      "\u001b[35m[2020-11-01:02:56:21:INFO] Determined delimiter of CSV input is ','\u001b[0m\n",
      "\u001b[35m[2020-11-01:02:56:21:INFO] Sniff delimiter as ','\u001b[0m\n",
      "\u001b[34m[2020-11-01:02:56:21:INFO] Determined delimiter of CSV input is ','\u001b[0m\n",
      "\u001b[34m[2020-11-01:02:56:22:INFO] Sniff delimiter as ','\u001b[0m\n",
      "\u001b[34m[2020-11-01:02:56:22:INFO] Determined delimiter of CSV input is ','\u001b[0m\n",
      "\u001b[34m[2020-11-01:02:56:22:INFO] Sniff delimiter as ','\u001b[0m\n",
      "\u001b[34m[2020-11-01:02:56:22:INFO] Determined delimiter of CSV input is ','\u001b[0m\n",
      "\u001b[35m[2020-11-01:02:56:21:INFO] Determined delimiter of CSV input is ','\u001b[0m\n",
      "\u001b[35m[2020-11-01:02:56:22:INFO] Sniff delimiter as ','\u001b[0m\n",
      "\u001b[35m[2020-11-01:02:56:22:INFO] Determined delimiter of CSV input is ','\u001b[0m\n",
      "\u001b[35m[2020-11-01:02:56:22:INFO] Sniff delimiter as ','\u001b[0m\n",
      "\u001b[35m[2020-11-01:02:56:22:INFO] Determined delimiter of CSV input is ','\u001b[0m\n",
      "\u001b[34m[2020-11-01:02:56:24:INFO] Sniff delimiter as ','\u001b[0m\n",
      "\u001b[34m[2020-11-01:02:56:24:INFO] Determined delimiter of CSV input is ','\u001b[0m\n",
      "\u001b[35m[2020-11-01:02:56:24:INFO] Sniff delimiter as ','\u001b[0m\n",
      "\u001b[35m[2020-11-01:02:56:24:INFO] Determined delimiter of CSV input is ','\u001b[0m\n",
      "\u001b[34m[2020-11-01:02:56:24:INFO] Sniff delimiter as ','\u001b[0m\n",
      "\u001b[34m[2020-11-01:02:56:24:INFO] Determined delimiter of CSV input is ','\u001b[0m\n",
      "\u001b[34m[2020-11-01:02:56:24:INFO] Sniff delimiter as ','\u001b[0m\n",
      "\u001b[34m[2020-11-01:02:56:24:INFO] Determined delimiter of CSV input is ','\u001b[0m\n",
      "\u001b[35m[2020-11-01:02:56:24:INFO] Sniff delimiter as ','\u001b[0m\n",
      "\u001b[35m[2020-11-01:02:56:24:INFO] Determined delimiter of CSV input is ','\u001b[0m\n",
      "\u001b[35m[2020-11-01:02:56:24:INFO] Sniff delimiter as ','\u001b[0m\n",
      "\u001b[35m[2020-11-01:02:56:24:INFO] Determined delimiter of CSV input is ','\u001b[0m\n",
      "\u001b[34m[2020-11-01:02:56:24:INFO] Sniff delimiter as ','\u001b[0m\n",
      "\u001b[34m[2020-11-01:02:56:24:INFO] Determined delimiter of CSV input is ','\u001b[0m\n",
      "\u001b[35m[2020-11-01:02:56:24:INFO] Sniff delimiter as ','\u001b[0m\n",
      "\u001b[35m[2020-11-01:02:56:24:INFO] Determined delimiter of CSV input is ','\u001b[0m\n"
     ]
    },
    {
     "name": "stdout",
     "output_type": "stream",
     "text": [
      "\n"
     ]
    }
   ],
   "source": [
    "# TODO: Using xgb_transformer, transform the new_data_location data. You may wish to **wait** until\n",
    "#       the batch transform job has finished.\n",
    "xgb_transformer.transform(new_data_location, content_type='text/csv', split_type='Line')\n",
    "xgb_transformer.wait()"
   ]
  },
  {
   "cell_type": "markdown",
   "metadata": {},
   "source": [
    "As usual, we copy the results of the batch transform job to our local instance."
   ]
  },
  {
   "cell_type": "code",
   "execution_count": 47,
   "metadata": {},
   "outputs": [
    {
     "name": "stdout",
     "output_type": "stream",
     "text": [
      "Completed 256.0 KiB/369.5 KiB (3.3 MiB/s) with 1 file(s) remaining\r",
      "Completed 369.5 KiB/369.5 KiB (4.5 MiB/s) with 1 file(s) remaining\r",
      "download: s3://sagemaker-us-east-2-189919161534/xgboost-2020-11-01-02-51-09-030/new_data.csv.out to ../data/sentiment_update/new_data.csv.out\r\n"
     ]
    }
   ],
   "source": [
    "!aws s3 cp --recursive $xgb_transformer.output_path $data_dir"
   ]
  },
  {
   "cell_type": "markdown",
   "metadata": {},
   "source": [
    "Read in the results of the batch transform job."
   ]
  },
  {
   "cell_type": "code",
   "execution_count": 48,
   "metadata": {},
   "outputs": [],
   "source": [
    "predictions = pd.read_csv(os.path.join(data_dir, 'new_data.csv.out'), header=None)\n",
    "predictions = [round(num) for num in predictions.squeeze().values]"
   ]
  },
  {
   "cell_type": "markdown",
   "metadata": {},
   "source": [
    "And check the accuracy of our current model."
   ]
  },
  {
   "cell_type": "code",
   "execution_count": 49,
   "metadata": {},
   "outputs": [
    {
     "data": {
      "text/plain": [
       "0.73496"
      ]
     },
     "execution_count": 49,
     "metadata": {},
     "output_type": "execute_result"
    }
   ],
   "source": [
    "accuracy_score(new_Y, predictions)"
   ]
  },
  {
   "cell_type": "markdown",
   "metadata": {},
   "source": [
    "So it would appear that *something* has changed since our model is no longer (as) effective at determining the sentiment of a user provided review.\n",
    "\n",
    "In a real life scenario you would check a number of different things to see what exactly is going on. In our case, we are only going to check one and that is whether some aspect of the underlying distribution has changed. In other words, we want to see if the words that appear in our new collection of reviews matches the words that appear in the original training set. Of course, we want to narrow our scope a little bit so we will only look at the `5000` most frequently appearing words in each data set, or in other words, the vocabulary generated by each data set.\n",
    "\n",
    "Before doing that, however, let's take a look at some of the incorrectly classified reviews in the new data set.\n",
    "\n",
    "To start, we will deploy the original XGBoost model. We will then use the deployed model to infer the sentiment of some of the new reviews. This will also serve as a nice excuse to deploy our model so that we can mimic a real life scenario where we have a model that has been deployed and is being used in production.\n",
    "\n",
    "**TODO:** Deploy the XGBoost model."
   ]
  },
  {
   "cell_type": "code",
   "execution_count": 50,
   "metadata": {},
   "outputs": [
    {
     "name": "stderr",
     "output_type": "stream",
     "text": [
      "Parameter image will be renamed to image_uri in SageMaker Python SDK v2.\n",
      "Using already existing model: xgboost-2020-11-01-02-20-03-112\n"
     ]
    },
    {
     "name": "stdout",
     "output_type": "stream",
     "text": [
      "-------------!"
     ]
    }
   ],
   "source": [
    "# TODO: Deploy the model that was created earlier. Recall that the object name is 'xgb'.\n",
    "xgb_predictor = xgb.deploy(initial_instance_count=1, instance_type='ml.m4.xlarge')"
   ]
  },
  {
   "cell_type": "markdown",
   "metadata": {},
   "source": [
    "### Diagnose the problem\n",
    "\n",
    "Now that we have our deployed \"production\" model, we can send some of our new data to it and filter out some of the incorrectly classified reviews."
   ]
  },
  {
   "cell_type": "code",
   "execution_count": 51,
   "metadata": {},
   "outputs": [],
   "source": [
    "from sagemaker.predictor import csv_serializer\n",
    "\n",
    "# We need to tell the endpoint what format the data we are sending is in so that SageMaker can perform the serialization.\n",
    "xgb_predictor.content_type = 'text/csv'\n",
    "xgb_predictor.serializer = csv_serializer"
   ]
  },
  {
   "cell_type": "markdown",
   "metadata": {},
   "source": [
    "It will be useful to look at a few different examples of incorrectly classified reviews so we will start by creating a *generator* which we will use to iterate through some of the new reviews and find ones that are incorrect.\n",
    "\n",
    "**NOTE:** Understanding what Python generators are isn't really required for this module. The reason we use them here is so that we don't have to iterate through all of the new reviews, searching for incorrectly classified samples."
   ]
  },
  {
   "cell_type": "code",
   "execution_count": 52,
   "metadata": {},
   "outputs": [],
   "source": [
    "def get_sample(in_X, in_XV, in_Y):\n",
    "    for idx, smp in enumerate(in_X):\n",
    "        res = round(float(xgb_predictor.predict(in_XV[idx])))\n",
    "        if res != in_Y[idx]:\n",
    "            yield smp, in_Y[idx]"
   ]
  },
  {
   "cell_type": "code",
   "execution_count": 53,
   "metadata": {},
   "outputs": [],
   "source": [
    "gn = get_sample(new_X, new_XV, new_Y)"
   ]
  },
  {
   "cell_type": "markdown",
   "metadata": {},
   "source": [
    "At this point, `gn` is the *generator* which generates samples from the new data set which are not classified correctly. To get the *next* sample we simply call the `next` method on our generator."
   ]
  },
  {
   "cell_type": "code",
   "execution_count": 54,
   "metadata": {},
   "outputs": [
    {
     "name": "stdout",
     "output_type": "stream",
     "text": [
      "(['believ', 'other', 'took', 'seriou', 'view', 'god', 'lot', 'fun', 'root', 'hop', 'long', 'cassidi', 'great', 'tribut', 'western', 'serial', 'year', 'ago', 'meant', 'great', 'cinema', 'experi', 'except', 'big', 'special', 'effect', 'bonanza', 'fun', 'tongu', 'cheek', 'look', 'old', 'western', 'man', 'relax', 'enjoy', 'banana'], 0)\n"
     ]
    }
   ],
   "source": [
    "print(next(gn))"
   ]
  },
  {
   "cell_type": "markdown",
   "metadata": {},
   "source": [
    "After looking at a few examples, maybe we decide to look at the most frequently appearing `5000` words in each data set, the original training data set and the new data set. The reason for looking at this might be that we expect the frequency of use of different words to have changed, maybe there is some new slang that has been introduced or some other artifact of popular culture that has changed the way that people write movie reviews.\n",
    "\n",
    "To do this, we start by fitting a `CountVectorizer` to the new data."
   ]
  },
  {
   "cell_type": "code",
   "execution_count": 55,
   "metadata": {},
   "outputs": [
    {
     "name": "stderr",
     "output_type": "stream",
     "text": [
      "/home/ec2-user/anaconda3/envs/pytorch_p36/lib/python3.6/site-packages/sklearn/feature_extraction/text.py:507: UserWarning: The parameter 'token_pattern' will not be used since 'tokenizer' is not None'\n",
      "  warnings.warn(\"The parameter 'token_pattern' will not be used\"\n"
     ]
    },
    {
     "data": {
      "text/plain": [
       "CountVectorizer(analyzer='word', binary=False, decode_error='strict',\n",
       "                dtype=<class 'numpy.int64'>, encoding='utf-8', input='content',\n",
       "                lowercase=True, max_df=1.0, max_features=5000, min_df=1,\n",
       "                ngram_range=(1, 1),\n",
       "                preprocessor=<function <lambda> at 0x7f86bc66c510>,\n",
       "                stop_words=None, strip_accents=None,\n",
       "                token_pattern='(?u)\\\\b\\\\w\\\\w+\\\\b',\n",
       "                tokenizer=<function <lambda> at 0x7f86bc5ca9d8>,\n",
       "                vocabulary=None)"
      ]
     },
     "execution_count": 55,
     "metadata": {},
     "output_type": "execute_result"
    }
   ],
   "source": [
    "new_vectorizer = CountVectorizer(max_features=5000,\n",
    "                preprocessor=lambda x: x, tokenizer=lambda x: x)\n",
    "new_vectorizer.fit(new_X)"
   ]
  },
  {
   "cell_type": "markdown",
   "metadata": {},
   "source": [
    "Now that we have this new `CountVectorizor` object, we can check to see if the corresponding vocabulary has changed between the two data sets."
   ]
  },
  {
   "cell_type": "code",
   "execution_count": 56,
   "metadata": {},
   "outputs": [],
   "source": [
    "original_vocabulary = set(vocabulary.keys())\n",
    "new_vocabulary = set(new_vectorizer.vocabulary_.keys())"
   ]
  },
  {
   "cell_type": "markdown",
   "metadata": {},
   "source": [
    "We can look at the words that were in the original vocabulary but not in the new vocabulary."
   ]
  },
  {
   "cell_type": "code",
   "execution_count": 57,
   "metadata": {},
   "outputs": [
    {
     "name": "stdout",
     "output_type": "stream",
     "text": [
      "{'weari', 'victorian', 'playboy', '21st', 'reincarn', 'spill', 'ghetto'}\n"
     ]
    }
   ],
   "source": [
    "print(original_vocabulary - new_vocabulary)"
   ]
  },
  {
   "cell_type": "markdown",
   "metadata": {},
   "source": [
    "And similarly, we can look at the words that are in the new vocabulary but which were not in the original vocabulary."
   ]
  },
  {
   "cell_type": "code",
   "execution_count": 58,
   "metadata": {},
   "outputs": [
    {
     "name": "stdout",
     "output_type": "stream",
     "text": [
      "{'dubiou', 'optimist', 'omin', 'sophi', 'orchestr', 'masterson', 'banana'}\n"
     ]
    }
   ],
   "source": [
    "print(new_vocabulary - original_vocabulary)"
   ]
  },
  {
   "cell_type": "markdown",
   "metadata": {},
   "source": [
    "These words themselves don't tell us much, however if one of these words occured with a large frequency, that might tell us something. In particular, we wouldn't really expect any of the words above to appear with too much frequency.\n",
    "\n",
    "**Question** What exactly is going on here. Not only what (if any) words appear with a larger than expected frequency but also, what does this mean? What has changed about the world that our original model no longer takes into account?\n",
    "\n",
    "**NOTE:** This is meant to be a very open ended question. To investigate you may need more cells than the one provided below. Also, there isn't really a *correct* answer, this is meant to be an opportunity to explore the data."
   ]
  },
  {
   "cell_type": "code",
   "execution_count": 76,
   "metadata": {},
   "outputs": [
    {
     "name": "stdout",
     "output_type": "stream",
     "text": [
      "{'engross': 1543, 'bbc': 454, 'tv': 4633, 'mini': 2893, 'seri': 3953, 'loos': 2695, 'base': 437, 'upon': 4716, 'mysteri': 2998, 'disappear': 1326, 'young': 4989, 'mother': 2962, 'realli': 3612, 'studi': 4304, 'assort': 347, 'charact': 808, 'stori': 4271, 'last': 2580, 'five': 1771, 'hour': 2221, 'thu': 4506, 'much': 2977, 'ensembl': 1550, 'piec': 3328, 'wide': 4900, 'varieti': 4750, 'brilliant': 633, 'british': 638, 'actor': 139, 'actress': 140, 'show': 4016, 'talent': 4413, 'actual': 141, 'portray': 3397, 'kind': 2530, 'peopl': 3283, 'one': 3155, 'normal': 3088, 'meet': 2835, 'bore': 583, 'difficult': 1305, 'admir': 150, 'instanc': 2360, 'lead': 2602, 'husband': 2247, 'whose': 4898, 'wife': 4905, 'job': 2460, 'appar': 291, 'interest': 2377, 'find': 1756, 'live': 2677, 'parent': 3239, 'law': 2595, 'armi': 313, 'appear': 293, 'slightest': 4092, 'ambit': 237, 'life': 2646, 'apart': 287, 'small': 4101, 'famili': 1684, 'play': 3352, 'david': 1192, 'part': 3245, 'come': 952, 'across': 135, 'total': 4558, 'sympathet': 4397, 'person': 3297, 'although': 225, 'activ': 138, 'love': 2709, 'superbl': 4354, 'want': 4830, 'comfort': 956, 'obvious': 3127, 'nice': 3059, 'guy': 2062, 'standout': 4226, 'perform': 3290, 'whole': 4894, 'act': 136, 'circl': 875, 'round': 3805, 'everyon': 1604, 'els': 1506, 'simpli': 4044, 'incred': 2315, 'woman': 4934, 'inde': 2316, 'familiar': 1685, 'name': 3006, 'hyster': 2252, 'self': 3930, 'centr': 785, 'hate': 2109, 'elderli': 1491, 'idiot': 2262, 'ala': 192, 'know': 2545, 'well': 4872, 'britain': 637, 'finest': 1758, 'see': 3920, 'review': 3730, 'half': 2072, 'broken': 644, 'thing': 4484, 'take': 4410, 'could': 1075, 'two': 4640, 'dimension': 1313, 'make': 2757, 'four': 1840, 'wonder': 4936, 'support': 4361, 'old': 3148, 'pro': 3469, 'patrick': 3265, 'pair': 3220, 'set': 3961, 'high': 2155, 'standard': 4225, 'younger': 4990, 'player': 3354, 'spectacular': 4172, 'becom': 467, 'less': 2632, 'type': 4642, 'older': 3149, 'way': 4851, 'put': 3538, 'redeem': 3632, 'latter': 2585, 'stage': 4216, 'chanc': 802, 'pull': 3523, 'convinc': 1051, 'origin': 3173, 'drunk': 1423, 'scene': 3876, 'ever': 1600, 'seen': 3926, 'film': 1750, 'big': 510, 'surpris': 4370, 'sarah': 3856, 'great': 2019, 'depth': 1261, 'smart': 4103, 'tediou': 4444, 'sheer': 3988, 'magic': 2747, 'turn': 4630, 'deepli': 1226, 'intrigu': 2387, 'entir': 1559, 'good': 1989, 'end': 1531, 'frankli': 1854, 'guess': 2051, 'happen': 2090, 'properli': 3498, 'begin': 474, 'mani': 2766, 'trick': 4606, 'eye': 1659, 'let': 2636, 'us': 4721, 'sure': 4365, 'though': 4491, 'eventu': 1599, 'learn': 2607, 'extrem': 1658, 'violent': 4788, 'traumat': 4591, 'childhood': 840, 'ambigu': 236, 'facial': 1665, 'express': 1650, 'extraordinari': 1657, 'amazingli': 234, 'hopeless': 2203, 'fellow': 1725, 'mum': 2981, 'hidden': 2152, 'suppos': 4362, 'question': 3547, 'superb': 4353, 'given': 1960, 'revolt': 3732, 'teenag': 4446, 'girl': 1957, 'sort': 4147, 'dread': 1403, 'crucial': 1129, 'moment': 2935, 'collaps': 938, 'helpless': 2142, 'tear': 4436, 'pathet': 3261, 'arrog': 320, 'pose': 3398, 'three': 4497, 'children': 842, 'also': 222, 'friend': 1868, 'brother': 650, 'sister': 4061, 'sibl': 4023, 'may': 2814, 'dim': 1311, 'seem': 3924, 'unabl': 4652, 'say': 3866, 'anyth': 284, 'particularli': 3250, 'wit': 4926, 'littl': 2675, 'recommend': 3625, 'sweet': 4389, 'natur': 3017, 'convey': 1049, 'effect': 1480, 'lee': 2613, 'boy': 601, 'tyler': 4641, 'anthoni': 273, 'walter': 4825, 'role': 3780, 'get': 1944, 'shame': 3978, 'fine': 1757, 'wast': 4843, 'go': 1975, 'must': 2993, 'draw': 1401, 'line': 2661, 'somewher': 4137, 'manag': 2764, 'strang': 4279, 'fascin': 1699, 'essenti': 1579, 'uninterest': 4690, 'caught': 772, 'web': 4864, 'intens': 2374, 'suspens': 4379, 'simpl': 4043, 'meaning': 2824, 'deliv': 1242, 'emot': 1517, 'punch': 3526, 'trail': 4576, 'dull': 1433, 'short': 4008, 'alway': 229, 'someth': 4134, 'enlighten': 1546, 'messag': 2857, 'without': 4929, 'pretens': 3444, 'indulg': 2325, 'direct': 1318, 'school': 3881, 'attend': 364, 'lesson': 2634, 'import': 2290, 'enough': 1549, 'copi': 1060, 'around': 316, 'share': 3981, 'bulli': 672, 'unlik': 4698, 'featur': 1718, 'kid': 2523, 'hold': 2178, 'believ': 482, 'soundtrack': 4150, 'work': 4944, 'blade': 532, 'runner': 3821, 'citi': 878, 'lost': 2701, 'sens': 3938, 'whatev': 4883, 'use': 4723, 'abus': 113, 'mostli': 2961, 'give': 1959, 'far': 1692, 'might': 2874, 'dream': 1404, 'ought': 3181, 'ad': 142, 'wait': 4815, 'anim': 262, 'affect': 165, 'miyazaki': 2920, 'stuff': 4306, '1st': 54, 'scratch': 3894, 'relationship': 3658, 'noir': 3077, 'hey': 2151, 'leav': 2610, 'right': 3751, 'sci': 3882, 'fi': 1736, 'theme': 4478, 'watch': 4844, 'bought': 593, 'movi': 2972, 'day': 1195, 'ago': 179, 'thought': 4492, 'would': 4957, 'pretti': 3446, 'pop': 3388, 'dvd': 1442, 'jame': 2426, 'belushi': 488, 'bill': 517, 'mouth': 2969, 'especi': 1577, 'timothi': 4522, 'dalton': 1166, 'roll': 3781, 'sheriff': 3994, 'hous': 2222, 'excel': 1618, 'camera': 708, 'dialogu': 1295, 'stolen': 4264, '12': 7, 'million': 2886, 'dollar': 1371, 'mafia': 2744, 'togeth': 4532, 'south': 4153, 'protect': 3506, 'program': 3485, 'track': 4569, 'trust': 4623, 'insid': 2353, 'within': 4928, 'first': 1764, 'minut': 2900, 'dutch': 1439, 'thriller': 4500, 'gay': 1924, 'alcohol': 198, 'writer': 4967, 'sleep': 4086, 'san': 3850, 'murder': 2985, 'roommat': 3793, 'tri': 4601, 'steal': 4242, 'magazin': 2745, 'news': 3056, 'stand': 4224, 'lust': 2732, 'man': 2763, 'train': 4578, 'station': 4238, 'hero': 2146, 'nonsens': 3085, 'dress': 1407, 'except': 1619, 'least': 2608, 'nowher': 3105, 'basic': 442, 'plot': 3362, 'drag': 1395, 'nearli': 3023, 'reach': 3600, 'pointless': 3371, 'conclus': 997, 'verhoeven': 4762, 'visual': 4798, 'flair': 1774, 'resort': 3706, 'wild': 4907, 'hallucin': 2076, 'symbol': 4395, 'gratuit': 2015, 'gore': 1993, 'run': 3820, 'idea': 2257, 'hope': 2202, 'went': 4875, 'heck': 2131, 'similar': 4039, 'experi': 1636, 'unfortun': 4682, 'took': 4547, 'serious': 3956, 'care': 737, 'jason': 2434, 'problem': 3471, 'sorri': 4145, 'cover': 1088, 'anyway': 285, 'undead': 4662, 'serial': 3954, 'killer': 2528, 'freddi': 1858, 'aspect': 336, 'bad': 410, 'episod': 1565, 'celebr': 778, 'funni': 1891, 'complain': 976, 'local': 2682, 'cinema': 871, 'qualiti': 3543, 'sound': 4149, 'whether': 4888, 'system': 4400, 'understand': 4670, 'anyon': 283, 'background': 407, '20': 56, 'music': 2990, 'readi': 3605, 'blame': 536, 'equip': 1568, 'director': 1320, 'told': 4536, 'subject': 4315, 'complaint': 977, 'distort': 1354, 'creat': 1104, 'disturb': 1358, 'length': 2625, 'uniqu': 4692, 'matter': 2809, 'score': 3889, 'histor': 2168, 'inaccuraci': 2300, 'elsewher': 1507, 'reason': 3615, 'miss': 2910, 'hear': 2121, 'certainli': 791, 'cat': 765, 'despit': 1278, 'stereotyp': 4249, 'virtual': 4792, 'cast': 762, 'low': 2711, 'budget': 663, 'alright': 221, 'better': 502, 'expect': 1633, 'skeptic': 4069, 'comput': 988, 'viru': 4793, 'infect': 2331, 'ludicr': 2722, 'handl': 2085, 'concept': 993, 'even': 1597, 'clich': 899, 'quit': 3554, 'help': 2141, 'think': 4485, 'turner': 4631, 'bit': 524, 'davi': 1191, 'look': 2694, 'like': 2654, 'mayb': 2815, 'face': 1664, 'hair': 2070, 'cloth': 917, 'kept': 2518, 'back': 405, 'mind': 2890, 'time': 4519, 'fatal': 1705, 'error': 1575, 'entertain': 1555, 'flick': 1787, 'keep': 2511, 'other': 3179, 'seriou': 3955, 'view': 4779, 'god': 1977, 'lot': 2702, 'fun': 1886, 'root': 3795, 'hop': 2201, 'long': 2692, 'cassidi': 761, 'tribut': 4605, 'western': 4878, 'year': 4981, 'meant': 2826, 'special': 4169, 'tongu': 4544, 'cheek': 826, 'relax': 3659, 'enjoy': 1545, 'depict': 1259, 'plight': 3360, 'al': 191, 'lou': 2703, 'diseas': 1336, 'suffer': 4334, 'done': 1377, 'compass': 971, 'humor': 2239, 'carter': 753, 'found': 1839, 'hard': 2094, 'kenneth': 2516, 'branagh': 608, 'quirki': 3553, 'artist': 326, 'forc': 1817, 'provid': 3510, 'commun': 965, 'servic': 3959, 'altern': 224, 'prison': 3466, 'develop': 1289, 'treat': 4595, 'fact': 1667, 'fairi': 1675, 'tale': 4412, 'detract': 1287, 'fabul': 1663, 'made': 2742, 'stupid': 4310, 'mystic': 2999, 'eat': 1463, 'women': 4935, 'virgin': 4789, 'ridicul': 3749, 'got': 1996, 'noth': 3098, 'yeah': 4980, 'star': 4229, 'war': 4831, 'new': 3051, 'scienc': 3883, 'fiction': 1738, 'empir': 1522, 'strike': 4289, 'third': 4486, 'final': 1753, 'trilog': 4609, 'resolv': 3704, 'cliffhang': 903, 'left': 2614, 'previou': 3449, 'elabor': 1490, 'escap': 1576, 'plan': 3345, 'action': 137, 'move': 2970, 'rebel': 3616, 'build': 667, 'confront': 1006, 'emperor': 1519, 'battl': 452, 'audienc': 370, 'alreadi': 220, 'edg': 1471, 'seat': 3909, 'everyth': 1605, 'climax': 906, 'definit': 1233, 'stake': 4218, 'continu': 1036, 'chang': 803, 'ground': 2042, 'crew': 1114, 'land': 2572, 'includ': 2305, 'han': 2082, 'solo': 4127, 'rage': 3566, 'space': 4157, 'luke': 2726, 'death': 1206, 'anoth': 268, 'duel': 1431, 'vader': 4734, 'sinc': 4051, 'constantli': 1024, 'lose': 2698, 'determin': 1286, 'outcom': 3183, 'fetch': 1734, 'unrealist': 4705, 'distract': 1355, 'rather': 3592, 'threat': 4495, 'luck': 2719, 'fight': 1744, 'twist': 4639, 'nobodi': 3075, 'saw': 3865, 'stun': 4308, 'still': 4255, 'complet': 978, 'light': 2651, 'tone': 4543, 'combin': 951, 'grand': 2008, 'edit': 1475, 'return': 3723, 'jedi': 2440, 'concentr': 992, 'need': 3030, 'fifteen': 1741, 'technolog': 4442, 'advanc': 157, 'concern': 994, 'occasion': 3129, 'tie': 4512, 'fighter': 1745, 'non': 3082, 'threaten': 4496, 'huge': 2231, 'fli': 1786, 'trap': 4587, 'head': 2115, 'emerg': 1514, 'taken': 4411, 'palac': 3222, 'lame': 2569, 'replac': 3686, 'victori': 4774, 'span': 4161, 'galaxi': 1908, 'instead': 2363, 'villag': 4784, 'case': 756, 'deserv': 1271, 'best': 498, 'outstand': 3193, 'fan': 1687, 'shop': 4007, 'corner': 1065, 'feel': 1721, 'romant': 3785, 'comedi': 954, 'word': 4942, 'possibl': 3402, 'scenario': 3875, 'protagonist': 3505, 'charm': 819, 'contain': 1029, 'highli': 2158, 'boot': 581, 'easi': 1457, 'beauti': 465, 'often': 3142, 'howev': 2226, 'heart': 2123, 'warm': 4834, 'alfr': 204, 'stewart': 4252, 'clara': 885, 'novak': 3102, 'margaret': 2777, 'arriv': 319, 'co': 924, 'past': 3258, 'nine': 3070, 'ask': 334, 'clash': 887, 'cigarett': 869, 'box': 599, 'open': 3158, 'sell': 3932, 'hire': 2167, 'next': 3058, 'six': 4066, 'month': 2945, 'cours': 1085, 'fall': 1680, 'soul': 4148, 'letter': 2637, 'pass': 3253, 'thin': 4483, 'flesh': 1785, 'engag': 1539, 'lone': 2690, 'frank': 1851, 'morgan': 2955, 'home': 2188, 'felix': 1723, 'sidekick': 4028, 'room': 3792, 'honest': 2193, 'opinion': 3161, 'joseph': 2475, 'ultim': 4648, 'ambiti': 238, 'william': 4912, 'traci': 4568, 'promot': 3492, 'posit': 3400, 'clerk': 896, 'dear': 1205, 'dismiss': 1344, 'subsequ': 4319, 'along': 218, 'journey': 2478, 'almost': 216, 'touch': 4559, 'invit': 2396, 'charl': 815, 'smith': 4107, 'christma': 862, 'eve': 1595, 'dinner': 1315, 'snow': 4116, 'winter': 4920, 'glad': 1961, 'alon': 217, 'busi': 683, 'tell': 4449, 'asid': 333, 'truli': 4621, 'full': 1883, 'jimmi': 2457, 'persona': 3298, 'c': 694, 'f': 1661, 'mr': 2973, 'goe': 1980, 'washington': 4842, 'abrupt': 106, 'hint': 2164, 'perhap': 3291, 'aw': 387, 'soon': 4140, 'secret': 3913, 'quickli': 3549, 'realis': 3607, 'boss': 588, 'exchang': 1621, 'descript': 1269, 'fianc': 1737, 'hilari': 2162, 'prove': 3509, 'reveal': 3726, 'perfectli': 3289, 'control': 1043, 'whenev': 4886, 'insult': 2368, 'wont': 4937, 'yet': 4986, 'underneath': 4667, 'profession': 3480, 'ident': 2259, 'earnest': 1454, 'sincer': 4052, 'mention': 2849, 'member': 2843, 'fare': 1694, 'close': 913, 'vivid': 4800, 'jealou': 2438, 'driven': 1415, 'nervou': 3045, 'breakdown': 617, 'mean': 2822, '22': 68, 'grow': 2044, 'loyal': 2714, 'regular': 3649, 'russian': 3826, 'particular': 3249, 'note': 3097, 'present': 3436, 'hung': 2242, 'proud': 3508, 'exampl': 1617, 'lavish': 2594, 'detail': 1284, 'creation': 1105, 'worth': 4953, 'effort': 1482, 'door': 1382, 'cash': 757, 'regist': 3647, 'chose': 855, 'univers': 4694, 'anywher': 286, 'lie': 2645, 'real': 3606, 'machin': 2738, 'brought': 651, 'expens': 1635, 'desir': 1273, 'realism': 3608, 'cannot': 723, 'remak': 3671, 'mail': 2751, 'talk': 4414, 'merit': 2852, 'harm': 2099, 'lucki': 2720, 'romanc': 3784, 'away': 393, '11': 6, 'former': 1830, 'colleg': 942, 'account': 125, 'professor': 3481, 'amaz': 233, '1968': 25, 'coher': 932, 'crime': 1116, 'maggi': 2746, 'delight': 1241, 'ustinov': 4726, 'judg': 2482, 'worst': 4952, 'read': 3603, 'classic': 889, 'literatur': 2674, 'never': 3049, 'late': 2581, 'jane': 2429, 'eyr': 1660, 'favorit': 1710, 'mainli': 2753, 'book': 579, '1983': 38, 'clark': 886, '2006': 63, 'rochest': 3774, 'absolut': 109, 'recent': 3619, 'disappoint': 1327, 'product': 3477, 'faith': 1677, 'hollywood': 2184, 'titl': 4528, 'brit': 636, 'among': 243, 'abl': 100, 'proper': 3497, 'context': 1035, 'spirit': 4188, 'imageri': 2275, 'confus': 1007, 'top': 4550, 'dramat': 1400, 'contribut': 1041, 'element': 1496, 'either': 1488, 'typic': 4643, 'spoil': 4196, 'creativ': 1106, 'rent': 3681, 'twice': 4636, 'follow': 1806, 'novel': 3103, 'clock': 911, 'bet': 499, 'reader': 3604, 'version': 4763, 'valu': 4740, 'inspector': 2357, 'holm': 2185, 'dicken': 1301, 'london': 2689, 'minor': 2898, 'fire': 1761, 'cap': 726, 'place': 3342, 'applaud': 295, 'polit': 3382, 'heroin': 2148, 'quietli': 3551, 'cute': 1156, 'matur': 2812, 'sergeant': 3952, 'evil': 1608, 'poor': 3386, 'written': 4968, 'poverti': 3410, 'tragic': 4575, 'capit': 729, 'raw': 3596, 'gener': 1930, 'rich': 3741, 'gate': 1921, 'motiv': 2964, 'outright': 3191, 'justic': 2494, 'evid': 1607, 'court': 1086, 'decid': 1215, 'distribut': 1357, 'properti': 3499, 'gather': 1922, 'becam': 466, 'notori': 3101, 'thoroughli': 4490, 'england': 1541, '1973': 30, 'describ': 1268, 'curs': 1149, 'impress': 2294, 'involv': 2397, 'money': 2937, 'retir': 3721, 'soldier': 4124, 'fenc': 1731, 'tradit': 4572, 'male': 2760, 'rememb': 3673, 'scream': 3895, 'toward': 4563, 'delic': 1239, 'exercis': 1626, 'bring': 635, 'closer': 914, 'coupl': 1083, 'stick': 4253, 'amus': 247, 'dialog': 1294, 'ass': 338, 'bleak': 542, 'second': 3910, 'practic': 3413, 'ideal': 2258, 'art': 322, 'scroog': 3902, 'atmospher': 357, 'dismal': 1343, 'usual': 4727, 'depress': 1260, 'author': 381, 'world': 4946, 'knew': 2540, 'okay': 3146, 'treatment': 4596, 'add': 145, '2005': 62, 'pace': 3209, 'faster': 1703, 'vs': 4809, 'explain': 1640, 'front': 1874, 'lurk': 2730, 'shadow': 3972, 'easier': 1458, 'awesom': 395, 'scari': 3873, 'smile': 4106, 'popcorn': 3389, 'horror': 2213, 'appeal': 292, 'nonetheless': 3084, 'today': 4529, '1': 3, 'sick': 4024, 'tire': 4525, 'compar': 969, 'modern': 2928, 'ya': 4976, 'oh': 3143, 'mistak': 2913, 'everi': 1601, 'earlier': 1452, 'stop': 4269, 'adapt': 144, 'tom': 4538, 'robbin': 3769, 'screen': 3896, 'crap': 1095, 'spoken': 4199, 'suggest': 4338, 'someon': 4133, 'pearl': 3277, 'overal': 3195, 'badli': 412, 'cliff': 902, 'hack': 2066, 'fifth': 1742, 'size': 4068, 'term': 4460, 'current': 1148, 'wildli': 4909, 'differ': 1304, 'gotten': 1999, 'refer': 3640, 'viewer': 4780, 'huh': 2233, 'worthi': 4954, 'script': 3900, 'burn': 678, 'sent': 3944, 'van': 4743, 'tremend': 4599, 'decent': 1213, 'complex': 979, 'miniseri': 2896, '80': 92, 'major': 2756, 'bronson': 645, 'start': 4233, 'wish': 4925, 'ii': 2266, 'gruesom': 2048, 'screenwrit': 3898, 'progress': 3487, 'gross': 2040, 'w': 4812, 'imagin': 2276, 'rape': 3586, 'suicid': 4339, 'daughter': 1189, 'shown': 4020, 'disgust': 1339, '10': 4, 'midnight': 2873, 'bath': 449, 'afterward': 173, 'men': 2846, 'remain': 3670, 'period': 3293, 'camp': 710, 'brutal': 655, 'reveng': 3728, 'produc': 3476, 'kick': 2522, 'weari': 4861, 'senior': 3937, 'citizen': 879, 'age': 174, 'destroy': 1281, 'punk': 3528, 'shoddi': 4003, 'terribl': 4463, 'energi': 1537, 'fairli': 1676, 'cake': 700, 'cinemat': 872, 'pervers': 3301, 'john': 2465, 'allow': 215, 'remark': 3672, 'thank': 4473, 'forgotten': 1827, 'gang': 1912, 'japanes': 2431, 'fortun': 1834, 'impli': 2288, 'ruin': 3816, 'career': 738, 'horribl': 2209, 'check': 825, '60': 86, '70': 88, 'mechan': 2830, '3': 73, 'west': 4877, 'red': 3631, 'sun': 4347, 'magnific': 2749, 'seven': 3964, 'rider': 3748, 'rain': 3567, 'etc': 1585, 'elvira': 1509, 'mistress': 2915, 'dark': 1183, '1988': 43, 'daniel': 1179, 'green': 2026, 'edi': 1474, 'christian': 860, 'town': 4565, 'collect': 940, 'dead': 1198, 'aunt': 374, 'inherit': 2342, 'buck': 660, 'vega': 4754, 'creepi': 1113, 'breath': 620, 'win': 4914, 'avoid': 386, 'uncl': 4657, 'alter': 223, 'ego': 1484, 'success': 4328, 'plu': 3363, 'morbid': 2953, 'naiv': 3004, 'fish': 1766, 'water': 4847, 'cut': 1155, 'black': 530, 'enorm': 1548, 'twin': 4638, 'wear': 4860, 'makeup': 2759, 'bob': 564, 'equal': 1567, 'nemesi': 3040, 'vincent': 4786, 'presenc': 3435, 'joke': 2469, 'boob': 578, 'spoof': 4201, 'laugh': 2586, 'sequel': 3950, 'roger': 3779, 'corman': 1063, 'b': 399, 'haunt': 2111, 'hill': 2163, 'andi': 253, 'peak': 3276, 'tast': 4426, 'american': 240, 'pie': 3327, 'style': 4311, 'crude': 1130, 'vulgar': 4810, 'fantasi': 1690, 'came': 706, 'accept': 117, 'soap': 4117, 'opera': 3160, 'testament': 4470, 'power': 3412, 'cope': 1059, 'succeed': 4327, 'et': 1584, 'earth': 1455, 'stay': 4240, 'planet': 3347, 'friendli': 1869, 'human': 2236, 'drama': 1399, 'poetri': 3368, 'pure': 3532, 'core': 1062, 'sight': 4031, 'doc': 1365, 'ice': 2254, 'main': 2752, 'danni': 1181, 'compos': 982, 'recogn': 3621, 'voic': 4802, 'credit': 1110, 'anchor': 250, 'gene': 1929, 'kelli': 2513, 'sinatra': 4050, 'team': 4435, 'song': 4139, 'sing': 4053, 'kathryn': 2506, 'grayson': 2018, 'gorgeou': 1994, 'dean': 1204, 'child': 839, 'fond': 1807, 'piano': 3323, 'jo': 2458, 'unforgett': 4681, 'danc': 1174, 'number': 3111, 'undoubtedli': 4674, 'funniest': 1893, 'alicia': 206, 'hide': 2153, '6': 85, 'row': 3808, 'cri': 1115, 'felt': 1726, 'shatter': 3985, 'blow': 555, 'histori': 2169, 'cinematographi': 874, '4': 79, '9': 93, 'kill': 2527, 'sacrif': 3831, 'caus': 773, 'admit': 151, 'anybodi': 281, 'lord': 2696, 'ring': 3752, 'die': 1303, 'honestli': 2195, 'robot': 3773, 'hundr': 2241, 'trek': 4598, 'golden': 1985, 'releas': 3660, '1986': 41, 'pan': 3229, 'critic': 1121, 'eddi': 1470, 'murphi': 2986, 'monk': 2938, 'blank': 538, 'enter': 1553, 'sit': 4062, 'chop': 850, 'giant': 1948, 'bird': 521, 'cage': 697, 'michael': 2868, 'jackson': 2421, 'wooden': 4940, 'sequenc': 3951, '1980': 36, 'heavili': 2130, 'cool': 1056, '2004': 61, 'date': 1188, 'jar': 2432, 'somewhat': 4136, 'bloodi': 553, 'mood': 2948, 'sometim': 4135, 'point': 3370, 'shoot': 4005, 'martial': 2792, 'buddi': 662, 'stress': 4286, 'rare': 3589, 'comment': 960, 'write': 4966, 'said': 3839, 'scariest': 3874, 'shark': 3982, 'attack': 361, 'iii': 2267, 'vampir': 4742, 'zombi': 4997, 'true': 4620, 'subtl': 4323, 'excus': 1624, 'abandon': 97, 'rule': 3818, 'govern': 2000, 'argument': 308, 'process': 3474, 'newer': 3053, 'artsi': 327, 'method': 2862, 'compani': 967, 'held': 2135, 'fail': 1671, 'event': 1598, 'clear': 894, 'page': 3215, 'rest': 3711, 'passeng': 3256, 'side': 4027, 'car': 734, 'exagger': 1615, 'stare': 4230, 'movement': 2971, 'air': 185, 'radio': 3565, '2': 55, 'forgiv': 1824, 'offens': 3138, 'oscar': 3177, 'winner': 4919, 'level': 2638, 'bare': 431, 'abil': 99, 'speak': 4167, 'pronounc': 3493, 'fool': 1811, 'comparison': 970, 'resid': 3701, 'greatest': 2021, 'narr': 3008, 'lesbian': 2630, 'importantli': 2291, 'deal': 1201, 'plain': 3344, 'forgot': 1826, 'throw': 4503, 'explan': 1641, 'averag': 385, 'regard': 3644, 'mountain': 2967, 'height': 2133, 'fit': 1770, 'stallon': 4222, 'excit': 1622, 'villain': 4785, 'shock': 4002, 'rank': 3583, 'weak': 4854, 'extra': 1656, 'rambo': 3573, 'rocki': 3777, 'bond': 573, 'ok': 3145, 'consid': 1019, 'factor': 1668, 'cheesi': 829, 'realist': 3609, 'talki': 4415, 'maker': 2758, 'hit': 2171, 'plane': 3346, 'earli': 1451, 'foot': 1813, 'potenti': 3406, 'higher': 2156, 'fault': 1708, 'cinematograph': 873, 'dreck': 1406, 'interact': 2376, 'tortur': 4556, 'gothic': 1997, 'pretenti': 3445, 'strain': 4277, 'alley': 213, 'jerk': 2446, 'choos': 849, 'spend': 4176, 'mari': 2779, 'spine': 4186, 'whatsoev': 4884, 'respect': 3708, 'superior': 4357, 'catch': 766, 'amateur': 231, 'propaganda': 3496, 'german': 1941, 'thirti': 4487, 'forti': 1833, 'soviet': 4155, 'leader': 2603, 'father': 1707, 'figur': 1746, 'loss': 2700, 'church': 867, 'daddi': 1163, 'save': 3864, 'rush': 3823, 'melodramat': 2841, 'shot': 4012, 'angel': 256, 'nod': 3076, 'homeless': 2189, 'likabl': 2653, 'approach': 298, 'drink': 1411, 'condit': 999, 'bright': 631, 'cheer': 827, 'countri': 1080, 'notic': 3099, 'discuss': 1335, 'mst3k': 2975, 'fair': 1674, 'exposur': 1649, 'misfortun': 2907, 'form': 1828, 'uncut': 4661, 'slightli': 4093, 'broadcast': 641, 'owe': 3203, 'primarili': 3457, 'filmmak': 1751, 'betray': 500, 'joe': 2462, 'baker': 417, 'seemingli': 3925, 'unpleas': 4701, 'shower': 4019, 'perpetu': 3295, 'shout': 4014, 'son': 4138, 'result': 3716, 'print': 3464, 'absent': 108, 'bar': 429, 'accompani': 122, 'outsid': 3192, 'uniform': 4685, 'cooper': 1057, 'cowboy': 1090, 'slash': 4080, 'outfit': 3186, 'opportun': 3163, 'observ': 3122, 'nake': 3005, 'butt': 689, 'sacrific': 3832, 'identifi': 2260, 'mobil': 2922, 'somehow': 4132, 'social': 4119, 'torn': 4554, 'germani': 1942, 'wwii': 4973, 'central': 786, 'maria': 2780, 'vulner': 4811, 'econom': 1468, 'gender': 1928, 'relat': 3657, 'ladder': 2565, 'promin': 3490, 'avail': 383, 'worker': 4945, 'marri': 2787, 'alli': 214, 'brief': 629, 'ship': 3999, 'absenc': 107, 'despair': 1274, 'report': 3689, 'prostitut': 3504, 'plenti': 3359, 'messi': 2858, 'circumst': 877, 'nobl': 3074, 'larg': 2577, 'deep': 1224, 'discern': 1332, 'tunnel': 4627, 'statement': 4236, 'post': 3403, 'highest': 2157, 'tend': 4455, 'block': 549, 'focu': 1801, 'unbear': 4655, 'passion': 3257, 'display': 1347, 'evok': 1609, 'connect': 1009, 'mesmer': 2855, 'bitter': 528, 'von': 4806, 'greater': 2020, 'scope': 3888, 'authent': 380, 'desert': 1270, 'stoog': 4268, 'carmen': 747, 'semi': 3934, 'mexican': 2863, 'accent': 116, 'immedi': 2280, 'rita': 3757, 'bell': 483, 'wayn': 4852, 'moe': 2931, 'howard': 2225, 'curli': 1147, 'counterpart': 1078, 'gag': 1905, 'throughout': 4502, 'chase': 820, 'endear': 1532, 'travel': 4592, 'offic': 3140, 'prize': 3468, 'proce': 3472, 'settl': 3962, '25': 70, 'cent': 783, 'rob': 3766, 'rip': 3754, 'complic': 980, 'larri': 2579, 'paul': 3268, 'fix': 1772, 'televis': 4448, 'jone': 2473, '2nd': 72, 'behind': 478, 'grown': 2045, 'hal': 2071, 'technic': 4439, 'stock': 4262, 'footag': 1814, 'hors': 2214, 'editor': 1476, 'frame': 1845, 'stunt': 4309, 'liber': 2642, 'none': 3083, 'remot': 3676, 'ride': 3747, 'cabin': 695, 'slow': 4097, 'whip': 4891, 'compet': 974, 'manner': 2771, 'separ': 3948, 'tarzan': 4424, 'era': 1571, 'inher': 2341, 'wrong': 4969, 'eas': 1456, 'moral': 2952, 'erot': 1573, 'legend': 2618, 'premis': 3431, 'african': 171, 'jungl': 2491, 'plastic': 3349, 'bo': 560, 'bodi': 566, 'explor': 1645, 'mere': 2851, 'video': 4777, 'project': 3488, 'succe': 4326, 'implic': 2289, 'nation': 3015, 'influenc': 2334, 'construct': 1026, 'argu': 306, 'employ': 1523, 'sexual': 3969, 'teas': 4437, 'tool': 4548, 'incorpor': 2311, 'opposit': 3165, 'dumb': 1434, 'offer': 3139, 'mile': 2881, 'ye': 4979, 'derek': 1264, 'congratul': 1008, 'schlock': 3880, 'rate': 3591, 'visit': 4796, 'porn': 3392, 'store': 4270, 'format': 1829, 'probabl': 3470, 'mainstream': 2754, 'seek': 3923, 'satisfi': 3861, 'media': 2831, 'shallow': 3977, 'hot': 2219, 'besid': 497, 'ahead': 182, 'insipid': 2355, 'showcas': 4017, 'superfici': 4355, 'requir': 3696, 'pleasant': 3356, 'empti': 1525, 'annoy': 267, 'wipe': 4921, 'exhaust': 1627, 'toss': 4557, 'commit': 963, 'wors': 4950, 'richard': 3742, 'harri': 2102, '40': 80, 'em': 1510, 'anymor': 282, 'born': 586, 'oliv': 3151, 'ron': 3789, 'moodi': 2949, 'bumbl': 673, '5': 83, 'globe': 1969, 'award': 392, 'favor': 1709, 'masterpiec': 2802, 'texa': 4471, 'bud': 661, 'sissi': 4060, 'introduc': 2388, 'america': 239, 'bull': 670, 'common': 964, 'thread': 4494, 'lighter': 2652, 'favourit': 1712, 'resourc': 3707, 'banter': 428, 'documentari': 1368, 'match': 2803, 'astonish': 351, 'australia': 378, 'credibl': 1109, 'muslim': 2992, 'repres': 3690, 'offici': 3141, 'polici': 3380, 'respons': 3710, 'maintain': 2755, 'break': 616, 'obviou': 3126, 'unexpect': 4676, 'gave': 1923, 'blend': 544, 'commentari': 961, 'adult': 156, 'appreci': 297, 'subtitl': 4322, 'repress': 3692, 'iran': 2398, 'australian': 379, 'game': 1910, 'pleas': 3355, 'tim': 4517, 'gari': 1918, 'desper': 1275, 'beg': 472, 'girlfriend': 1958, 'elizabeth': 1503, 'startl': 4234, 'discov': 1333, 'visitor': 4797, 'christoph': 863, 'lloyd': 2678, 'mar': 2774, 'call': 703, 'martin': 2794, 'troubl': 4618, 'bathroom': 450, 'smooth': 4109, 'stalk': 4220, 'alien': 207, 'ray': 3597, 'undeni': 4663, 'flat': 1779, 'overact': 3194, 'storm': 4272, 'adequ': 149, 'costum': 1073, 'pick': 3324, 'assur': 349, 'night': 3066, 'museum': 2989, 'spoiler': 4197, 'robin': 3771, 'necessari': 3026, 'buy': 691, 'wow': 4959, 'numb': 3110, 'lawyer': 2597, '30': 74, 'skit': 4074, 'pleasantli': 3357, 'fanat': 1688, 'grade': 2003, 'announc': 266, 'intend': 2373, 'possess': 3401, 'acquir': 134, 'channel': 804, 'legitim': 2620, 'anticip': 276, 'price': 3452, 'vehicl': 4755, 'theatr': 4476, 'blood': 552, 'albeit': 195, 'campi': 713, 'plate': 3350, 'chees': 828, 'pet': 3303, 'receiv': 3618, 'alan': 193, 'pen': 3280, 'nearbi': 3022, 'river': 3762, 'contempl': 1030, 'dub': 1425, 'intent': 2375, 'dirti': 1323, 'supposedli': 4363, 'york': 4988, 'commerci': 962, 'painter': 3219, 'robert': 3770, 'paint': 3218, 'blond': 551, 'joan': 2459, 'banal': 424, 'conveni': 1045, 'rival': 3761, 'virginia': 4790, 'grey': 2031, 'suspect': 4377, 'investig': 2394, 'detect': 1285, 'publish': 3522, 'public': 3521, 'sketch': 4070, 'reaction': 3602, 'recogniz': 3624, 'needless': 3031, 'attract': 368, 'attent': 365, 'led': 2612, 'lack': 2563, 'materi': 2805, 'model': 2926, 'fulli': 1885, 'awar': 391, 'aforement': 168, 'bitten': 527, 'pad': 3214, 'bump': 674, 'dump': 1435, 'polic': 3378, 'send': 3936, 'imag': 2274, 'preced': 3420, 'cain': 699, 'bother': 590, 'pay': 3273, 'middl': 2872, 'italian': 2414, 'forget': 1822, 'ugli': 4645, 'femal': 1727, 'lover': 2710, 'ordinari': 3170, 'shoulder': 4013, 'ladi': 2566, 'unattract': 4653, 'ill': 2268, 'fate': 1706, 'walk': 4818, 'cecil': 777, 'prefer': 3426, 'dish': 1340, '100': 5, 'dozen': 1392, 'wherea': 4887, 'marriag': 2788, 'blunt': 558, 'sex': 3967, 'silli': 4037, 'addit': 147, 'casual': 764, 'strip': 4291, 'hang': 2087, 'kitchen': 2536, 'tabl': 4401, 'fast': 1702, 'due': 1430, 'polish': 3381, 'rel': 3656, 'neo': 3041, 'later': 2582, 'dilemma': 1310, 'rat': 3590, 'depend': 1258, 'warner': 4837, 'dislik': 1342, 'pack': 3212, 'crappi': 1096, 'neither': 3038, 'exactli': 1614, 'imposs': 2293, 'emphas': 1520, 'bland': 537, 'violenc': 4787, 'appal': 290, 'convincingli': 1052, 'execut': 1625, 'flip': 1789, 'sleepwalk': 4087, 'devil': 1291, 'surpass': 4369, 'neg': 3032, 'wave': 4849, 'librari': 2644, 'peter': 3305, 'thrown': 4504, 'stimul': 4258, 'aka': 188, 'spot': 4204, 'surround': 4373, 'aussi': 375, 'obsess': 3123, 'certain': 790, 'link': 2665, 'group': 2043, 'defend': 1229, 'weather': 4862, 'notabl': 3095, 'bizarr': 529, 'design': 1272, 'strong': 4294, 'exist': 1629, 'white': 4892, 'sever': 3966, 'consequ': 1017, 'bless': 545, 'organ': 3171, '7': 87, 'overcom': 3196, 'remind': 3674, 'enemi': 1535, 'state': 4235, 'mix': 2918, 'jami': 2427, 'foxx': 1843, 'comedian': 955, 'mike': 2877, 'wannab': 4829, 'thug': 4507, 'comic': 957, 'relief': 3665, 'blockbust': 550, 'travesti': 4593, 'dri': 1409, 'rough': 3804, 'speci': 4168, 'invas': 2391, 'class': 888, 'fear': 1715, 'terror': 4467, 'techniqu': 4441, 'sugar': 4337, 'hand': 2083, 'capabl': 727, 'johnni': 2466, 'bobbi': 565, 'beyond': 506, 'sea': 3903, 'stan': 4223, 'measur': 2828, 'comed': 953, 'transport': 4586, 'spite': 4191, 'intellig': 2372, 'flaw': 1781, 'e': 1447, 'grant': 2011, 'whine': 4890, 'turd': 4628, 'sum': 4343, 'upper': 4717, 'rude': 3815, 'selfish': 3931, 'destruct': 1282, 'witti': 4930, 'satir': 3860, 'irrit': 2405, 'shake': 3973, 'adventur': 159, 'season': 3908, 'increasingli': 2314, 'forward': 1835, 'push': 3537, 'variou': 4751, 'island': 2408, 'resum': 3717, 'fourth': 1841, 'spin': 4184, 'what': 4882, 'color': 945, 'blue': 557, 'pleasur': 3358, 'kennedi': 2515, 'boom': 580, 'monster': 2942, 'click': 900, 'button': 690, 'wive': 4931, 'rosemari': 3799, 'babi': 401, '95': 95, 'sidney': 4030, 'broadway': 642, 'flop': 1794, 'aspir': 337, 'anderson': 252, 'reev': 3639, 'cannon': 722, 'clever': 897, 'numer': 3112, 'reminisc': 3675, 'lyric': 2735, 'sung': 4349, 'content': 1033, 'loud': 2704, 'impact': 2285, 'beaten': 462, 'fist': 1769, 'belt': 487, 'cartoonish': 755, 'absurd': 111, 'cartoon': 754, 'prejudic': 3428, 'liter': 2672, 'astound': 352, 'cheat': 824, 'debat': 1207, 'racism': 3561, 'endur': 1534, 'poorli': 3387, 'craft': 1093, 'attempt': 362, 'quinn': 3552, 'pain': 3217, 'knee': 2539, 'famou': 1686, 'overr': 3201, 'unwatch': 4712, 'intern': 2380, 'cold': 934, 'prais': 3414, 'cult': 1141, 'abound': 104, 'boredom': 584, 'weird': 4870, 'incomprehens': 2309, 'happi': 2091, 'soccer': 4118, 'watchabl': 4845, 'task': 4425, 'cheap': 823, 'thrill': 4499, 'choreograph': 852, 'buri': 677, 'donald': 1376, 'sutherland': 4383, 'wrap': 4960, 'decad': 1210, 'bear': 458, 'warn': 4836, 'modesti': 2930, 'gun': 2058, 'boat': 563, 'analysi': 248, 'nail': 3003, 'ration': 3593, 'spent': 4177, 'pretend': 3443, 'dedic': 1220, 'hell': 2138, 'biggest': 512, 'heard': 2122, 'nois': 3078, 'drop': 1418, 'shape': 3980, 'tall': 4416, 'lift': 2650, 'straight': 4275, 'graphic': 2012, 'coaster': 927, 'perfect': 3288, 'choic': 847, 'doubt': 1386, 'psychopath': 3519, 'singl': 4055, 'baddi': 411, 'handsom': 2086, 'saturday': 3862, 'friday': 1867, 'morn': 2957, 'sunday': 4348, 'marshal': 2789, 'steven': 4251, 'seagal': 3904, 'assign': 344, 'franc': 1846, 'mission': 2912, 'recruit': 3629, 'order': 3169, 'slaughter': 4082, 'strength': 4285, 'french': 1863, 'search': 3907, 'uncov': 4660, 'corrupt': 1071, 'militari': 2882, 'deadli': 1199, 'drug': 1421, 'terrifi': 4465, 'trailer': 4577, 'near': 3021, 'frequent': 1864, 'segment': 3927, 'flow': 1796, 'mess': 2856, 'finish': 1760, 'flight': 1788, 'furi': 1894, 'weekend': 4868, 'mindless': 2891, 'ancient': 251, 'mummi': 2982, 'victim': 4772, 'scare': 3870, 'senseless': 3940, 'ward': 4832, 'dian': 1297, 'fame': 1683, 'unhappi': 4684, 'react': 3601, 'aid': 183, 'lend': 2624, 'unleash': 4696, 'dose': 1384, 'suitabl': 4341, 'youngest': 4991, 'access': 118, 'english': 1542, 'sub': 4314, 'chines': 845, 'everyday': 1603, 'contrast': 1040, 'dazzl': 1196, 'departur': 1257, 'briefli': 630, 'china': 844, 'verg': 4761, 'swept': 4390, 'communist': 966, 'revolut': 3733, 'custom': 1154, 'poignant': 3369, 'rais': 3568, 'issu': 2412, 'vital': 4799, 'trade': 4570, 'purpos': 3534, 'societi': 4120, 'friendship': 1870, 'scandal': 3868, 'unit': 4693, 'kingdom': 2533, 'whilst': 4889, 'brown': 652, 'footbal': 1815, 'hain': 2069, 'reject': 3655, 'wise': 4924, 'formula': 1831, 'terrif': 4464, 'anni': 265, 'rooney': 3794, 'pickford': 3325, 'marion': 2783, 'swing': 4392, 'tragedi': 4574, 'joy': 2479, 'marin': 2781, 'crawford': 1099, 'repeat': 3683, 'brian': 625, 'jack': 2418, 'ralph': 3570, 'edward': 1478, 'debut': 1209, 'pictur': 3326, 'ghost': 1946, 'spell': 4175, 'caricatur': 742, 'slapstick': 4079, 'predict': 3425, 'resembl': 3699, 'godzilla': 1979, 'larger': 2578, 'grin': 2035, 'trash': 4588, 'somebodi': 4130, 'cow': 1089, 'europ': 1590, 'usa': 4722, 'demonstr': 1250, 'racist': 3562, 'defens': 1230, 'aim': 184, 'vengeanc': 4757, 'attorney': 367, 'fals': 1682, 'charg': 812, 'free': 1859, 'smoke': 4108, 'swear': 4385, 'mental': 2848, 'stronger': 4295, 'longer': 2693, 'prey': 3451, 'cop': 1058, 'guid': 2053, 'vagu': 4735, 'assassin': 339, 'arrest': 318, 'beat': 461, 'confess': 1001, 'grandmoth': 2010, 'secur': 3917, 'step': 4247, 'legal': 2617, 'accus': 128, 'henc': 2143, 'easili': 1459, 'reflect': 3641, 'justifi': 2495, 'belief': 481, 'truth': 4624, 'creator': 1107, 'liberti': 2643, 'pursuit': 3536, 'declar': 1217, 'independ': 2317, 'appropri': 299, 'rendit': 3680, 'establish': 1580, 'peac': 3275, 'dr': 1393, 'pari': 3240, '8': 91, 'saint': 3841, 'deni': 1251, 'advic': 161, 'gonna': 1988, 'x': 4975, 'bunch': 675, 'z': 4993, 'list': 2669, 'park': 3241, 'blatantli': 541, 'suck': 4329, 'unorigin': 4700, 'carradin': 750, '1984': 39, 'nerd': 3043, 'bag': 414, 'mark': 2784, 'hardli': 2098, 'k': 2498, 'hostil': 2218, 'apolog': 289, 'select': 3929, 'sailor': 3840, 'underli': 4665, 'ed': 1469, 'ten': 4453, 'unless': 4697, 'steve': 4250, 'neil': 3036, 'simon': 4042, 'known': 2547, 'partial': 3247, 'unbeliev': 4656, 'odd': 3134, 'cring': 1118, 'tens': 4458, 'molli': 2933, 'stood': 4267, 'floor': 1793, 'favour': 1711, 'unusu': 4711, 'nevertheless': 3050, 'hook': 2199, 'phantom': 3308, 'curti': 1151, 'scott': 3892, 'tough': 4560, 'behavior': 476, 'degre': 1235, 'innoc': 2349, 'cook': 1054, 'jr': 2480, 'drum': 1422, 'welcom': 4871, 'carri': 752, 'devot': 1293, 'carol': 748, 'lauren': 2592, 'bacal': 402, 'urban': 4719, '15': 11, 'min': 2889, 'rang': 3581, 'sophist': 4142, 'hype': 2250, 'bend': 490, 'slap': 4078, 'sensit': 3942, 'tail': 4409, 'routin': 3807, 'realiz': 3611, 'sad': 3833, 'sorrow': 4146, 'goal': 1976, 'pursu': 3535, 'structur': 4299, 'deeper': 1225, 'greek': 2025, 'food': 1810, 'target': 4423, 'defin': 1232, 'transit': 4583, 'sudden': 4331, 'u': 4644, 'taylor': 4431, 'doubl': 1385, 'splendid': 4193, 'rocket': 3776, 'scientist': 3885, 'eleph': 1497, 'shred': 4021, 'hungri': 2243, 'lion': 2666, 'grab': 2001, 'throat': 4501, 'motion': 2963, 'courag': 1084, 'afraid': 169, 'fashion': 1701, 'paradis': 3235, 'mate': 2804, 'ritual': 3760, 'narrat': 3009, 'surreal': 4372, 'address': 148, 'field': 1740, 'trip': 4611, 'moron': 2958, 'futur': 1897, 'wing': 4918, 'birth': 522, 'lay': 2598, 'egg': 1483, 'clean': 893, 'anger': 258, 'brood': 646, 'solv': 4129, 'skill': 4071, 'cultur': 1142, 'heal': 2117, 'focus': 1802, 'inspir': 2358, 'holli': 2182, 'manipul': 2768, 'alongsid': 219, 'newcom': 3052, 'tackl': 4405, 'heavi': 2129, 'topic': 4551, 'laughter': 2588, 'environ': 1563, 'cyborg': 1157, 'popul': 3390, 'fresh': 1865, 'surviv': 4374, 'gabriel': 1903, 'captur': 733, 'albert': 196, 'prior': 3465, 'misguid': 2908, 'junk': 2493, 'corni': 1066, 'stink': 4259, 'unintent': 4689, 'occur': 3132, 'swallow': 4384, 'lazi': 2600, 'inclus': 2306, 'quick': 3548, 'combat': 950, 'georg': 1938, 'backdrop': 406, 'psychic': 3516, 'aggress': 178, 'lanc': 2571, 'ham': 2077, 'flashi': 1778, 'fx': 1899, 'minim': 2894, 'limit': 2657, 'baffl': 413, 'magician': 2748, 'mid': 2871, 'shut': 4022, 'understood': 4671, 'mad': 2741, 'chip': 846, 'wax': 4850, 'bottom': 592, '1950': 23, 'tight': 4515, 'brain': 607, 'poster': 3404, 'mine': 2892, 'gem': 1927, 'lip': 2667, 'revolv': 3735, 'marti': 2791, 'horrif': 2211, 'parti': 3246, 'gori': 1995, 'hospit': 2215, 'prank': 3415, 'sympath': 4396, 'strongli': 4297, 'slasher': 4081, 'vote': 4807, 'bias': 507, 'thief': 4482, 'educ': 1477, 'plagu': 3343, 'hong': 2196, 'kong': 2549, 'melodrama': 2840, 'week': 4867, 'transform': 4582, 'nurs': 3114, 'politician': 3383, 'competit': 975, 'exot': 1631, 'soft': 4122, 'nut': 3115, 'termin': 4461, 'bat': 447, 'nasti': 3012, 'sleazi': 4085, 'invest': 2393, 'empathi': 1518, 'paper': 3232, 'sullivan': 4342, 'saga': 3838, 'hunter': 2245, 'examin': 1616, 'character': 809, 'uncomfort': 4658, 'individu': 2323, 'heroic': 2147, 'sympathi': 4398, 'sitcom': 4063, 'reserv': 3700, 'essenc': 1578, 'transfer': 4581, 'onto': 3157, 'dreari': 1405, 'occas': 3128, 'harold': 2101, 'unfunni': 4683, 'sink': 4057, 'priceless': 3453, 'rise': 3755, 'off': 3136, 'pile': 3331, 'mildr': 2880, 'skip': 4073, 'conceiv': 991, 'awe': 394, 'atroci': 359, 'colleagu': 939, 'likewis': 2655, 'horrend': 2208, 'failur': 1672, 'encourag': 1530, 'suspend': 4378, 'disbelief': 1330, 'fill': 1748, 'eighti': 1486, 'constant': 1023, 'unnecessari': 4699, 'serv': 3957, 'contempt': 1032, 'theater': 4475, 'otherwis': 3180, 'angri': 260, 'indian': 2320, 'tribe': 4604, 'chief': 838, 'press': 3439, 'nuditi': 3109, 'genr': 1934, 'infam': 2330, 'catherin': 769, 'mormon': 2956, 'greatli': 2022, 'teacher': 4434, 'teach': 4433, 'darn': 1185, 'simplist': 4046, 'g': 1900, 'robinson': 3772, 'command': 958, 'claim': 882, 'gandhi': 1911, 'ben': 489, 'super': 4352, 'religi': 3666, 'trite': 4614, 'ignor': 2265, '20th': 66, 'centuri': 787, 'fox': 1842, 'premier': 3429, 'linda': 2659, 'locat': 2683, 'helm': 2140, 'gold': 1982, 'california': 702, 'specif': 4170, 'horrifi': 2212, 'ton': 4542, 'up': 4713, 'advertis': 160, 'offend': 3137, 'margin': 2778, 'market': 2785, 'duval': 1441, 'dog': 1369, 'fred': 1857, 'util': 4728, 'subplot': 4318, 'deliveri': 1244, 'gone': 1987, 'dentist': 1254, 'victorian': 4776, 'section': 3916, 'compris': 986, 'vice': 4770, 'chair': 796, 'awkward': 397, 'estat': 1581, 'agent': 177, 'dancer': 1175, 'till': 4516, 'lock': 2684, 'window': 4917, 'attach': 360, 'rotten': 3803, 'hole': 2179, 'interview': 2384, 'belong': 485, 'realiti': 3610, 'charlton': 818, 'heston': 2150, 'manhattan': 2765, 'jam': 2425, 'cost': 1072, 'research': 3698, 'screenplay': 3897, 'assum': 348, 'aristocrat': 311, 'castl': 763, 'drown': 1420, 'stab': 4213, 'skull': 4075, 'evelyn': 1596, 'grave': 2016, 'zero': 4995, 'race': 3558, 'gasp': 1920, 'nativ': 3016, 'wander': 4826, 'expedit': 1634, 'thousand': 4493, '1936': 19, 'text': 4472, 'chapter': 807, 'loath': 2681, 'palm': 3225, '90': 94, 'object': 3117, 'ex': 1612, 'contact': 1028, 'studio': 4305, 'wall': 4821, 'paus': 3271, '35': 76, 'bondag': 574, 'master': 2801, 'slowli': 4098, 'smash': 4104, 'frankenstein': 1852, 'iron': 2402, 'roy': 3809, 'montag': 2943, 'cross': 1125, 'fade': 1670, 'deem': 1223, 'mitchel': 2917, 'joel': 2463, '3000': 75, 'trio': 4610, 'naughti': 3018, 'remov': 3677, 'p': 3208, 'tape': 4420, 'lol': 2688, 'user': 4725, 'triangl': 4603, 'chemistri': 830, 'heat': 2127, 'drawn': 1402, 'uninspir': 4688, 'worthwhil': 4956, 'solid': 4126, 'aliv': 210, 'h': 2063, 'spare': 4163, 'sadist': 3834, 'daisi': 1165, 'duke': 1432, 'leg': 2615, 'ran': 3576, 'eccentr': 1466, 'cousin': 1087, 'achiev': 130, 'jessica': 2449, 'simpson': 4047, 'burt': 680, 'reynold': 3738, 'improv': 2296, 'humour': 2240, 'crazi': 1102, 'tax': 4429, 'romp': 3788, 'freak': 1856, 'abomin': 101, 'band': 425, 'listen': 2670, 'musician': 2991, 'singer': 4054, 'websit': 4865, 'filth': 1752, 'inconsist': 2310, 'liner': 2663, 'affleck': 166, 'drew': 1408, 'wealthi': 4858, 'shortli': 4011, 'holiday': 2181, '000': 2, 'memori': 2845, 'grew': 2030, 'inexplic': 2329, 'refus': 3643, 'suddenli': 4332, 'gut': 2061, 'restrain': 3714, 'razor': 3599, 'packag': 3213, 'backward': 408, 'outrag': 3190, 'supernatur': 4359, 'territori': 4466, 'scoobi': 3886, 'doo': 1380, 'keen': 2510, 'lake': 2568, 'recycl': 3630, 'stale': 4219, 'affair': 164, 'mighti': 2875, 'slice': 4088, 'wind': 4916, 'will': 4910, 'sword': 4394, 'instal': 2359, 'imdb': 2277, 'damn': 1170, 'plod': 3361, 'vari': 4748, 'ticket': 4511, 'valid': 4738, 'spiritu': 4189, 'uplift': 4715, 'clearli': 895, 'multipl': 2980, 'ironi': 2403, 'reduc': 3635, 'fanci': 1689, 'stranger': 4280, 'struggl': 4300, 'conflict': 1005, 'linger': 2664, 'patienc': 3262, 'inject': 2344, 'regret': 3648, 'highlight': 2159, 'decis': 1216, 'balanc': 419, 'steadi': 4241, 'gain': 1906, 'vision': 4795, 'kim': 2529, 'witch': 4927, 'gillian': 1953, 'nick': 3062, 'lemmon': 2622, 'bride': 626, 'situat': 4065, 'mytholog': 3001, 'squar': 4211, 'chosen': 856, 'perspect': 3299, 'accuraci': 127, 'parker': 3242, 'accur': 126, 'key': 2520, 'farrel': 1697, 'sport': 4203, 'equival': 1569, 'jordan': 2474, 'ball': 421, 'net': 3046, 'jess': 2448, 'forbidden': 1816, 'jule': 2485, 'knightley': 2543, 'coach': 925, 'jonathan': 2472, 'meyer': 2865, 'approv': 300, 'wed': 4866, 'hbo': 2114, 'tension': 4459, 'calm': 704, 'dame': 1168, 'dare': 1182, 'popular': 3391, 'passabl': 3254, 'worri': 4949, 'ned': 3029, 'utterli': 4730, 'literari': 2673, 'surfac': 4367, 'mundan': 2983, 'folk': 1805, 'geniu': 1933, 'warrior': 4840, 'domin': 1374, 'miser': 2905, 'con': 989, 'sold': 4123, 'owner': 3206, 'miseri': 2906, 'promis': 3491, 'swedish': 4387, 'chess': 832, 'enthusiast': 1558, 'hall': 2074, 'inept': 2327, 'area': 305, 'championship': 800, 'puzzl': 3539, 'http': 2228, 'uk': 4647, 'com': 948, 'v': 4732, 'fantast': 1691, 'exact': 1613, 'sloppi': 4096, 'insan': 2351, 'corps': 1068, 'sign': 4032, 'spi': 4178, 'hum': 2235, 'chill': 843, 'bone': 575, 'improb': 2295, 'spooki': 4202, 'bang': 426, 'buzz': 692, 'charismat': 814, 'crimin': 1117, 'underworld': 4673, 'norm': 3087, 'east': 1460, 'randomli': 3580, 'regardless': 3645, 'pattern': 3267, 'whore': 4897, 'storylin': 4273, 'chronicl': 864, 'addict': 146, 'spree': 4207, 'hooker': 2200, 'random': 3579, 'uh': 4646, 'retard': 3720, 'tempt': 4452, 'honesti': 2194, 'joker': 2470, 'chick': 836, 'frontal': 1875, 'mildli': 2879, 'vignett': 4782, 'wig': 4906, 'glass': 1965, 'endless': 1533, 'vastli': 4753, 'weight': 4869, 'consum': 1027, 'signific': 4034, 'shift': 3997, 'rapidli': 3587, 'revel': 3727, 'safe': 3836, 'ador': 155, 'extent': 1654, 'absorb': 110, 'alert': 200, 'rehears': 3651, 'critiqu': 1122, 'institut': 2365, 'collabor': 937, 'primari': 3456, 'industri': 2326, 'profit': 3483, 'clip': 910, 'contradict': 1038, 'dictat': 1302, 'challeng': 797, 'code': 929, 'fell': 1724, 'grace': 2002, 'consist': 1021, 'de': 1197, 'mill': 2884, 'recognis': 3622, 'necessarili': 3027, 'orson': 3176, 'hitchcock': 2172, 'ford': 1818, 'evolv': 1611, 'darker': 1184, 'powel': 3411, 'stretch': 4287, 'immigr': 2283, 'billi': 518, 'wilder': 4908, 'dougla': 1387, 'sirk': 4059, 'stanley': 4227, 'kubrick': 2551, 'languag': 2576, 'griffith': 2033, 'colour': 946, 'widescreen': 4901, 'inevit': 2328, 'luca': 2716, 'franci': 1848, '1940': 21, 'buff': 664, 'broad': 640, 'restor': 3713, 'barri': 435, 'underr': 4668, 'medium': 2834, 'tini': 4523, 'interrupt': 2383, 'archiv': 304, '50': 84, 'agre': 180, 'lousi': 2707, 'vietnam': 4778, 'vet': 4765, 'leather': 2609, 'shove': 4015, 'feet': 1722, 'pin': 3333, 'kidnap': 2526, 'therefor': 4480, 'qualifi': 3542, 'deliver': 1243, 'everywher': 1606, 'renaiss': 3678, 'festiv': 1733, 'fake': 1678, 'sake': 3842, 'cell': 779, 'count': 1076, 'mild': 2878, 'rot': 3801, 'teeth': 4447, 'irish': 2401, 'switch': 4393, 'sky': 4076, 'laura': 2590, 'chri': 857, 'wanna': 4828, 'engin': 1540, 'accid': 119, 'kevin': 2519, 'bacon': 409, 'sam': 3847, 'categori': 768, 'valentin': 4737, 'earn': 1453, 'restaur': 3712, 'boyfriend': 603, 'marlon': 2786, 'adopt': 154, 'couch': 1074, 'grief': 2032, 'habit': 2065, 'overwhelm': 3202, 'sadli': 3835, 'answer': 269, 'consider': 1020, 'overlong': 3199, 'oil': 3144, 'juvenil': 2497, 'speech': 4173, 'worn': 4948, 'preposter': 3433, 'viewpoint': 4781, 'confin': 1003, 'glare': 1964, 'prom': 3489, 'queen': 3545, 'justin': 2496, 'loui': 2705, 'wendi': 4873, 'lisa': 2668, 'crush': 1134, 'student': 4303, 'funnier': 1892, 'parodi': 3243, 'dig': 1307, 'dad': 1162, 'cave': 774, 'proof': 3494, 'rock': 3775, 'mutant': 2994, 'rubber': 3812, 'doll': 1370, 'arnold': 315, 'neighbor': 3034, 'veteran': 4766, 'harvey': 2107, 'hippi': 2166, 'biker': 514, 'metal': 2860, 'snatch': 4112, 'scheme': 3879, 'poke': 3373, 'rid': 3745, 'puppet': 3529, 'homicid': 2191, 'stephen': 4248, 'king': 2532, 'brand': 609, 'seal': 3905, 'distinct': 1352, 'humili': 2238, 'crippl': 1119, 'grim': 2034, 'proceed': 3473, 'glimps': 1967, 'btw': 657, 'suit': 4340, 'theatric': 4477, 'directli': 1319, 'cabl': 696, 'metaphor': 2861, 'warmth': 4835, 'spectacl': 4171, 'compel': 972, 'lower': 2712, 'fulfil': 1882, 'propheci': 3500, 'arab': 302, 'israel': 2411, 'preachi': 3419, 'mediocr': 2833, 'border': 582, 'basi': 441, 'hokey': 2177, 'conspiraci': 1022, 'theori': 4479, 'incoher': 2307, 'mtv': 2976, 'panic': 3230, 'board': 561, 'disast': 1328, 'christ': 858, 'clone': 912, 'batman': 451, 'mask': 2796, 'bruce': 653, 'freez': 1862, 'cruis': 1133, 'knight': 2542, 'bite': 526, 'prime': 3458, 'sat': 3858, 'graham': 2006, 'meg': 2836, 'ryan': 3829, 'overdon': 3197, 'embarrass': 1512, '0': 0, 'deer': 1227, 'drove': 1419, 'street': 4283, 'crack': 1092, 'lean': 2605, 'fri': 1866, 'pig': 3330, 'portion': 3395, 'latest': 2583, 'effici': 1481, 'sore': 4144, 'nightmar': 3068, 'enabl': 1527, 'antholog': 272, '24': 69, 'hurt': 2246, 'maci': 2740, 'sooner': 4141, 'privat': 3467, 'boil': 568, 'dick': 1300, 'began': 473, 'twenti': 4635, 'built': 668, 'airplan': 186, 'steer': 4245, 'path': 3260, 'tree': 4597, 'blew': 546, 'lab': 2560, 'prevent': 3447, 'henri': 2144, 'thoma': 4488, 'resolut': 3703, 'discoveri': 1334, 'flame': 1775, 'crash': 1097, 'tick': 4510, 'forev': 1821, 'exposit': 1648, 'hotel': 2220, 'taxi': 4430, 'laughabl': 2587, 'kitti': 2537, 'tourist': 4562, 'blind': 547, 'rental': 3682, 'rave': 3595, 'fest': 1732, 'finger': 1759, 'center': 784, 'teen': 4445, 'mous': 2968, 'punish': 3527, 'ga': 1901, 'blair': 534, 'shaki': 3975, 'chainsaw': 795, 'massacr': 2799, 'redund': 3636, 'bitch': 525, 'rambl': 3572, 'graini': 2007, 'enhanc': 1544, 'indic': 2321, 'met': 2859, 'indi': 2318, 'initi': 2343, 'introduct': 2389, '45': 81, 'sensat': 3939, 'afternoon': 172, 'refresh': 3642, 'scriptwrit': 3901, 'wash': 4841, 'toilet': 4533, 'neat': 3024, 'substanc': 4320, 'wallac': 4822, 'earl': 1450, 'cleverli': 898, 'dudley': 1429, 'moor': 2951, 'toni': 4545, 'rumor': 3819, 'recov': 3627, 'induc': 2324, 'mistaken': 2914, 'asian': 332, 'sh': 3970, 'slam': 4077, 'unpredict': 4702, 'demis': 1248, 'junior': 2492, 'pole': 3377, 'greedi': 2024, 'kudo': 2552, 'wholli': 4895, 'soprano': 4143, 'clue': 921, 'pauli': 3270, 'labor': 2562, '73': 89, 'stylish': 4312, 'mann': 2770, 'thick': 4481, 'ear': 1449, 'keith': 2512, 'beverli': 504, 'characterist': 811, 'knock': 2544, 'jacket': 2419, 'fart': 1698, 'babe': 400, 'gimmick': 1954, 'doctor': 1366, 'gift': 1949, 'tiger': 4514, 'brook': 647, 'juli': 2486, 'ellen': 1504, 'murray': 2987, 'unimagin': 4687, 'bin': 519, 'timeless': 4520, 'fleet': 1784, 'santa': 3854, 'clau': 890, 'conquer': 1012, 'martian': 2793, 'greed': 2023, 'hood': 2198, 'wolf': 4933, 'north': 3090, 'nichola': 3060, 'shade': 3971, 'toy': 4566, 'outer': 3185, 'sweat': 4386, '1960': 24, 'sixti': 4067, 'eager': 1448, 'revolutionari': 3734, 'fifti': 1743, 'eight': 1485, 'record': 3626, 'innov': 2350, 'bike': 513, 'amitabh': 242, 'useless': 4724, 'amount': 246, 'bollywood': 571, 'uwe': 4731, 'boll': 570, 'wood': 4939, 'steam': 4243, 'tripe': 4612, 'salt': 3846, 'ultra': 4649, 'grate': 2014, 'programm': 3486, 'victoria': 4775, 'pound': 3408, 'basebal': 438, 'basketbal': 445, 'arm': 312, 'incident': 2304, 'retain': 3719, 'tip': 4524, 'boast': 562, 'craig': 1094, 'andrew': 255, 'utter': 4729, 'scottish': 3893, 'blackmail': 531, 'cube': 1138, 'paranoia': 3238, 'bold': 569, 'jump': 2489, 'summari': 4345, 'rehash': 3650, 'grudg': 2047, 'silent': 4036, 'assert': 342, 'jail': 2423, 'awhil': 396, 'item': 2415, 'remad': 3669, 'minimum': 2895, 'sceneri': 3877, 'chew': 834, 'ann': 263, 'minu': 2899, 'tag': 4408, 'devoid': 1292, 'j': 2417, 'femm': 1730, 'struck': 4298, 'nolt': 3080, 'nostalg': 3093, 'poker': 3375, 'headach': 2116, 'asham': 330, '16': 12, 'dire': 1317, 'cancel': 716, 'wrote': 4970, 'spike': 4182, 'feed': 1720, 'garbag': 1915, 'racial': 3560, 'mob': 2921, 'inabl': 2298, 'pressur': 3440, 'peer': 3279, 'stellar': 4246, 'vh': 4767, 'host': 2216, 'stuck': 4302, '1985': 40, '1987': 42, 'twilight': 4637, 'zone': 4998, 'purchas': 3531, 'convert': 1048, 'freedom': 1860, 'campaign': 711, 'obtain': 3125, 'simultan': 4048, 'nazi': 3020, 'weapon': 4859, 'invad': 2390, 'april': 301, 'underground': 4664, 'eleven': 1499, 'oper': 3159, 'berlin': 495, 'grip': 2037, 'mass': 2798, 'audio': 371, 'jim': 2456, 'templ': 4451, 'internet': 2381, 'mom': 2934, 'disagre': 1325, 'recal': 3617, 'instinct': 2364, 'jerri': 2447, 'hollow': 2183, 'spielberg': 4181, 'fright': 1871, 'childish': 841, '2007': 64, 'invis': 2395, '75': 90, 'cant': 724, 'zoom': 4999, 'snake': 4110, 'everybodi': 1602, 'tech': 4438, 'da': 1161, 'imperson': 2286, 'meal': 2821, 'shine': 3998, 'la': 2559, 'curiou': 1146, 'charli': 816, 'feminin': 1728, 'prepar': 3432, 'broke': 643, 'sustain': 4382, 'drive': 1413, 'attitud': 366, 'cynic': 1159, 'driver': 1416, 'retriev': 3722, 'matt': 2808, 'presum': 3442, 'enthusiasm': 1557, 'genuin': 1937, 'guarante': 2049, 'sir': 4058, 'quiet': 3550, 'monument': 2947, 'medic': 2832, 'smaller': 4102, 'heaven': 2128, 'canadian': 715, 'brillianc': 632, 'percept': 3287, 'fed': 1719, 'christin': 861, 'horn': 2207, 'wrestler': 4964, 'directori': 1321, 'michel': 2869, 'memor': 2844, 'diana': 1298, 'club': 920, 'nineti': 3071, 'behaviour': 477, 'contriv': 1042, 'correct': 1069, '14': 10, 'file': 1747, 'naschi': 3011, 'decapit': 1211, 'belov': 486, 'paula': 3269, 'session': 3960, 'countrysid': 1081, 'treasur': 4594, 'emma': 1516, 'cohen': 931, 'hammer': 2080, 'defeat': 1228, 'per': 3285, 'decor': 1219, 'brazil': 614, 'carrey': 751, 'safeti': 3837, 'dawn': 1193, 'christi': 859, 'heartwarm': 2126, 'heartbreak': 2124, 'toe': 4531, 'bound': 595, 'brave': 611, 'obstacl': 3124, 'encount': 1529, 'sassi': 3857, 'lovabl': 2708, 'mock': 2924, 'lifetim': 2649, 'un': 4651, 'princip': 3462, 'jewish': 2454, 'isra': 2410, 'trigger': 4608, 'awaken': 390, 'compens': 973, 'terri': 4462, 'gilliam': 1952, 'miik': 2876, 'ensu': 1551, 'layer': 2599, 'anti': 274, 'via': 4768, 'cg': 792, 'multi': 2979, 'n': 3002, 'josh': 2476, '17': 13, 'wacki': 4813, 'priest': 3455, 'stiff': 4254, 'defi': 1231, 'eleg': 1495, 'dimens': 1312, 'fragil': 1844, 'guilt': 2054, 'seventi': 3965, 'bergman': 494, 'inner': 2348, 'antonioni': 279, 'duo': 1436, 'cloud': 918, 'porno': 3393, 'provoc': 3511, 'pseudo': 3513, 'conclud': 996, 'romero': 3787, 'behav': 475, 'creatur': 1108, 'respond': 3709, 'advis': 162, 'satan': 3859, 'halloween': 2075, 'jesu': 2450, 'religion': 3667, 'candi': 718, 'coffe': 930, 'site': 4064, 'alex': 201, '1993': 47, 'statu': 4239, 'abysm': 114, 'forgett': 1823, 'disney': 1345, 'glenn': 1966, 'bomb': 572, 'be': 455, 'reput': 3695, 'damag': 1167, 'puppi': 3530, 'coat': 928, 'lowest': 2713, 'imit': 2278, 'gestur': 1943, 'slick': 4089, 'phillip': 3313, 'stuart': 4301, 'ms': 2974, 'spice': 4179, 'suppli': 4360, 'coup': 1082, 'borrow': 587, 'jake': 2424, 'pant': 3231, 'divers': 1360, 'toronto': 4555, 'unknown': 4695, 'spacey': 4158, 'blah': 533, 'mixtur': 2919, 'freeman': 1861, 'timberlak': 4518, 'candl': 720, 'bett': 501, 'paid': 3216, 'royal': 3810, 'philip': 3312, 'fallen': 1681, 'carey': 740, 'handicap': 2084, 'kiss': 2535, 'lesli': 2631, 'weaker': 4855, 'dee': 1221, 'denni': 1253, 'owen': 3204, 'purpl': 3533, 'princ': 3460, 'id': 2256, 'sexi': 3968, 'quest': 3546, 'blast': 539, 'snl': 4115, 'academi': 115, 'fever': 1735, 'pitch': 3338, 'hank': 2088, 'russel': 3824, 'crow': 1126, 'tad': 4407, 'exploit': 1644, 'expand': 1632, 'jacki': 2420, 'inform': 2336, 'roman': 3783, 'antic': 275, 'admittedli': 152, 'piti': 3339, 'shootout': 4006, 'mirror': 2903, 'nerv': 3044, 'screw': 3899, 'max': 2813, 'arthur': 323, 'brooklyn': 648, 'phone': 3316, 'bounc': 594, 'convers': 1047, 'guest': 2052, 'jazz': 2437, 'roof': 3790, 'join': 2468, 'artwork': 328, 'anna': 264, 'rosario': 3797, 'dawson': 1194, 'flower': 1797, 'francisco': 1849, 'joey': 2464, 'kane': 2499, 'gradual': 2004, 'network': 3047, 'tomorrow': 4541, 'insist': 2356, 'akshay': 190, 'kumar': 2553, 'strive': 4292, 'walt': 4824, 'pregnant': 3427, 'swim': 4391, 'pool': 3385, 'bedroom': 469, 'garden': 1917, 'shed': 3987, 'financi': 1755, 'nowaday': 3104, 'thumb': 4508, 'resist': 3702, 'happili': 2092, 'bulk': 669, 'flashback': 1777, 'clinic': 908, 'restrict': 3715, 'fat': 1704, 'diari': 1299, 'clumsi': 923, 'wardrob': 4833, 'unfold': 4680, 'civil': 880, 'union': 4691, 'hara': 2093, 'photographi': 3320, 'nuanc': 3106, 'samurai': 3849, 'crown': 1128, 'japan': 2430, 'orlean': 3174, 'widmark': 4902, 'kazan': 2508, 'trademark': 4571, 'crowd': 1127, 'palanc': 3223, 'mobster': 2923, 'miscast': 2904, 'barbara': 430, 'compliment': 981, 'gotta': 1998, 'scale': 3867, 'pacino': 3211, 'radic': 3564, 'patriot': 3266, 'landscap': 2573, 'bloom': 554, 'substitut': 4321, 'suprem': 4364, 'secondari': 3911, 'unseen': 4708, 'wisdom': 4923, 'ethnic': 1588, 'mario': 2782, 'replay': 3687, 'garbo': 1916, 'contract': 1037, 'mgm': 2866, 'gentl': 1935, 'rout': 3806, 'bank': 427, 'demand': 1246, 'test': 4469, 'dash': 1187, 'stream': 4281, 'surprisingli': 4371, 'confid': 1002, 'spiral': 4187, 'repetit': 3685, 'oddli': 3135, 'card': 735, 'hilar': 2161, 'devic': 1290, 'crisi': 1120, 'sole': 4125, 'drivel': 1414, 'captain': 731, 'kirk': 2534, 'merci': 2850, 'shorter': 4010, '2001': 58, 'foolish': 1812, 'chuck': 865, 'pre': 3417, 'recit': 3620, 'ape': 288, 'physic': 3322, 'tune': 4626, 'birthday': 523, 'el': 1489, 'melodi': 2839, 'spanish': 4162, 'experienc': 1637, 'jan': 2428, 'willi': 4911, 'deceas': 1212, 'cox': 1091, 'der': 1262, 'chain': 794, 'ban': 423, 'meaningless': 2825, 'closest': 915, 'occup': 3130, 'warrant': 4838, 'inflict': 2333, 'variat': 4749, 'filler': 1749, 'partli': 3251, 'drain': 1397, 'jaw': 2435, 'immens': 2281, 'faint': 1673, 'cd': 776, 'lo': 2679, 'bottl': 591, 'enterpris': 1554, 'kate': 2505, 'stroke': 4293, 'deliber': 1238, 'european': 1592, 'quaid': 3541, 'jay': 2436, 'accomplish': 123, 'leagu': 2604, 'johnson': 2467, 'elvi': 1508, 'craze': 1101, 'thompson': 4489, 'info': 2335, 'insight': 2354, 'incid': 2303, 'emili': 1515, 'load': 2680, 'dispos': 1348, 'creep': 1112, 'wreck': 4961, 'hyde': 2249, 'prequel': 3434, 'commend': 959, 'burst': 679, 'moon': 2950, 'orphan': 3175, 'robberi': 3768, 'immort': 2284, 'che': 822, 'dive': 1359, 'omen': 3154, 'suspicion': 4381, 'acquaint': 133, 'claud': 891, 'miller': 2885, 'quot': 3555, 'moreov': 2954, 'beach': 456, 'chao': 805, 'cup': 1143, 'tea': 4432, 'profound': 3484, 'duti': 1440, 'overli': 3198, 'missil': 2911, 'hesit': 2149, 'acknowledg': 132, 'psych': 3514, 'analyz': 249, 'flawless': 1782, 'farc': 1693, 'inan': 2301, 'drunken': 1424, 'tommi': 4540, 'sensibl': 3941, 'alarm': 194, 'tasteless': 4427, 'sappi': 3855, 'interpret': 2382, 'pioneer': 3335, 'pal': 3221, 'digit': 1308, 'amor': 245, 'nightclub': 3067, 'frog': 1873, 'outlin': 3189, 'rhyme': 3739, 'secretli': 3915, 'guilti': 2055, 'straightforward': 4276, 'yellow': 4984, 'ponder': 3384, 'debt': 1208, 'ingredi': 2338, 'captiv': 732, 'im': 2273, '1979': 35, '99': 96, 'ah': 181, 'armstrong': 314, 'www': 4974, 'amongst': 244, 'turkey': 4629, 'furiou': 1895, 'tiresom': 4526, 'loser': 2699, 'foster': 1836, 'farm': 1695, 'yell': 4983, 'silenc': 4035, 'entranc': 1561, 'unfair': 4679, 'pale': 3224, 'flash': 1776, 'mexico': 2864, 'mason': 2797, 'judi': 2484, 'domest': 1373, 'canada': 714, 'weakest': 4856, 'photograph': 3319, 'rod': 3778, 'foul': 1838, 'tarantino': 4422, 'harmless': 2100, 'claustrophob': 892, 'angl': 259, 'le': 2601, 'shanghai': 3979, 'kung': 2554, 'fu': 1879, 'gangster': 1913, 'phoni': 3317, 'assist': 345, 'basket': 444, 'distanc': 1350, 'storytel': 4274, 'notch': 3096, 'calib': 701, 'barn': 433, 'rex': 3737, 'lawrenc': 2596, 'marvel': 2795, 'global': 1968, 'logic': 2686, 'louis': 2706, 'franco': 1850, 'divid': 1361, 'illustr': 2272, 'explos': 1646, 'risk': 3756, 'vain': 4736, 'hatr': 2110, 'spoke': 4198, 'daili': 1164, 'fabric': 1662, 'shoe': 4004, 'beer': 470, 'catchi': 767, 'instant': 2361, 'psycho': 3517, 'uma': 4650, 'superhero': 4356, 'wilson': 4913, 'hardcor': 2095, '1970': 27, 'unravel': 4703, 'menac': 2847, 'suffic': 4335, 'cruel': 1131, 'bu': 658, 'lifestyl': 2648, 'fisher': 1768, 'dude': 1428, 'jeremi': 2445, 'expos': 1647, 'bait': 415, 'surf': 4366, 'eaten': 1464, 'greet': 2027, 'susan': 4376, 'africa': 170, 'crocodil': 1123, 'own': 3205, 'rescu': 3697, 'pirat': 3336, 'coast': 926, 'tara': 4421, 'showdown': 4018, 'r': 3556, '2000': 57, 'bernard': 496, 'l': 2558, 'cgi': 793, 'wire': 4922, 'stilt': 4257, 'correctli': 1070, 'inferior': 2332, 'distinguish': 1353, 'dorothi': 1383, 'isol': 2409, 'blob': 548, 'lucil': 2718, 'loi': 2687, 'condemn': 998, 'shall': 3976, 'trait': 4579, 'youth': 4992, 'valley': 4739, 'gambl': 1909, 'bleed': 543, 'lynch': 2734, 'smell': 4105, 'that': 4474, 'gritti': 2038, 'notion': 3100, 'reliabl': 3664, 'awak': 389, 'posey': 3399, 'hepburn': 2145, 'mankind': 2769, 'matrix': 2807, 'extens': 1653, 'trial': 4602, 'protest': 3507, 'riot': 3753, 'holocaust': 2186, 'skin': 4072, 'breast': 619, 'sentinel': 3947, 'adam': 143, 'render': 3679, 'devast': 1288, 'closet': 916, 'damm': 1169, 'angst': 261, 'macho': 2739, 'patient': 3263, 'vomit': 4805, 'campbel': 712, 'luckili': 2721, 'casper': 759, 'agenc': 175, 'sourc': 4152, 'split': 4194, 'undertak': 4672, 'hostag': 2217, 'instantli': 2362, 'chaplin': 806, 'bean': 457, 'bug': 666, 'breathtak': 621, 'coloni': 944, 'gear': 1925, 'viciou': 4771, 'leap': 2606, 'spill': 4183, 'danger': 1178, 'circu': 876, 'clan': 884, 'woodi': 4941, 'allen': 212, 'sean': 3906, 'harsh': 2104, 'neighborhood': 3035, 'bed': 468, 'wheel': 4885, 'hunt': 2244, 'adolesc': 153, 'bush': 682, 'reincarn': 3654, 'biographi': 520, 'vocal': 4801, 'nude': 3108, 'bro': 639, 'arguabl': 307, 'composit': 983, 'epitom': 1566, 'exquisit': 1651, 'voyag': 4808, 'honor': 2197, 'depart': 1256, 'counter': 1077, 'fluff': 1798, 'stone': 4266, 'intric': 2386, 'intellectu': 2371, 'princess': 3461, 'alik': 208, 'nephew': 3042, 'underst': 4669, 'wealth': 4857, 'partner': 3252, 'orient': 3172, 'knife': 2541, 'harrison': 2103, 'corpor': 1067, 'boston': 589, 'provok': 3512, 'tendenc': 4456, 'conserv': 1018, 'philosophi': 3315, 'benefit': 492, 'connor': 1011, 'leigh': 2621, 'jeffrey': 2442, 'comb': 949, 'anton': 277, 'st': 4212, 'particip': 3248, 'andr': 254, 'delici': 1240, 'nomin': 3081, 'mathieu': 2806, 'summer': 4346, 'vacat': 4733, 'sensual': 3943, 'seduc': 3918, 'preserv': 3437, 'intim': 2385, 'simplic': 4045, 'virtu': 4791, 'sentiment': 3946, 'homosexu': 2192, 'ace': 129, 'rose': 3798, 'cooki': 1055, 'cruelti': 1132, 'amanda': 230, 'taboo': 4402, 'agenda': 176, 'acid': 131, '1990': 45, 'pink': 3334, 'axe': 398, 'eugen': 1589, 'doom': 1381, 'kinda': 2531, 'valuabl': 4741, 'candid': 719, 'foreign': 1819, 'jet': 2451, 'luxuri': 2733, 'road': 3764, 'ventur': 4759, 'oppos': 3164, 'chicken': 837, 'exclus': 1623, 'contest': 1034, 'seldom': 3928, 'recognit': 3623, 'integr': 2370, 'strictli': 4288, 'overlook': 3200, 'gap': 1914, 'translat': 4584, 'unreal': 4704, 'petti': 3306, 'akin': 189, 'farmer': 1696, 'bewar': 505, 'nanci': 3007, 'leonard': 2629, 'muddl': 2978, 'parallel': 3236, 'hitler': 2173, 'leon': 2628, '1994': 48, 'explicit': 1642, 'advantag': 158, '4th': 82, 'reel': 3638, 'trace': 4567, 'threw': 4498, 'nathan': 3014, 'hamilton': 2078, 'accident': 120, 'wound': 4958, 'butler': 688, 'barrymor': 436, 'cameron': 709, 'similarli': 4040, 'flag': 1773, 'deed': 1222, 'repli': 3688, '1920': 16, 'stumbl': 4307, 'beast': 460, 'rampag': 3575, 'fluid': 1799, 'watcher': 4846, '00': 1, 'monti': 2946, 'descend': 1266, 'oldest': 3150, 'stanwyck': 4228, 'trend': 4600, 'previous': 3450, 'helen': 2136, 'dont': 1379, 'myer': 2997, 'reli': 3663, 'seller': 3933, 'beatti': 464, 'mode': 2925, 'massiv': 2800, 'repeatedli': 3684, 'ingrid': 2339, 'meander': 2823, 'asleep': 335, 'sucker': 4330, 'static': 4237, 'fundament': 1889, 'disastr': 1329, 'baldwin': 420, 'lang': 2575, 'epic': 1564, 'heel': 2132, 'choke': 848, 'lesser': 2633, 'cancer': 717, '1976': 32, 'ian': 2253, 'taught': 4428, '1997': 51, 'titan': 4527, 'bigger': 511, 'nose': 3092, 'diamond': 1296, 'ocean': 3133, 'ruth': 3827, 'frustrat': 1878, 'servant': 3958, 'meanwhil': 2827, 'plant': 3348, 'pocket': 3364, 'persuad': 3300, 'reunit': 3725, 'leo': 2627, 'neck': 3028, 'companion': 968, 'alison': 209, 'tacki': 4404, 'walken': 4819, 'jeff': 2441, 'goldblum': 1984, 'gilbert': 1951, 'psychot': 3520, 'descent': 1267, 'guard': 2050, 'eeri': 1479, 'subtleti': 4324, 'rooki': 3791, 'stark': 4232, 'septemb': 3949, 'sleaz': 4084, 'accord': 124, 'myth': 3000, 'helicopt': 2137, 'itali': 2413, 'wake': 4817, 'snap': 4111, 'alic': 205, 'bridg': 627, 'lewi': 2639, 'sharon': 3983, 'conduct': 1000, 'technicolor': 4440, 'beneath': 491, 'audit': 372, 'sparkl': 4165, 'loyalti': 2715, 'etern': 1586, 'versu': 4764, 'tender': 4457, 'crystal': 1135, 'patricia': 3264, 'expert': 1639, 'newman': 3055, 'vein': 4756, 'tube': 4625, 'terrorist': 4468, 'collector': 941, 'reward': 3736, 'glori': 1970, 'strongest': 4296, 'dynam': 1445, 'unrel': 4706, 'rhythm': 3740, 'characteris': 810, 'mute': 2995, 'vibrant': 4769, 'reign': 3653, 'basing': 443, 'indiffer': 2322, 'housewif': 2224, 'strand': 4278, 'slight': 4091, 'wretch': 4965, 'unconvinc': 4659, 'luka': 2725, 'hopelessli': 2204, 'clueless': 922, 'hypnot': 2251, 'album': 197, 'kurt': 2556, 'guitar': 2057, 'concert': 995, 'dana': 1173, 'sidewalk': 4029, 'tierney': 4513, 'karl': 2503, 'dixon': 1364, 'temper': 4450, 'ken': 2514, 'preming': 3430, 'float': 1791, 'obscur': 3121, 'casino': 758, 'blatant': 540, 'stir': 4261, 'suspici': 4380, 'convolut': 1053, 'bullet': 671, 'monologu': 2940, 'setup': 3963, 'option': 3167, 'torment': 4553, 'hawk': 2112, 'schedul': 3878, 'pixar': 3341, 'lindsay': 2660, 'function': 1887, 'worship': 4951, 'werewolf': 4876, 'matthew': 2811, 'disjoint': 1341, 'hideou': 2154, 'curios': 1145, 'jean': 2439, 'ritter': 3759, 'choreographi': 853, 'cagney': 698, 'revers': 3729, 'nicol': 3063, 'kidman': 2525, 'downright': 1391, 'logan': 2685, 'amateurish': 232, 'wtf': 4971, 'destin': 1279, '1996': 50, '1995': 49, 'employe': 1524, 'inhabit': 2340, 'updat': 4714, 'relev': 3662, 'shakespear': 3974, 'spit': 4190, 'blown': 556, 'toler': 4537, 'soderbergh': 4121, 'cuban': 1137, 'shirt': 4001, 'motorcycl': 2965, 'tour': 4561, 'cuba': 1136, 'contemporari': 1031, 'forest': 1820, 'spain': 4160, 'del': 1236, 'ie': 2264, 'harder': 2096, 'en': 1526, 'ramon': 3574, 'sandler': 3852, 'secretari': 3914, 'nuclear': 3107, 'incorrect': 2312, 'invent': 2392, 'garner': 1919, 'shirley': 4000, 'tank': 4418, 'stiller': 4256, 'pun': 3525, 'plausibl': 3351, 'elit': 1502, 'oppon': 3162, 'automat': 382, 'einstein': 1487, 'matthau': 2810, 'niec': 3065, 'dealt': 1203, 'destini': 1280, 'glanc': 1963, 'pilot': 3332, 'chuckl': 866, 'evan': 1594, 'brad': 605, 'pitt': 3340, 'vile': 4783, 'repuls': 3694, 'uniformli': 4686, 'pacif': 3210, 'penni': 3282, 'maniac': 2767, 'scar': 3869, 'journalist': 2477, 'consciou': 1015, 'stomach': 4265, 'luci': 2717, 'liu': 2676, 'q': 3540, 'profan': 3478, 'meryl': 2854, 'streep': 4282, 'degrad': 1234, 'trivia': 4616, 'bradi': 606, 'digniti': 1309, 'embrac': 1513, 'tack': 4403, 'cameo': 707, 'perri': 3296, 'reson': 3705, 'kansa': 2500, 'immatur': 2279, 'predat': 3423, 'rope': 3796, 'grasp': 2013, 'psycholog': 3518, 'blake': 535, 'mortal': 2960, 'wizard': 4932, 'oz': 3207, 'franki': 1853, 'frighten': 1872, 'warren': 4839, '1978': 34, 'conscious': 1016, 'betti': 503, 'appl': 294, 'boo': 577, 'ruthless': 3828, 'jennif': 2444, 'greg': 2028, 'poison': 3372, 'vanish': 4746, 'charisma': 813, 'health': 2118, 'woo': 4938, 'outing': 3187, 'lifeless': 2647, 'bake': 416, 'ghetto': 1945, 'hip': 2165, 'bash': 440, 'slimi': 4094, 'savag': 3863, 'monkey': 2939, 'pit': 3337, 'predecessor': 3424, 'prop': 3495, 'disguis': 1338, 'rear': 3614, 'whale': 4881, 'flavor': 1780, 'mount': 2966, 'chan': 801, 'conan': 990, 'carpent': 749, 'dement': 1247, 'truck': 4619, 'southern': 4154, 'groan': 2039, 'yawn': 4978, 'preston': 3441, 'label': 2561, 'tonight': 4546, 'nope': 3086, 'uneven': 4675, '1974': 31, 'spontan': 4200, 'rubbish': 3813, 'kay': 2507, 'sentenc': 3945, 'befriend': 471, 'russia': 3825, 'latin': 2584, 'holi': 2180, 'preview': 3448, 'pg': 3307, '13': 8, 'splatter': 4192, 'sheet': 3989, 'pat': 3259, '1991': 46, 'pray': 3416, 'lili': 2656, 'steel': 4244, 'seduct': 3919, 'mccoy': 2818, 'presid': 3438, 'fund': 1888, 'fruit': 1877, 'hugh': 2232, 'knowledg': 2546, 'nolan': 3079, 'distress': 1356, 'abort': 103, 'demon': 1249, 'growth': 2046, 'julia': 2487, 'eric': 1572, 'alexand': 202, 'wrestl': 4963, 'lengthi': 2626, 'antagonist': 271, 'goofi': 1991, 'vaniti': 4747, 'heartfelt': 2125, 'inappropri': 2302, 'modest': 2929, 'victor': 4773, 'oblig': 3118, 'cari': 741, 'scoop': 3887, 'sid': 4026, 'sin': 4049, 'keaton': 2509, 'brilliantli': 634, 'unsatisfi': 4707, 'poe': 3365, 'grandfath': 2009, 'fought': 1837, 'neurot': 3048, 'soup': 4151, 'butcher': 687, 'controversi': 1044, 'bibl': 508, 'pot': 3405, 'belli': 484, 'mayor': 2817, 'mayhem': 2816, 'blur': 559, 'spark': 4164, 'string': 4290, 'hopper': 2206, 'ho': 2175, 'corn': 1064, 'ted': 4443, 'nelson': 3039, 'melt': 2842, 'stair': 4217, 'electr': 1493, 'rick': 3744, 'assault': 340, 'redneck': 3634, 'columbo': 947, 'whoever': 4893, 'rabbit': 3557, 'entri': 1562, '3rd': 78, 'dirt': 1322, 'dragon': 1396, 'sale': 3843, 'waitress': 4816, 'despis': 1277, 'abraham': 105, 'mall': 2761, 'melissa': 2838, 'hart': 2105, 'bust': 685, 'sabrina': 3830, 'realm': 3613, 'healthi': 2119, 'carla': 744, 'laid': 2567, 'basement': 439, 'glover': 1973, 'brenda': 623, 'horrid': 2210, 'phenomenon': 3310, 'par': 3233, 'niro': 3073, 'cape': 728, 'godfath': 1978, 'unsettl': 4709, 'illog': 2270, 'weav': 4863, 'forth': 1832, 'kyle': 2557, 'yard': 4977, 'bye': 693, 'enthral': 1556, 'distant': 1351, 'disc': 1331, 'topless': 4552, 'spring': 4208, 'florida': 1795, 'deriv': 1265, 'heap': 2120, 'climb': 907, 'fbi': 1714, 'dan': 1172, 'jon': 2471, 'voight': 4803, 'nyc': 3116, 'delv': 1245, 'ratso': 3594, 'hoffman': 2176, 'foil': 1804, 'sunni': 4350, 'narrow': 3010, 'echo': 1467, 'mislead': 2909, 'bonu': 576, 'crook': 1124, 'neglect': 3033, 'grotesqu': 2041, 'boxer': 600, 'rivet': 3763, 'tower': 4564, 'visibl': 4794, 'shield': 3996, 'document': 1367, '2002': 59, 'survivor': 4375, 'sublim': 4316, 'ensur': 1552, 'sunshin': 4351, 'newli': 3054, 'widow': 4903, 'korean': 2550, 'vast': 4752, 'goer': 1981, 'forgiven': 1825, 'proclaim': 3475, 'rural': 3822, '1930': 17, 'hat': 2108, 'astair': 350, 'rubi': 3814, 'divorc': 1363, 'natali': 3013, 'audrey': 373, 'cure': 1144, 'convict': 1050, 'cycl': 1158, 'tap': 4419, 'conscienc': 1014, 'slug': 4099, 'giggl': 1950, 'cole': 935, 'attribut': 369, 'icon': 2255, 'macabr': 2736, 'businessman': 684, 'stole': 4263, 'eva': 1593, 'ingeni': 2337, '1971': 28, 'sinist': 4056, 'impos': 2292, 'dane': 1177, 'dwarf': 1443, 'chavez': 821, 'financ': 1754, 'arrang': 317, 'ashley': 331, 'profess': 3479, 'instrument': 2367, 'gordon': 1992, 'franchis': 1847, 'perceiv': 3286, 'relentless': 3661, 'firstli': 1765, 'hardi': 2097, 'quarter': 3544, 'yesterday': 4985, 'brush': 654, 'arc': 303, 'assembl': 341, 'kiddi': 2524, 'volum': 4804, 'obligatori': 3119, 'sox': 4156, 'unawar': 4654, 'factori': 1669, 'detach': 1283, 'await': 388, 'sammi': 3848, 'hackney': 2068, 'facil': 1666, 'kurosawa': 2555, 'tokyo': 4535, 'afford': 167, 'we': 4853, 'craven': 1098, 'muppet': 2984, 'shi': 3995, 'convent': 1046, 'contrari': 1039, 'gregori': 2029, 'worthless': 4955, 'downhil': 1390, 'difficulti': 1306, 'lane': 2574, 'bravo': 613, 'celluloid': 780, 'drift': 1410, 'nicholson': 3061, 'newspap': 3057, 'implaus': 2287, 'extend': 1652, 'recreat': 3628, 'shelley': 3992, 'legendari': 2619, 'edgar': 1472, 'firmli': 1763, 'experiment': 1638, 'abund': 112, 'elev': 1498, 'pete': 3304, 'onlin': 3156, 'march': 2776, '2008': 65, 'subtli': 4325, 'behold': 479, 'falk': 1679, 'rap': 3585, 'tooth': 4549, 'ritchi': 3758, 'redempt': 3633, 'humbl': 2237, 'wrench': 4962, 'hk': 2174, 'venom': 4758, 'cardboard': 736, 'sharp': 3984, 'madonna': 2743, 'glow': 1974, 'isabel': 2406, 'goldsworthi': 1986, '28': 71, 'ha': 2064, 'choppi': 851, 'rome': 3786, 'asset': 343, 'pour': 3409, 'ami': 241, 'traffic': 4573, 'bikini': 515, 'roar': 3765, 'salman': 3845, 'khan': 2521, 'urg': 4720, 'howl': 2227, 'milo': 2888, 'lectur': 2611, 'lit': 2671, 'artifici': 325, 'ant': 270, 'feminist': 1729, 'randi': 3577, 'bay': 453, 'ariel': 309, 'streisand': 4284, 'resurrect': 3718, 'hammi': 2081, 'conneri': 1010, 'shaw': 3986, 'derang': 1263, 'portrait': 3396, 'illus': 2271, 'scotland': 3891, 'cattl': 771, 'verbal': 4760, 'pervert': 3302, 'goof': 1990, 'worm': 4947, 'excess': 1620, 'wield': 4904, 'bourn': 596, 'damon': 1171, 'repris': 3693, 'coincid': 933, 'linear': 2662, 'philosoph': 3314, 'ranger': 3582, 'ninja': 3072, 'walker': 4820, 'elm': 1505, 'delet': 1237, 'geek': 1926, 'iv': 2416, 'gray': 2017, 'thru': 4505, 'mol': 2932, 'senat': 3935, 'tame': 4417, 'highway': 2160, 'lampoon': 2570, 'cathol': 770, 'gerard': 1939, 'spider': 4180, 'lure': 2729, 'slip': 4095, 'errol': 1574, 'flynn': 1800, '2003': 60, 'disgrac': 1337, 'policeman': 3379, 'fontain': 1809, 'biblic': 509, 'passag': 3255, 'signal': 4033, 'durat': 1437, 'summar': 4344, 'fuller': 1884, 'edgi': 1473, 'emphasi': 1521, 'barrel': 434, 'compromis': 987, '18': 14, 'drone': 1417, 'angela': 257, 'charlott': 817, 'stack': 4214, 'playboy': 3353, 'malon': 2762, 'hudson': 2229, 'principl': 3463, 'mitch': 2916, 'countless': 1079, 'dinosaur': 1316, 'articl': 324, 'insur': 2369, 'lumet': 2727, 'rachel': 3559, 'dysfunct': 1446, 'tactic': 4406, 'fonda': 1808, 'tripl': 4613, 'submit': 4317, 'othello': 3178, 'fishburn': 1767, 'pokemon': 3374, 'lacklust': 2564, 'increas': 2313, 'comprehend': 984, 'turtl': 4632, 'navi': 3019, 'wore': 4943, 'peril': 3292, 'superman': 4358, 'norman': 3089, 'phrase': 3321, 'beatl': 463, 'flirt': 1790, 'downey': 1389, 'confirm': 1004, 'altman': 226, 'orang': 3168, 'bow': 597, 'gabl': 1902, 'household': 2223, 'maid': 2750, 'watson': 4848, 'flee': 1783, 'silver': 4038, 'aveng': 384, 'unexpectedli': 4677, 'alleg': 211, 'elect': 1492, 'sweep': 4388, 'penn': 3281, 'ash': 329, 'associ': 346, 'shelf': 3990, 'ridden': 3746, '1939': 20, 'lincoln': 2658, 'ebert': 1465, 'grinch': 2036, 'hopkin': 2205, 'surgeri': 4368, 'appli': 296, 'minist': 2897, 'funer': 1890, 'homag': 2187, 'truman': 4622, 'capot': 730, 'conrad': 1013, 'culmin': 1140, 'bunni': 676, 'rapist': 3588, 'dealer': 1202, 'aesthet': 163, 'gloriou': 1972, 'photo': 3318, 'staff': 4215, 'muscl': 2988, 'shortcom': 4009, 'altogeth': 227, '13th': 9, 'triumph': 4615, 'judd': 2481, 'injur': 2345, 'entitl': 1560, 'rant': 3584, 'phenomen': 3309, 'li': 2641, 'hackman': 2067, 'spread': 4206, 'monoton': 2941, 'beard': 459, 'lui': 2724, 'clair': 883, 'speed': 4174, 'futurist': 1898, 'enforc': 1538, 'clint': 909, 'eastwood': 1462, 'hamlet': 2079, 'despic': 1276, 'sue': 4333, 'porter': 3394, 'bowl': 598, 'clown': 919, 'amazon': 235, 'oppress': 3166, 'bori': 585, 'karloff': 2504, 'corbett': 1061, 'bogu': 567, 'interior': 2379, 'polanski': 3376, 'exterior': 1655, 'tenant': 4454, 'scientif': 3884, 'immers': 2282, 'precis': 3422, 'todd': 4530, 'yearn': 4982, 'drip': 1412, 'graduat': 2005, 'laurenc': 2593, 'bent': 493, 'mclaglen': 2819, 'fog': 1803, 'ireland': 2400, 'slide': 4090, 'squad': 4210, 'acclaim': 121, 'obnoxi': 3120, 'furthermor': 1896, 'historian': 2170, 'denzel': 1255, 'parson': 3244, 'breakfast': 618, 'europa': 1591, 'cia': 868, 'proport': 3502, 'mansion': 2772, 'walsh': 4823, 'karen': 2502, 'hulk': 2234, 'nicola': 3064, 'mcqueen': 2820, 'spawn': 4166, '1945': 22, 'elimin': 1501, '1972': 29, 'cinderella': 870, 'incompet': 2308, 'asylum': 354, 'spray': 4205, 'profil': 3482, '1999': 52, 'inmat': 2347, 'ol': 3147, 'parad': 3234, 'constitut': 1025, 'climat': 905, 'wet': 4879, 'explod': 1643, 'miracl': 2901, 'enlist': 1547, 'out': 3182, 'hello': 2139, '3d': 77, 'halfway': 2073, 'loretta': 2697, 'upset': 4718, 'cemeteri': 781, 'breed': 622, 'exhibit': 1628, 'springer': 4209, 'region': 3646, 'cream': 1103, 'twelv': 4634, 'geni': 1932, 'whack': 4880, 'poetic': 3367, 'burton': 681, 'glamor': 1962, 'cassavet': 760, 'thunderbird': 4509, 'divin': 1362, 'chest': 833, 'hug': 2230, 'reunion': 3724, 'wendigo': 4874, 'feat': 1717, 'wang': 4827, 'ish': 2407, 'jodi': 2461, 'instruct': 2366, 'huston': 2248, 'preciou': 3421, 'mickey': 2870, 'pc': 3274, 'reid': 3652, 'preach': 3418, 'flock': 1792, 'buster': 686, 'climact': 904, 'drake': 1398, '1969': 26, 'roth': 3802, 'bastard': 446, 'outdat': 3184, 'gadget': 1904, 'pride': 3454, 'bubbl': 659, 'homer': 2190, 'northern': 3091, 'crawl': 1100, 'seedi': 3922, 'cb': 775, 'energet': 1536, 'mel': 2837, 'june': 2490, 'vanessa': 4745, 'improvis': 2297, 'someday': 4131, 'miami': 2867, '19': 15, 'transcend': 4580, 'represent': 3691, 'antwon': 280, 'psychiatrist': 3515, 'curtain': 1150, 'morri': 2959, 'trauma': 4590, 'client': 901, 'lester': 2635, 'secondli': 3912, 'colin': 936, 'meat': 2829, 'gentleman': 1936, 'jewel': 2453, 'primit': 3459, 'wick': 4899, 'brosnan': 649, 'undermin': 4666, 'bakshi': 418, 'declin': 1218, 'bsg': 656, 'dracula': 1394, 'antonio': 278, 'cannib': 721, 'firm': 1762, 'aris': 310, 'fulci': 1881, 'miracul': 2902, 'launch': 2589, 'pulp': 3524, 'disabl': 1324, 'boyl': 604, 'unexplain': 4678, 'eastern': 1461, 'giallo': 1947, 'esther': 1582, 'deaf': 1200, 'reviv': 3731, 'sandra': 3853, 'athlet': 355, 'ethan': 1587, 'disregard': 1349, 'glorifi': 1971, 'ross': 3800, 'jare': 2433, 'darren': 1186, 'camcord': 705, 'dust': 1438, 'interestingli': 2378, 'din': 1314, 'montana': 2944, 'down': 1388, 'er': 1570, 'carlito': 745, 'abc': 98, 'shepherd': 3993, 'censor': 782, 'estrang': 1583, '21st': 67, 'bach': 403, 'danish': 1180, 'clad': 881, 'solut': 4128, 'cusack': 1152, 'bridget': 628, 'braveheart': 612, 'perman': 3294, 'bela': 480, 'lugosi': 2723, 'shell': 3991, 'stinker': 4260, 'trashi': 4589, 'gal': 1907, 'occupi': 3131, 'frontier': 1876, 'timon': 4521, 'gunga': 2060, 'map': 2773, 'ceremoni': 789, 'mutual': 2996, 'comprehens': 985, 'deniro': 1252, 'ideolog': 2261, 'sicken': 4025, 'dave': 1190, 'genet': 1931, 'exit': 1630, 'fay': 1713, 'poem': 3366, 'tomato': 4539, '1981': 37, 'neill': 3037, 'marc': 2775, 'idol': 2263, 'simmon': 4041, 'reluct': 3668, 'token': 4534, 'neatli': 3025, 'judgment': 2483, 'spinal': 4185, 'electron': 1494, 'milk': 2883, 'cerebr': 788, 'moder': 2927, 'hapless': 2089, 'smack': 4100, 'domino': 1375, 'india': 2319, 'kapoor': 2501, 'peck': 3278, 'olivi': 3152, 'cue': 1139, 'cher': 831, 'suffici': 4336, 'enchant': 1528, 'injuri': 2346, 'biko': 516, 'attenborough': 363, 'kline': 2538, 'frantic': 1855, 'jade': 2422, 'dolph': 1372, 'paramount': 3237, 'disord': 1346, 'illeg': 2269, '1989': 44, 'colonel': 943, 'cush': 1153, 'trier': 4607, 'gina': 1955, 'decept': 1214, 'bargain': 432, 'legaci': 2616, 'bachelor': 404, 'irrelev': 2404, 'raymond': 3598, 'carlo': 746, 'dylan': 1444, 'fido': 1739, 'seed': 3921, 'dud': 1427, 'pepper': 3284, 'troop': 4617, 'feast': 1716, 'lundgren': 2728, 'champion': 799, 'rifl': 3750, 'insert': 2352, 'alec': 199, 'nostalgia': 3094, 'propos': 3503, 'salli': 3844, 'roller': 3782, 'wagner': 4814, 'lush': 2731, 'jew': 2452, 'synopsi': 4399, 'chicago': 835, 'sneak': 4113, 'transplant': 4585, 'donna': 1378, 'pierc': 3329, 'raj': 3569, 'atroc': 358, 'mermaid': 2853, 'jenni': 2443, 'mon': 2936, 'goldberg': 1983, 'ginger': 1956, 'scarecrow': 3871, 'brendan': 624, 'creek': 1111, 'styliz': 4313, 'paxton': 3272, 'arrow': 321, 'randolph': 3578, 'loneli': 2691, 'laurel': 2591, 'olli': 3153, 'evolut': 1610, 'carl': 743, 'fuel': 1880, 'duck': 1426, 'spock': 4195, 'martha': 2790, 'spade': 4159, 'outlaw': 3188, 'bread': 615, '19th': 53, 'bate': 448, 'austin': 377, 'hay': 2113, 'radiat': 3563, 'boyer': 602, 'unsuspect': 4710, 'airport': 187, 'pamela': 3228, 'rukh': 3817, 'slave': 4083, 'richardson': 3743, 'sniper': 4114, 'ram': 3571, 'guin': 2056, 'carel': 739, 'heist': 2134, 'kent': 2517, 'astronaut': 353, 'whoopi': 4896, 'nun': 3113, 'palma': 3226, 'reed': 3637, 'phil': 3311, 'scorses': 3890, 'sand': 3851, 'millionair': 2887, 'robber': 3767, 'embark': 1511, 'choru': 854, 'gundam': 2059, 'winchest': 4915, 'paltrow': 3227, 'nina': 3069, 'julian': 2488, 'gere': 1940, 'rub': 3811, 'iraq': 2399, 'brando': 610, '1977': 33, 'zizek': 4996, 'canyon': 725, 'alvin': 228, 'ballet': 422, 'fascist': 1700, 'lena': 2623, 'alexandr': 203, 'stargat': 4231, 'atlanti': 356, 'cypher': 1160, 'hartley': 2106, 'stalker': 4221, 'austen': 376, 'prophet': 3501, 'buffalo': 665, 'eli': 1500, '1933': 18, 'chamberlain': 798, 'dandi': 1176, 'zane': 4994, 'potter': 3407, 'kolchak': 2548, 'vanc': 4744, 'inaccur': 2299, 'jill': 2455, 'scarfac': 3872, 'yeti': 4987, 'macarthur': 2737, 'lex': 2640, 'wwe': 4972, 'aborigin': 102}\n"
     ]
    }
   ],
   "source": [
    "print(vocabulary)"
   ]
  },
  {
   "cell_type": "code",
   "execution_count": 75,
   "metadata": {},
   "outputs": [
    {
     "name": "stdout",
     "output_type": "stream",
     "text": [
      "['weari', 'victorian', 'playboy', '21st', 'reincarn', 'spill', 'ghetto']\n",
      "{'weari': 4861, 'victorian': 4776, 'spill': 4183, 'reincarn': 3654, 'ghetto': 1945, 'playboy': 3353, '21st': 67}\n",
      "['dubiou', 'optimist', 'omin', 'sophi', 'orchestr', 'masterson', 'banana']\n",
      "{'banana': 424, 'orchestr': 3172, 'dubiou': 1426, 'sophi': 4144, 'masterson': 2803, 'omin': 3156, 'optimist': 3169}\n"
     ]
    }
   ],
   "source": [
    "orig_diff_new = list(original_vocabulary - new_vocabulary)\n",
    "print(orig_diff_new)\n",
    "orig_diff_dict = {}\n",
    "for key, value in vocabulary.items():\n",
    "    if key in orig_diff_new:\n",
    "        orig_diff_dict[key] = value\n",
    "print(orig_diff_dict)\n",
    "new_v = new_vectorizer.vocabulary_\n",
    "new_diff_orig = list(new_vocabulary - original_vocabulary)\n",
    "print(new_diff_orig)\n",
    "new_diff_dict = {}\n",
    "for key, value in new_v.items():\n",
    "    if key in new_diff_orig:\n",
    "        new_diff_dict[key] = value\n",
    "print(new_diff_dict)"
   ]
  },
  {
   "cell_type": "markdown",
   "metadata": {},
   "source": [
    "### (TODO) Build a new model\n",
    "\n",
    "Supposing that we believe something has changed about the underlying distribution of the words that our reviews are made up of, we need to create a new model. This way our new model will take into account whatever it is that has changed.\n",
    "\n",
    "To begin with, we will use the new vocabulary to create a bag of words encoding of the new data. We will then use this data to train a new XGBoost model.\n",
    "\n",
    "**NOTE:** Because we believe that the underlying distribution of words has changed it should follow that the original vocabulary that we used to construct a bag of words encoding of the reviews is no longer valid. This means that we need to be careful with our data. If we send an bag of words encoded review using the *original* vocabulary we should not expect any sort of meaningful results.\n",
    "\n",
    "In particular, this means that if we had deployed our XGBoost model like we did in the Web App notebook then we would need to implement this vocabulary change in the Lambda function as well."
   ]
  },
  {
   "cell_type": "code",
   "execution_count": 77,
   "metadata": {},
   "outputs": [],
   "source": [
    "new_XV = new_vectorizer.transform(new_X).toarray()"
   ]
  },
  {
   "cell_type": "markdown",
   "metadata": {},
   "source": [
    "And a quick check to make sure that the newly encoded reviews have the correct length, which should be the size of the new vocabulary which we created."
   ]
  },
  {
   "cell_type": "code",
   "execution_count": 78,
   "metadata": {},
   "outputs": [
    {
     "data": {
      "text/plain": [
       "5000"
      ]
     },
     "execution_count": 78,
     "metadata": {},
     "output_type": "execute_result"
    }
   ],
   "source": [
    "len(new_XV[0])"
   ]
  },
  {
   "cell_type": "markdown",
   "metadata": {},
   "source": [
    "Now that we have our newly encoded, newly collected data, we can split it up into a training and validation set so that we can train a new XGBoost model. As usual, we first split up the data, then save it locally and then upload it to S3."
   ]
  },
  {
   "cell_type": "code",
   "execution_count": 79,
   "metadata": {},
   "outputs": [],
   "source": [
    "import pandas as pd\n",
    "\n",
    "# Earlier we shuffled the training dataset so to make things simple we can just assign\n",
    "# the first 10 000 reviews to the validation set and use the remaining reviews for training.\n",
    "new_val_X = pd.DataFrame(new_XV[:10000])\n",
    "new_train_X = pd.DataFrame(new_XV[10000:])\n",
    "\n",
    "new_val_y = pd.DataFrame(new_Y[:10000])\n",
    "new_train_y = pd.DataFrame(new_Y[10000:])"
   ]
  },
  {
   "cell_type": "markdown",
   "metadata": {},
   "source": [
    "In order to save some memory we will effectively delete the `new_X` variable. Remember that this contained a list of reviews and each review was a list of words. Note that once this cell has been executed you will need to read the new data in again if you want to work with it."
   ]
  },
  {
   "cell_type": "code",
   "execution_count": 80,
   "metadata": {},
   "outputs": [],
   "source": [
    "new_X = None"
   ]
  },
  {
   "cell_type": "markdown",
   "metadata": {},
   "source": [
    "Next we save the new training and validation sets locally. Note that we overwrite the training and validation sets used earlier. This is mostly because the amount of space that we have available on our notebook instance is limited. Of course, you can increase this if you'd like but to do so may increase the cost of running the notebook instance."
   ]
  },
  {
   "cell_type": "code",
   "execution_count": 81,
   "metadata": {},
   "outputs": [],
   "source": [
    "pd.DataFrame(new_XV).to_csv(os.path.join(data_dir, 'new_data.csv'), header=False, index=False)\n",
    "\n",
    "pd.concat([new_val_y, new_val_X], axis=1).to_csv(os.path.join(data_dir, 'new_validation.csv'), header=False, index=False)\n",
    "pd.concat([new_train_y, new_train_X], axis=1).to_csv(os.path.join(data_dir, 'new_train.csv'), header=False, index=False)"
   ]
  },
  {
   "cell_type": "markdown",
   "metadata": {},
   "source": [
    "Now that we've saved our data to the local instance, we can safely delete the variables to save on memory."
   ]
  },
  {
   "cell_type": "code",
   "execution_count": 82,
   "metadata": {},
   "outputs": [],
   "source": [
    "new_val_y = new_val_X = new_train_y = new_train_X = new_XV = None"
   ]
  },
  {
   "cell_type": "markdown",
   "metadata": {},
   "source": [
    "Lastly, we make sure to upload the new training and validation sets to S3.\n",
    "\n",
    "**TODO:** Upload the new data as well as the new training and validation data sets to S3."
   ]
  },
  {
   "cell_type": "code",
   "execution_count": 83,
   "metadata": {},
   "outputs": [],
   "source": [
    "# TODO: Upload the new data and the new validation.csv and train.csv files in the data_dir directory to S3.\n",
    "new_data_location = None\n",
    "new_val_location = None\n",
    "new_train_location = None\n",
    "\n",
    "new_data_location = session.upload_data(os.path.join(data_dir, 'new_data.csv'), key_prefix=prefix)\n",
    "new_val_location = session.upload_data(os.path.join(data_dir, 'new_validation.csv'), key_prefix=prefix)\n",
    "new_train_location = session.upload_data(os.path.join(data_dir, 'new_train.csv'), key_prefix=prefix)"
   ]
  },
  {
   "cell_type": "markdown",
   "metadata": {},
   "source": [
    "Once our new training data has been uploaded to S3, we can create a new XGBoost model that will take into account the changes that have occured in our data set.\n",
    "\n",
    "**TODO:** Create a new XGBoost estimator object."
   ]
  },
  {
   "cell_type": "code",
   "execution_count": 84,
   "metadata": {},
   "outputs": [
    {
     "name": "stderr",
     "output_type": "stream",
     "text": [
      "Parameter image_name will be renamed to image_uri in SageMaker Python SDK v2.\n"
     ]
    }
   ],
   "source": [
    "# TODO: First, create a SageMaker estimator object for our model.\n",
    "new_xgb = sagemaker.estimator.Estimator(container, # The location of the container we wish to use\n",
    "                                        role,                                    # What is our current IAM Role\n",
    "                                        train_instance_count=1,                  # How many compute instances\n",
    "                                        train_instance_type='ml.m4.xlarge',      # What kind of compute instances\n",
    "                                        output_path='s3://{}/{}/output'.format(session.default_bucket(), prefix),\n",
    "                                        sagemaker_session=session)\n",
    "\n",
    "# TODO: Then set the algorithm specific parameters. You may wish to use the same parameters that were\n",
    "#       used when training the original model.\n",
    "new_xgb.set_hyperparameters(max_depth=5,\n",
    "                            eta=0.2,\n",
    "                            gamma=4,\n",
    "                            min_child_weight=6,\n",
    "                            subsample=0.8,\n",
    "                            silent=0,\n",
    "                            objective='binary:logistic',\n",
    "                            early_stopping_rounds=10,\n",
    "                            num_round=500)"
   ]
  },
  {
   "cell_type": "markdown",
   "metadata": {},
   "source": [
    "Once the model has been created, we can train it with our new data.\n",
    "\n",
    "**TODO:** Train the new XGBoost model."
   ]
  },
  {
   "cell_type": "code",
   "execution_count": 85,
   "metadata": {},
   "outputs": [
    {
     "name": "stderr",
     "output_type": "stream",
     "text": [
      "'s3_input' class will be renamed to 'TrainingInput' in SageMaker Python SDK v2.\n",
      "'s3_input' class will be renamed to 'TrainingInput' in SageMaker Python SDK v2.\n"
     ]
    }
   ],
   "source": [
    "# TODO: First, make sure that you create s3 input objects so that SageMaker knows where to\n",
    "#       find the training and validation data.\n",
    "s3_new_input_train = None\n",
    "s3_new_input_validation = None\n",
    "s3_new_input_train = sagemaker.s3_input(s3_data=new_train_location, content_type='csv')\n",
    "s3_new_input_validation = sagemaker.s3_input(s3_data=new_val_location, content_type='csv')"
   ]
  },
  {
   "cell_type": "code",
   "execution_count": 86,
   "metadata": {},
   "outputs": [
    {
     "name": "stdout",
     "output_type": "stream",
     "text": [
      "2020-11-01 03:42:46 Starting - Starting the training job...\n",
      "2020-11-01 03:42:47 Starting - Launching requested ML instances......\n",
      "2020-11-01 03:43:51 Starting - Preparing the instances for training...\n",
      "2020-11-01 03:44:39 Downloading - Downloading input data...\n",
      "2020-11-01 03:45:14 Training - Training image download completed. Training in progress..\u001b[34mArguments: train\u001b[0m\n",
      "\u001b[34m[2020-11-01:03:45:14:INFO] Running standalone xgboost training.\u001b[0m\n",
      "\u001b[34m[2020-11-01:03:45:14:INFO] File size need to be processed in the node: 238.47mb. Available memory size in the node: 8477.12mb\u001b[0m\n",
      "\u001b[34m[2020-11-01:03:45:14:INFO] Determined delimiter of CSV input is ','\u001b[0m\n",
      "\u001b[34m[03:45:14] S3DistributionType set as FullyReplicated\u001b[0m\n",
      "\u001b[34m[03:45:16] 15000x5000 matrix with 75000000 entries loaded from /opt/ml/input/data/train?format=csv&label_column=0&delimiter=,\u001b[0m\n",
      "\u001b[34m[2020-11-01:03:45:16:INFO] Determined delimiter of CSV input is ','\u001b[0m\n",
      "\u001b[34m[03:45:16] S3DistributionType set as FullyReplicated\u001b[0m\n",
      "\u001b[34m[03:45:17] 10000x5000 matrix with 50000000 entries loaded from /opt/ml/input/data/validation?format=csv&label_column=0&delimiter=,\u001b[0m\n",
      "\u001b[34m[03:45:21] src/tree/updater_prune.cc:74: tree pruning end, 1 roots, 46 extra nodes, 4 pruned nodes, max_depth=5\u001b[0m\n",
      "\u001b[34m[0]#011train-error:0.2954#011validation-error:0.302\u001b[0m\n",
      "\u001b[34mMultiple eval metrics have been passed: 'validation-error' will be used for early stopping.\n",
      "\u001b[0m\n",
      "\u001b[34mWill train until validation-error hasn't improved in 10 rounds.\u001b[0m\n",
      "\u001b[34m[03:45:22] src/tree/updater_prune.cc:74: tree pruning end, 1 roots, 42 extra nodes, 12 pruned nodes, max_depth=5\u001b[0m\n",
      "\u001b[34m[1]#011train-error:0.290133#011validation-error:0.2951\u001b[0m\n",
      "\u001b[34m[03:45:23] src/tree/updater_prune.cc:74: tree pruning end, 1 roots, 48 extra nodes, 2 pruned nodes, max_depth=5\u001b[0m\n",
      "\u001b[34m[2]#011train-error:0.282067#011validation-error:0.2901\u001b[0m\n",
      "\u001b[34m[03:45:24] src/tree/updater_prune.cc:74: tree pruning end, 1 roots, 34 extra nodes, 8 pruned nodes, max_depth=5\u001b[0m\n",
      "\u001b[34m[3]#011train-error:0.272#011validation-error:0.2797\u001b[0m\n",
      "\u001b[34m[03:45:26] src/tree/updater_prune.cc:74: tree pruning end, 1 roots, 48 extra nodes, 4 pruned nodes, max_depth=5\u001b[0m\n",
      "\u001b[34m[4]#011train-error:0.265333#011validation-error:0.2733\u001b[0m\n",
      "\u001b[34m[03:45:28] src/tree/updater_prune.cc:74: tree pruning end, 1 roots, 38 extra nodes, 4 pruned nodes, max_depth=5\u001b[0m\n",
      "\u001b[34m[5]#011train-error:0.258733#011validation-error:0.2672\u001b[0m\n",
      "\u001b[34m[03:45:29] src/tree/updater_prune.cc:74: tree pruning end, 1 roots, 34 extra nodes, 8 pruned nodes, max_depth=5\u001b[0m\n",
      "\u001b[34m[6]#011train-error:0.252467#011validation-error:0.2604\u001b[0m\n",
      "\u001b[34m[03:45:30] src/tree/updater_prune.cc:74: tree pruning end, 1 roots, 36 extra nodes, 10 pruned nodes, max_depth=5\u001b[0m\n",
      "\u001b[34m[7]#011train-error:0.247133#011validation-error:0.2591\u001b[0m\n",
      "\u001b[34m[03:45:31] src/tree/updater_prune.cc:74: tree pruning end, 1 roots, 34 extra nodes, 8 pruned nodes, max_depth=5\u001b[0m\n",
      "\u001b[34m[8]#011train-error:0.244#011validation-error:0.2553\u001b[0m\n",
      "\u001b[34m[03:45:33] src/tree/updater_prune.cc:74: tree pruning end, 1 roots, 36 extra nodes, 8 pruned nodes, max_depth=5\u001b[0m\n",
      "\u001b[34m[9]#011train-error:0.246533#011validation-error:0.2546\u001b[0m\n",
      "\u001b[34m[03:45:34] src/tree/updater_prune.cc:74: tree pruning end, 1 roots, 40 extra nodes, 2 pruned nodes, max_depth=5\u001b[0m\n",
      "\u001b[34m[10]#011train-error:0.237867#011validation-error:0.2458\u001b[0m\n",
      "\u001b[34m[03:45:35] src/tree/updater_prune.cc:74: tree pruning end, 1 roots, 34 extra nodes, 12 pruned nodes, max_depth=5\u001b[0m\n",
      "\u001b[34m[11]#011train-error:0.233533#011validation-error:0.2432\u001b[0m\n",
      "\u001b[34m[03:45:36] src/tree/updater_prune.cc:74: tree pruning end, 1 roots, 36 extra nodes, 8 pruned nodes, max_depth=5\u001b[0m\n",
      "\u001b[34m[12]#011train-error:0.2294#011validation-error:0.2401\u001b[0m\n",
      "\u001b[34m[03:45:38] src/tree/updater_prune.cc:74: tree pruning end, 1 roots, 42 extra nodes, 8 pruned nodes, max_depth=5\u001b[0m\n",
      "\u001b[34m[13]#011train-error:0.223133#011validation-error:0.2353\u001b[0m\n",
      "\u001b[34m[03:45:39] src/tree/updater_prune.cc:74: tree pruning end, 1 roots, 34 extra nodes, 6 pruned nodes, max_depth=5\u001b[0m\n",
      "\u001b[34m[14]#011train-error:0.2192#011validation-error:0.2321\u001b[0m\n",
      "\u001b[34m[03:45:40] src/tree/updater_prune.cc:74: tree pruning end, 1 roots, 36 extra nodes, 8 pruned nodes, max_depth=5\u001b[0m\n",
      "\u001b[34m[15]#011train-error:0.213933#011validation-error:0.2255\u001b[0m\n",
      "\u001b[34m[03:45:42] src/tree/updater_prune.cc:74: tree pruning end, 1 roots, 30 extra nodes, 4 pruned nodes, max_depth=5\u001b[0m\n",
      "\u001b[34m[16]#011train-error:0.212267#011validation-error:0.222\u001b[0m\n",
      "\u001b[34m[03:45:43] src/tree/updater_prune.cc:74: tree pruning end, 1 roots, 34 extra nodes, 6 pruned nodes, max_depth=5\u001b[0m\n",
      "\u001b[34m[17]#011train-error:0.211#011validation-error:0.2224\u001b[0m\n",
      "\u001b[34m[03:45:44] src/tree/updater_prune.cc:74: tree pruning end, 1 roots, 30 extra nodes, 6 pruned nodes, max_depth=5\u001b[0m\n",
      "\u001b[34m[18]#011train-error:0.209067#011validation-error:0.2196\u001b[0m\n",
      "\u001b[34m[03:45:45] src/tree/updater_prune.cc:74: tree pruning end, 1 roots, 30 extra nodes, 8 pruned nodes, max_depth=5\u001b[0m\n",
      "\u001b[34m[19]#011train-error:0.207267#011validation-error:0.2176\u001b[0m\n",
      "\u001b[34m[03:45:47] src/tree/updater_prune.cc:74: tree pruning end, 1 roots, 40 extra nodes, 8 pruned nodes, max_depth=5\u001b[0m\n",
      "\u001b[34m[20]#011train-error:0.204#011validation-error:0.2164\u001b[0m\n",
      "\u001b[34m[03:45:48] src/tree/updater_prune.cc:74: tree pruning end, 1 roots, 24 extra nodes, 8 pruned nodes, max_depth=5\u001b[0m\n",
      "\u001b[34m[21]#011train-error:0.200933#011validation-error:0.2134\u001b[0m\n",
      "\u001b[34m[03:45:49] src/tree/updater_prune.cc:74: tree pruning end, 1 roots, 32 extra nodes, 12 pruned nodes, max_depth=5\u001b[0m\n",
      "\u001b[34m[22]#011train-error:0.199333#011validation-error:0.2123\u001b[0m\n",
      "\u001b[34m[03:45:50] src/tree/updater_prune.cc:74: tree pruning end, 1 roots, 26 extra nodes, 8 pruned nodes, max_depth=5\u001b[0m\n",
      "\u001b[34m[23]#011train-error:0.1958#011validation-error:0.2108\u001b[0m\n",
      "\u001b[34m[03:45:52] src/tree/updater_prune.cc:74: tree pruning end, 1 roots, 34 extra nodes, 6 pruned nodes, max_depth=5\u001b[0m\n",
      "\u001b[34m[24]#011train-error:0.193533#011validation-error:0.2071\u001b[0m\n",
      "\u001b[34m[03:45:53] src/tree/updater_prune.cc:74: tree pruning end, 1 roots, 28 extra nodes, 8 pruned nodes, max_depth=5\u001b[0m\n",
      "\u001b[34m[25]#011train-error:0.1904#011validation-error:0.204\u001b[0m\n",
      "\u001b[34m[03:45:54] src/tree/updater_prune.cc:74: tree pruning end, 1 roots, 24 extra nodes, 8 pruned nodes, max_depth=5\u001b[0m\n",
      "\u001b[34m[26]#011train-error:0.189#011validation-error:0.2035\u001b[0m\n",
      "\u001b[34m[03:45:56] src/tree/updater_prune.cc:74: tree pruning end, 1 roots, 18 extra nodes, 12 pruned nodes, max_depth=5\u001b[0m\n",
      "\u001b[34m[27]#011train-error:0.187933#011validation-error:0.2007\u001b[0m\n",
      "\u001b[34m[03:45:57] src/tree/updater_prune.cc:74: tree pruning end, 1 roots, 42 extra nodes, 4 pruned nodes, max_depth=5\u001b[0m\n",
      "\u001b[34m[28]#011train-error:0.185267#011validation-error:0.1969\u001b[0m\n",
      "\u001b[34m[03:45:58] src/tree/updater_prune.cc:74: tree pruning end, 1 roots, 22 extra nodes, 10 pruned nodes, max_depth=5\u001b[0m\n",
      "\u001b[34m[29]#011train-error:0.183733#011validation-error:0.1971\u001b[0m\n",
      "\u001b[34m[03:45:59] src/tree/updater_prune.cc:74: tree pruning end, 1 roots, 30 extra nodes, 8 pruned nodes, max_depth=5\u001b[0m\n",
      "\u001b[34m[30]#011train-error:0.183533#011validation-error:0.1968\u001b[0m\n",
      "\u001b[34m[03:46:01] src/tree/updater_prune.cc:74: tree pruning end, 1 roots, 36 extra nodes, 2 pruned nodes, max_depth=5\u001b[0m\n",
      "\u001b[34m[31]#011train-error:0.181667#011validation-error:0.1953\u001b[0m\n",
      "\u001b[34m[03:46:02] src/tree/updater_prune.cc:74: tree pruning end, 1 roots, 28 extra nodes, 2 pruned nodes, max_depth=5\u001b[0m\n",
      "\u001b[34m[32]#011train-error:0.179867#011validation-error:0.1938\u001b[0m\n",
      "\u001b[34m[03:46:03] src/tree/updater_prune.cc:74: tree pruning end, 1 roots, 28 extra nodes, 6 pruned nodes, max_depth=5\u001b[0m\n",
      "\u001b[34m[33]#011train-error:0.177667#011validation-error:0.194\u001b[0m\n",
      "\u001b[34m[03:46:04] src/tree/updater_prune.cc:74: tree pruning end, 1 roots, 32 extra nodes, 2 pruned nodes, max_depth=5\u001b[0m\n",
      "\u001b[34m[34]#011train-error:0.176067#011validation-error:0.192\u001b[0m\n",
      "\u001b[34m[03:46:06] src/tree/updater_prune.cc:74: tree pruning end, 1 roots, 38 extra nodes, 6 pruned nodes, max_depth=5\u001b[0m\n",
      "\u001b[34m[35]#011train-error:0.175067#011validation-error:0.1928\u001b[0m\n",
      "\u001b[34m[03:46:07] src/tree/updater_prune.cc:74: tree pruning end, 1 roots, 26 extra nodes, 6 pruned nodes, max_depth=5\u001b[0m\n",
      "\u001b[34m[36]#011train-error:0.1736#011validation-error:0.1918\u001b[0m\n",
      "\u001b[34m[03:46:08] src/tree/updater_prune.cc:74: tree pruning end, 1 roots, 20 extra nodes, 12 pruned nodes, max_depth=5\u001b[0m\n",
      "\u001b[34m[37]#011train-error:0.1726#011validation-error:0.1901\u001b[0m\n",
      "\u001b[34m[03:46:10] src/tree/updater_prune.cc:74: tree pruning end, 1 roots, 20 extra nodes, 10 pruned nodes, max_depth=5\u001b[0m\n",
      "\u001b[34m[38]#011train-error:0.1706#011validation-error:0.1908\u001b[0m\n",
      "\u001b[34m[03:46:11] src/tree/updater_prune.cc:74: tree pruning end, 1 roots, 18 extra nodes, 8 pruned nodes, max_depth=5\u001b[0m\n",
      "\u001b[34m[39]#011train-error:0.1702#011validation-error:0.1897\u001b[0m\n"
     ]
    },
    {
     "name": "stdout",
     "output_type": "stream",
     "text": [
      "\u001b[34m[03:46:12] src/tree/updater_prune.cc:74: tree pruning end, 1 roots, 38 extra nodes, 4 pruned nodes, max_depth=5\u001b[0m\n",
      "\u001b[34m[40]#011train-error:0.168933#011validation-error:0.1892\u001b[0m\n",
      "\u001b[34m[03:46:13] src/tree/updater_prune.cc:74: tree pruning end, 1 roots, 30 extra nodes, 16 pruned nodes, max_depth=5\u001b[0m\n",
      "\u001b[34m[41]#011train-error:0.1668#011validation-error:0.1879\u001b[0m\n",
      "\u001b[34m[03:46:15] src/tree/updater_prune.cc:74: tree pruning end, 1 roots, 14 extra nodes, 8 pruned nodes, max_depth=5\u001b[0m\n",
      "\u001b[34m[42]#011train-error:0.1666#011validation-error:0.188\u001b[0m\n",
      "\u001b[34m[03:46:16] src/tree/updater_prune.cc:74: tree pruning end, 1 roots, 34 extra nodes, 4 pruned nodes, max_depth=5\u001b[0m\n",
      "\u001b[34m[43]#011train-error:0.164667#011validation-error:0.1879\u001b[0m\n",
      "\u001b[34m[03:46:17] src/tree/updater_prune.cc:74: tree pruning end, 1 roots, 18 extra nodes, 2 pruned nodes, max_depth=5\u001b[0m\n",
      "\u001b[34m[44]#011train-error:0.163867#011validation-error:0.1872\u001b[0m\n",
      "\u001b[34m[03:46:19] src/tree/updater_prune.cc:74: tree pruning end, 1 roots, 18 extra nodes, 8 pruned nodes, max_depth=5\u001b[0m\n",
      "\u001b[34m[45]#011train-error:0.162533#011validation-error:0.1867\u001b[0m\n",
      "\u001b[34m[03:46:20] src/tree/updater_prune.cc:74: tree pruning end, 1 roots, 24 extra nodes, 6 pruned nodes, max_depth=5\u001b[0m\n",
      "\u001b[34m[46]#011train-error:0.161#011validation-error:0.1863\u001b[0m\n",
      "\u001b[34m[03:46:21] src/tree/updater_prune.cc:74: tree pruning end, 1 roots, 30 extra nodes, 10 pruned nodes, max_depth=5\u001b[0m\n",
      "\u001b[34m[47]#011train-error:0.1598#011validation-error:0.1862\u001b[0m\n",
      "\u001b[34m[03:46:22] src/tree/updater_prune.cc:74: tree pruning end, 1 roots, 22 extra nodes, 14 pruned nodes, max_depth=5\u001b[0m\n",
      "\u001b[34m[48]#011train-error:0.158933#011validation-error:0.185\u001b[0m\n",
      "\u001b[34m[03:46:24] src/tree/updater_prune.cc:74: tree pruning end, 1 roots, 24 extra nodes, 6 pruned nodes, max_depth=5\u001b[0m\n",
      "\u001b[34m[49]#011train-error:0.156667#011validation-error:0.183\u001b[0m\n",
      "\u001b[34m[03:46:25] src/tree/updater_prune.cc:74: tree pruning end, 1 roots, 20 extra nodes, 16 pruned nodes, max_depth=5\u001b[0m\n",
      "\u001b[34m[50]#011train-error:0.154733#011validation-error:0.1822\u001b[0m\n",
      "\u001b[34m[03:46:26] src/tree/updater_prune.cc:74: tree pruning end, 1 roots, 26 extra nodes, 12 pruned nodes, max_depth=5\u001b[0m\n",
      "\u001b[34m[51]#011train-error:0.1548#011validation-error:0.1825\u001b[0m\n",
      "\u001b[34m[03:46:27] src/tree/updater_prune.cc:74: tree pruning end, 1 roots, 14 extra nodes, 2 pruned nodes, max_depth=5\u001b[0m\n",
      "\u001b[34m[52]#011train-error:0.153933#011validation-error:0.1821\u001b[0m\n",
      "\u001b[34m[03:46:29] src/tree/updater_prune.cc:74: tree pruning end, 1 roots, 14 extra nodes, 4 pruned nodes, max_depth=5\u001b[0m\n",
      "\u001b[34m[53]#011train-error:0.153733#011validation-error:0.1825\u001b[0m\n",
      "\u001b[34m[03:46:30] src/tree/updater_prune.cc:74: tree pruning end, 1 roots, 24 extra nodes, 6 pruned nodes, max_depth=5\u001b[0m\n",
      "\u001b[34m[54]#011train-error:0.152333#011validation-error:0.1815\u001b[0m\n",
      "\u001b[34m[03:46:31] src/tree/updater_prune.cc:74: tree pruning end, 1 roots, 16 extra nodes, 2 pruned nodes, max_depth=5\u001b[0m\n",
      "\u001b[34m[55]#011train-error:0.152533#011validation-error:0.1821\u001b[0m\n",
      "\u001b[34m[03:46:32] src/tree/updater_prune.cc:74: tree pruning end, 1 roots, 26 extra nodes, 2 pruned nodes, max_depth=5\u001b[0m\n",
      "\u001b[34m[56]#011train-error:0.151267#011validation-error:0.1824\u001b[0m\n",
      "\u001b[34m[03:46:34] src/tree/updater_prune.cc:74: tree pruning end, 1 roots, 18 extra nodes, 12 pruned nodes, max_depth=5\u001b[0m\n",
      "\u001b[34m[57]#011train-error:0.1498#011validation-error:0.1809\u001b[0m\n",
      "\u001b[34m[03:46:35] src/tree/updater_prune.cc:74: tree pruning end, 1 roots, 18 extra nodes, 4 pruned nodes, max_depth=5\u001b[0m\n",
      "\u001b[34m[58]#011train-error:0.149667#011validation-error:0.1813\u001b[0m\n",
      "\u001b[34m[03:46:36] src/tree/updater_prune.cc:74: tree pruning end, 1 roots, 34 extra nodes, 6 pruned nodes, max_depth=5\u001b[0m\n",
      "\u001b[34m[59]#011train-error:0.148867#011validation-error:0.1799\u001b[0m\n",
      "\u001b[34m[03:46:38] src/tree/updater_prune.cc:74: tree pruning end, 1 roots, 18 extra nodes, 4 pruned nodes, max_depth=5\u001b[0m\n",
      "\u001b[34m[60]#011train-error:0.1474#011validation-error:0.1797\u001b[0m\n",
      "\u001b[34m[03:46:39] src/tree/updater_prune.cc:74: tree pruning end, 1 roots, 14 extra nodes, 10 pruned nodes, max_depth=5\u001b[0m\n",
      "\u001b[34m[61]#011train-error:0.147333#011validation-error:0.1795\u001b[0m\n",
      "\u001b[34m[03:46:40] src/tree/updater_prune.cc:74: tree pruning end, 1 roots, 16 extra nodes, 2 pruned nodes, max_depth=5\u001b[0m\n",
      "\u001b[34m[62]#011train-error:0.147667#011validation-error:0.1789\u001b[0m\n",
      "\u001b[34m[03:46:41] src/tree/updater_prune.cc:74: tree pruning end, 1 roots, 16 extra nodes, 4 pruned nodes, max_depth=5\u001b[0m\n",
      "\u001b[34m[63]#011train-error:0.148#011validation-error:0.178\u001b[0m\n",
      "\u001b[34m[03:46:43] src/tree/updater_prune.cc:74: tree pruning end, 1 roots, 34 extra nodes, 10 pruned nodes, max_depth=5\u001b[0m\n",
      "\u001b[34m[64]#011train-error:0.147267#011validation-error:0.1782\u001b[0m\n",
      "\u001b[34m[03:46:44] src/tree/updater_prune.cc:74: tree pruning end, 1 roots, 24 extra nodes, 16 pruned nodes, max_depth=5\u001b[0m\n",
      "\u001b[34m[65]#011train-error:0.1454#011validation-error:0.1772\u001b[0m\n",
      "\u001b[34m[03:46:45] src/tree/updater_prune.cc:74: tree pruning end, 1 roots, 16 extra nodes, 8 pruned nodes, max_depth=5\u001b[0m\n",
      "\u001b[34m[66]#011train-error:0.144733#011validation-error:0.1777\u001b[0m\n",
      "\u001b[34m[03:46:47] src/tree/updater_prune.cc:74: tree pruning end, 1 roots, 20 extra nodes, 8 pruned nodes, max_depth=5\u001b[0m\n",
      "\u001b[34m[67]#011train-error:0.1436#011validation-error:0.1781\u001b[0m\n",
      "\u001b[34m[03:46:48] src/tree/updater_prune.cc:74: tree pruning end, 1 roots, 24 extra nodes, 10 pruned nodes, max_depth=5\u001b[0m\n",
      "\u001b[34m[68]#011train-error:0.142533#011validation-error:0.178\u001b[0m\n",
      "\u001b[34m[03:46:49] src/tree/updater_prune.cc:74: tree pruning end, 1 roots, 16 extra nodes, 4 pruned nodes, max_depth=5\u001b[0m\n",
      "\u001b[34m[69]#011train-error:0.1418#011validation-error:0.1776\u001b[0m\n",
      "\u001b[34m[03:46:50] src/tree/updater_prune.cc:74: tree pruning end, 1 roots, 12 extra nodes, 12 pruned nodes, max_depth=5\u001b[0m\n",
      "\u001b[34m[70]#011train-error:0.142#011validation-error:0.1779\u001b[0m\n",
      "\u001b[34m[03:46:52] src/tree/updater_prune.cc:74: tree pruning end, 1 roots, 14 extra nodes, 12 pruned nodes, max_depth=5\u001b[0m\n",
      "\u001b[34m[71]#011train-error:0.140267#011validation-error:0.1776\u001b[0m\n",
      "\u001b[34m[03:46:53] src/tree/updater_prune.cc:74: tree pruning end, 1 roots, 18 extra nodes, 6 pruned nodes, max_depth=5\u001b[0m\n",
      "\u001b[34m[72]#011train-error:0.140133#011validation-error:0.1777\u001b[0m\n",
      "\u001b[34m[03:46:54] src/tree/updater_prune.cc:74: tree pruning end, 1 roots, 18 extra nodes, 0 pruned nodes, max_depth=5\u001b[0m\n",
      "\u001b[34m[73]#011train-error:0.138133#011validation-error:0.1776\u001b[0m\n",
      "\u001b[34m[03:46:56] src/tree/updater_prune.cc:74: tree pruning end, 1 roots, 26 extra nodes, 10 pruned nodes, max_depth=5\u001b[0m\n",
      "\u001b[34m[74]#011train-error:0.1384#011validation-error:0.1771\u001b[0m\n",
      "\u001b[34m[03:46:57] src/tree/updater_prune.cc:74: tree pruning end, 1 roots, 22 extra nodes, 14 pruned nodes, max_depth=5\u001b[0m\n",
      "\u001b[34m[75]#011train-error:0.137733#011validation-error:0.1763\u001b[0m\n",
      "\u001b[34m[03:46:58] src/tree/updater_prune.cc:74: tree pruning end, 1 roots, 20 extra nodes, 4 pruned nodes, max_depth=5\u001b[0m\n",
      "\u001b[34m[76]#011train-error:0.1374#011validation-error:0.1764\u001b[0m\n",
      "\u001b[34m[03:46:59] src/tree/updater_prune.cc:74: tree pruning end, 1 roots, 24 extra nodes, 10 pruned nodes, max_depth=5\u001b[0m\n",
      "\u001b[34m[77]#011train-error:0.137067#011validation-error:0.1751\u001b[0m\n",
      "\u001b[34m[03:47:01] src/tree/updater_prune.cc:74: tree pruning end, 1 roots, 30 extra nodes, 6 pruned nodes, max_depth=5\u001b[0m\n",
      "\u001b[34m[78]#011train-error:0.136733#011validation-error:0.1748\u001b[0m\n",
      "\u001b[34m[03:47:02] src/tree/updater_prune.cc:74: tree pruning end, 1 roots, 10 extra nodes, 2 pruned nodes, max_depth=5\u001b[0m\n",
      "\u001b[34m[79]#011train-error:0.136333#011validation-error:0.1742\u001b[0m\n",
      "\u001b[34m[03:47:03] src/tree/updater_prune.cc:74: tree pruning end, 1 roots, 20 extra nodes, 10 pruned nodes, max_depth=5\u001b[0m\n",
      "\u001b[34m[80]#011train-error:0.136#011validation-error:0.1737\u001b[0m\n",
      "\u001b[34m[03:47:04] src/tree/updater_prune.cc:74: tree pruning end, 1 roots, 18 extra nodes, 10 pruned nodes, max_depth=5\u001b[0m\n",
      "\u001b[34m[81]#011train-error:0.1346#011validation-error:0.1736\u001b[0m\n",
      "\u001b[34m[03:47:06] src/tree/updater_prune.cc:74: tree pruning end, 1 roots, 18 extra nodes, 6 pruned nodes, max_depth=5\u001b[0m\n",
      "\u001b[34m[82]#011train-error:0.1344#011validation-error:0.1737\u001b[0m\n",
      "\u001b[34m[03:47:07] src/tree/updater_prune.cc:74: tree pruning end, 1 roots, 14 extra nodes, 14 pruned nodes, max_depth=5\u001b[0m\n",
      "\u001b[34m[83]#011train-error:0.134133#011validation-error:0.1742\u001b[0m\n",
      "\u001b[34m[03:47:08] src/tree/updater_prune.cc:74: tree pruning end, 1 roots, 20 extra nodes, 4 pruned nodes, max_depth=5\u001b[0m\n",
      "\u001b[34m[84]#011train-error:0.1334#011validation-error:0.1737\u001b[0m\n",
      "\u001b[34m[03:47:09] src/tree/updater_prune.cc:74: tree pruning end, 1 roots, 18 extra nodes, 4 pruned nodes, max_depth=5\u001b[0m\n",
      "\u001b[34m[85]#011train-error:0.1332#011validation-error:0.1738\u001b[0m\n",
      "\u001b[34m[03:47:11] src/tree/updater_prune.cc:74: tree pruning end, 1 roots, 12 extra nodes, 12 pruned nodes, max_depth=5\u001b[0m\n",
      "\u001b[34m[86]#011train-error:0.133#011validation-error:0.1735\u001b[0m\n",
      "\u001b[34m[03:47:12] src/tree/updater_prune.cc:74: tree pruning end, 1 roots, 22 extra nodes, 6 pruned nodes, max_depth=5\u001b[0m\n",
      "\u001b[34m[87]#011train-error:0.1328#011validation-error:0.1739\u001b[0m\n"
     ]
    },
    {
     "name": "stdout",
     "output_type": "stream",
     "text": [
      "\u001b[34m[03:47:13] src/tree/updater_prune.cc:74: tree pruning end, 1 roots, 14 extra nodes, 4 pruned nodes, max_depth=5\u001b[0m\n",
      "\u001b[34m[88]#011train-error:0.1324#011validation-error:0.1737\u001b[0m\n",
      "\u001b[34m[03:47:15] src/tree/updater_prune.cc:74: tree pruning end, 1 roots, 16 extra nodes, 14 pruned nodes, max_depth=5\u001b[0m\n",
      "\u001b[34m[89]#011train-error:0.131933#011validation-error:0.1743\u001b[0m\n",
      "\u001b[34m[03:47:16] src/tree/updater_prune.cc:74: tree pruning end, 1 roots, 16 extra nodes, 16 pruned nodes, max_depth=5\u001b[0m\n",
      "\u001b[34m[90]#011train-error:0.131#011validation-error:0.1753\u001b[0m\n",
      "\u001b[34m[03:47:17] src/tree/updater_prune.cc:74: tree pruning end, 1 roots, 14 extra nodes, 8 pruned nodes, max_depth=5\u001b[0m\n",
      "\u001b[34m[91]#011train-error:0.130867#011validation-error:0.1745\u001b[0m\n",
      "\u001b[34m[03:47:18] src/tree/updater_prune.cc:74: tree pruning end, 1 roots, 22 extra nodes, 10 pruned nodes, max_depth=5\u001b[0m\n",
      "\u001b[34m[92]#011train-error:0.130667#011validation-error:0.1743\u001b[0m\n",
      "\u001b[34m[03:47:20] src/tree/updater_prune.cc:74: tree pruning end, 1 roots, 20 extra nodes, 8 pruned nodes, max_depth=5\u001b[0m\n",
      "\u001b[34m[93]#011train-error:0.130533#011validation-error:0.1752\u001b[0m\n",
      "\u001b[34m[03:47:21] src/tree/updater_prune.cc:74: tree pruning end, 1 roots, 12 extra nodes, 20 pruned nodes, max_depth=5\u001b[0m\n",
      "\u001b[34m[94]#011train-error:0.13#011validation-error:0.1748\u001b[0m\n",
      "\u001b[34m[03:47:22] src/tree/updater_prune.cc:74: tree pruning end, 1 roots, 16 extra nodes, 8 pruned nodes, max_depth=5\u001b[0m\n",
      "\u001b[34m[95]#011train-error:0.129267#011validation-error:0.1744\u001b[0m\n",
      "\u001b[34m[03:47:23] src/tree/updater_prune.cc:74: tree pruning end, 1 roots, 16 extra nodes, 12 pruned nodes, max_depth=5\u001b[0m\n",
      "\u001b[34m[96]#011train-error:0.128933#011validation-error:0.1738\u001b[0m\n",
      "\u001b[34mStopping. Best iteration:\u001b[0m\n",
      "\u001b[34m[86]#011train-error:0.133#011validation-error:0.1735\n",
      "\u001b[0m\n",
      "\n",
      "2020-11-01 03:47:33 Uploading - Uploading generated training model\n",
      "2020-11-01 03:47:33 Completed - Training job completed\n",
      "Training seconds: 174\n",
      "Billable seconds: 174\n"
     ]
    }
   ],
   "source": [
    "# TODO: Using the new validation and training data, 'fit' your new model.\n",
    "new_xgb.fit({'train': s3_new_input_train, 'validation': s3_new_input_validation})"
   ]
  },
  {
   "cell_type": "markdown",
   "metadata": {},
   "source": [
    "### (TODO) Check the new model\n",
    "\n",
    "So now we have a new XGBoost model that we believe more accurately represents the state of the world at this time, at least in how it relates to the sentiment analysis problem that we are working on. The next step is to double check that our model is performing reasonably.\n",
    "\n",
    "To do this, we will first test our model on the new data.\n",
    "\n",
    "**Note:** In practice this is a pretty bad idea. We already trained our model on the new data, so testing it shouldn't really tell us much. In fact, this is sort of a textbook example of leakage. We are only doing it here so that we have a numerical baseline.\n",
    "\n",
    "**Question:** How might you address the leakage problem?"
   ]
  },
  {
   "cell_type": "markdown",
   "metadata": {},
   "source": [
    "First, we create a new transformer based on our new XGBoost model.\n",
    "\n",
    "**TODO:** Create a transformer object from the newly created XGBoost model."
   ]
  },
  {
   "cell_type": "code",
   "execution_count": 87,
   "metadata": {},
   "outputs": [
    {
     "name": "stderr",
     "output_type": "stream",
     "text": [
      "Parameter image will be renamed to image_uri in SageMaker Python SDK v2.\n"
     ]
    }
   ],
   "source": [
    "# TODO: Create a transformer object from the new_xgb model\n",
    "new_xgb_transformer = new_xgb.transformer(instance_count = 1, instance_type = 'ml.m4.xlarge')"
   ]
  },
  {
   "cell_type": "markdown",
   "metadata": {},
   "source": [
    "Next we test our model on the new data.\n",
    "\n",
    "**TODO:** Use the transformer object to transform the new data (stored in the `new_data_location` variable)"
   ]
  },
  {
   "cell_type": "code",
   "execution_count": 93,
   "metadata": {},
   "outputs": [
    {
     "name": "stdout",
     "output_type": "stream",
     "text": [
      "...............................\u001b[32m2020-11-01T04:09:26.202:[sagemaker logs]: MaxConcurrentTransforms=4, MaxPayloadInMB=6, BatchStrategy=MULTI_RECORD\u001b[0m\n",
      "\u001b[34mArguments: serve\u001b[0m\n",
      "\u001b[34m[2020-11-01 04:09:26 +0000] [1] [INFO] Starting gunicorn 19.7.1\u001b[0m\n",
      "\u001b[34m[2020-11-01 04:09:26 +0000] [1] [INFO] Listening at: http://0.0.0.0:8080 (1)\u001b[0m\n",
      "\u001b[34m[2020-11-01 04:09:26 +0000] [1] [INFO] Using worker: gevent\u001b[0m\n",
      "\u001b[34m[2020-11-01 04:09:26 +0000] [37] [INFO] Booting worker with pid: 37\u001b[0m\n",
      "\u001b[34m[2020-11-01 04:09:26 +0000] [38] [INFO] Booting worker with pid: 38\u001b[0m\n",
      "\u001b[34m[2020-11-01 04:09:26 +0000] [39] [INFO] Booting worker with pid: 39\u001b[0m\n",
      "\u001b[34m[2020-11-01 04:09:26 +0000] [40] [INFO] Booting worker with pid: 40\u001b[0m\n",
      "\u001b[34m[2020-11-01:04:09:26:INFO] Model loaded successfully for worker : 37\u001b[0m\n",
      "\u001b[34m[2020-11-01:04:09:26:INFO] Model loaded successfully for worker : 38\u001b[0m\n",
      "\u001b[34m[2020-11-01:04:09:26:INFO] Model loaded successfully for worker : 39\u001b[0m\n",
      "\u001b[34m[2020-11-01:04:09:26:INFO] Model loaded successfully for worker : 40\u001b[0m\n",
      "\u001b[35mArguments: serve\u001b[0m\n",
      "\u001b[35m[2020-11-01 04:09:26 +0000] [1] [INFO] Starting gunicorn 19.7.1\u001b[0m\n",
      "\u001b[35m[2020-11-01 04:09:26 +0000] [1] [INFO] Listening at: http://0.0.0.0:8080 (1)\u001b[0m\n",
      "\u001b[35m[2020-11-01 04:09:26 +0000] [1] [INFO] Using worker: gevent\u001b[0m\n",
      "\u001b[35m[2020-11-01 04:09:26 +0000] [37] [INFO] Booting worker with pid: 37\u001b[0m\n",
      "\u001b[35m[2020-11-01 04:09:26 +0000] [38] [INFO] Booting worker with pid: 38\u001b[0m\n",
      "\u001b[35m[2020-11-01 04:09:26 +0000] [39] [INFO] Booting worker with pid: 39\u001b[0m\n",
      "\u001b[35m[2020-11-01 04:09:26 +0000] [40] [INFO] Booting worker with pid: 40\u001b[0m\n",
      "\u001b[35m[2020-11-01:04:09:26:INFO] Model loaded successfully for worker : 37\u001b[0m\n",
      "\u001b[35m[2020-11-01:04:09:26:INFO] Model loaded successfully for worker : 38\u001b[0m\n",
      "\u001b[35m[2020-11-01:04:09:26:INFO] Model loaded successfully for worker : 39\u001b[0m\n",
      "\u001b[35m[2020-11-01:04:09:26:INFO] Model loaded successfully for worker : 40\u001b[0m\n",
      "\u001b[34m[2020-11-01:04:09:26:INFO] Sniff delimiter as ','\u001b[0m\n",
      "\u001b[34m[2020-11-01:04:09:26:INFO] Determined delimiter of CSV input is ','\u001b[0m\n",
      "\u001b[34m[2020-11-01:04:09:26:INFO] Sniff delimiter as ','\u001b[0m\n",
      "\u001b[34m[2020-11-01:04:09:26:INFO] Determined delimiter of CSV input is ','\u001b[0m\n",
      "\u001b[34m[2020-11-01:04:09:26:INFO] Sniff delimiter as ','\u001b[0m\n",
      "\u001b[34m[2020-11-01:04:09:26:INFO] Determined delimiter of CSV input is ','\u001b[0m\n",
      "\u001b[34m[2020-11-01:04:09:27:INFO] Sniff delimiter as ','\u001b[0m\n",
      "\u001b[34m[2020-11-01:04:09:27:INFO] Determined delimiter of CSV input is ','\u001b[0m\n",
      "\u001b[34m[2020-11-01:04:09:29:INFO] Sniff delimiter as ','\u001b[0m\n",
      "\u001b[34m[2020-11-01:04:09:29:INFO] Determined delimiter of CSV input is ','\u001b[0m\n",
      "\u001b[34m[2020-11-01:04:09:29:INFO] Sniff delimiter as ','\u001b[0m\n",
      "\u001b[34m[2020-11-01:04:09:29:INFO] Determined delimiter of CSV input is ','\u001b[0m\n",
      "\u001b[34m[2020-11-01:04:09:29:INFO] Sniff delimiter as ','\u001b[0m\n",
      "\u001b[34m[2020-11-01:04:09:29:INFO] Determined delimiter of CSV input is ','\u001b[0m\n",
      "\u001b[35m[2020-11-01:04:09:26:INFO] Sniff delimiter as ','\u001b[0m\n",
      "\u001b[35m[2020-11-01:04:09:26:INFO] Determined delimiter of CSV input is ','\u001b[0m\n",
      "\u001b[35m[2020-11-01:04:09:26:INFO] Sniff delimiter as ','\u001b[0m\n",
      "\u001b[35m[2020-11-01:04:09:26:INFO] Determined delimiter of CSV input is ','\u001b[0m\n",
      "\u001b[35m[2020-11-01:04:09:26:INFO] Sniff delimiter as ','\u001b[0m\n",
      "\u001b[35m[2020-11-01:04:09:26:INFO] Determined delimiter of CSV input is ','\u001b[0m\n",
      "\u001b[35m[2020-11-01:04:09:27:INFO] Sniff delimiter as ','\u001b[0m\n",
      "\u001b[35m[2020-11-01:04:09:27:INFO] Determined delimiter of CSV input is ','\u001b[0m\n",
      "\u001b[35m[2020-11-01:04:09:29:INFO] Sniff delimiter as ','\u001b[0m\n",
      "\u001b[35m[2020-11-01:04:09:29:INFO] Determined delimiter of CSV input is ','\u001b[0m\n",
      "\u001b[35m[2020-11-01:04:09:29:INFO] Sniff delimiter as ','\u001b[0m\n",
      "\u001b[35m[2020-11-01:04:09:29:INFO] Determined delimiter of CSV input is ','\u001b[0m\n",
      "\u001b[35m[2020-11-01:04:09:29:INFO] Sniff delimiter as ','\u001b[0m\n",
      "\u001b[35m[2020-11-01:04:09:29:INFO] Determined delimiter of CSV input is ','\u001b[0m\n",
      "\u001b[34m[2020-11-01:04:09:29:INFO] Sniff delimiter as ','\u001b[0m\n",
      "\u001b[35m[2020-11-01:04:09:29:INFO] Sniff delimiter as ','\u001b[0m\n",
      "\u001b[34m[2020-11-01:04:09:29:INFO] Determined delimiter of CSV input is ','\u001b[0m\n",
      "\u001b[35m[2020-11-01:04:09:29:INFO] Determined delimiter of CSV input is ','\u001b[0m\n",
      "\u001b[34m[2020-11-01:04:09:31:INFO] Sniff delimiter as ','\u001b[0m\n",
      "\u001b[34m[2020-11-01:04:09:31:INFO] Determined delimiter of CSV input is ','\u001b[0m\n",
      "\u001b[34m[2020-11-01:04:09:31:INFO] Sniff delimiter as ','\u001b[0m\n",
      "\u001b[34m[2020-11-01:04:09:31:INFO] Determined delimiter of CSV input is ','\u001b[0m\n",
      "\u001b[35m[2020-11-01:04:09:31:INFO] Sniff delimiter as ','\u001b[0m\n",
      "\u001b[35m[2020-11-01:04:09:31:INFO] Determined delimiter of CSV input is ','\u001b[0m\n",
      "\u001b[35m[2020-11-01:04:09:31:INFO] Sniff delimiter as ','\u001b[0m\n",
      "\u001b[35m[2020-11-01:04:09:31:INFO] Determined delimiter of CSV input is ','\u001b[0m\n",
      "\u001b[34m[2020-11-01:04:09:31:INFO] Sniff delimiter as ','\u001b[0m\n",
      "\u001b[34m[2020-11-01:04:09:31:INFO] Determined delimiter of CSV input is ','\u001b[0m\n",
      "\u001b[34m[2020-11-01:04:09:32:INFO] Sniff delimiter as ','\u001b[0m\n",
      "\u001b[34m[2020-11-01:04:09:32:INFO] Determined delimiter of CSV input is ','\u001b[0m\n",
      "\u001b[35m[2020-11-01:04:09:31:INFO] Sniff delimiter as ','\u001b[0m\n",
      "\u001b[35m[2020-11-01:04:09:31:INFO] Determined delimiter of CSV input is ','\u001b[0m\n",
      "\u001b[35m[2020-11-01:04:09:32:INFO] Sniff delimiter as ','\u001b[0m\n",
      "\u001b[35m[2020-11-01:04:09:32:INFO] Determined delimiter of CSV input is ','\u001b[0m\n",
      "\u001b[34m[2020-11-01:04:09:34:INFO] Sniff delimiter as ','\u001b[0m\n",
      "\u001b[34m[2020-11-01:04:09:34:INFO] Determined delimiter of CSV input is ','\u001b[0m\n",
      "\u001b[34m[2020-11-01:04:09:34:INFO] Sniff delimiter as ','\u001b[0m\n",
      "\u001b[34m[2020-11-01:04:09:34:INFO] Determined delimiter of CSV input is ','\u001b[0m\n",
      "\u001b[35m[2020-11-01:04:09:34:INFO] Sniff delimiter as ','\u001b[0m\n",
      "\u001b[35m[2020-11-01:04:09:34:INFO] Determined delimiter of CSV input is ','\u001b[0m\n",
      "\u001b[35m[2020-11-01:04:09:34:INFO] Sniff delimiter as ','\u001b[0m\n",
      "\u001b[35m[2020-11-01:04:09:34:INFO] Determined delimiter of CSV input is ','\u001b[0m\n",
      "\u001b[34m[2020-11-01:04:09:34:INFO] Sniff delimiter as ','\u001b[0m\n",
      "\u001b[34m[2020-11-01:04:09:34:INFO] Determined delimiter of CSV input is ','\u001b[0m\n",
      "\u001b[35m[2020-11-01:04:09:34:INFO] Sniff delimiter as ','\u001b[0m\n",
      "\u001b[35m[2020-11-01:04:09:34:INFO] Determined delimiter of CSV input is ','\u001b[0m\n",
      "\u001b[34m[2020-11-01:04:09:34:INFO] Sniff delimiter as ','\u001b[0m\n",
      "\u001b[34m[2020-11-01:04:09:34:INFO] Determined delimiter of CSV input is ','\u001b[0m\n",
      "\u001b[35m[2020-11-01:04:09:34:INFO] Sniff delimiter as ','\u001b[0m\n",
      "\u001b[35m[2020-11-01:04:09:34:INFO] Determined delimiter of CSV input is ','\u001b[0m\n",
      "\u001b[34m[2020-11-01:04:09:36:INFO] Sniff delimiter as ','\u001b[0m\n",
      "\u001b[34m[2020-11-01:04:09:36:INFO] Determined delimiter of CSV input is ','\u001b[0m\n",
      "\u001b[34m[2020-11-01:04:09:36:INFO] Sniff delimiter as ','\u001b[0m\n",
      "\u001b[34m[2020-11-01:04:09:36:INFO] Determined delimiter of CSV input is ','\u001b[0m\n",
      "\u001b[34m[2020-11-01:04:09:36:INFO] Sniff delimiter as ','\u001b[0m\n",
      "\u001b[34m[2020-11-01:04:09:36:INFO] Determined delimiter of CSV input is ','\u001b[0m\n",
      "\u001b[35m[2020-11-01:04:09:36:INFO] Sniff delimiter as ','\u001b[0m\n",
      "\u001b[35m[2020-11-01:04:09:36:INFO] Determined delimiter of CSV input is ','\u001b[0m\n",
      "\u001b[35m[2020-11-01:04:09:36:INFO] Sniff delimiter as ','\u001b[0m\n",
      "\u001b[35m[2020-11-01:04:09:36:INFO] Determined delimiter of CSV input is ','\u001b[0m\n",
      "\u001b[35m[2020-11-01:04:09:36:INFO] Sniff delimiter as ','\u001b[0m\n",
      "\u001b[35m[2020-11-01:04:09:36:INFO] Determined delimiter of CSV input is ','\u001b[0m\n",
      "\u001b[34m[2020-11-01:04:09:37:INFO] Sniff delimiter as ','\u001b[0m\n",
      "\u001b[34m[2020-11-01:04:09:37:INFO] Determined delimiter of CSV input is ','\u001b[0m\n",
      "\u001b[35m[2020-11-01:04:09:37:INFO] Sniff delimiter as ','\u001b[0m\n",
      "\u001b[35m[2020-11-01:04:09:37:INFO] Determined delimiter of CSV input is ','\u001b[0m\n",
      "\u001b[34m[2020-11-01:04:09:39:INFO] Sniff delimiter as ','\u001b[0m\n",
      "\u001b[34m[2020-11-01:04:09:39:INFO] Determined delimiter of CSV input is ','\u001b[0m\n",
      "\u001b[34m[2020-11-01:04:09:39:INFO] Sniff delimiter as ','\u001b[0m\n",
      "\u001b[34m[2020-11-01:04:09:39:INFO] Determined delimiter of CSV input is ','\u001b[0m\n",
      "\u001b[35m[2020-11-01:04:09:39:INFO] Sniff delimiter as ','\u001b[0m\n",
      "\u001b[35m[2020-11-01:04:09:39:INFO] Determined delimiter of CSV input is ','\u001b[0m\n",
      "\u001b[35m[2020-11-01:04:09:39:INFO] Sniff delimiter as ','\u001b[0m\n",
      "\u001b[35m[2020-11-01:04:09:39:INFO] Determined delimiter of CSV input is ','\u001b[0m\n",
      "\u001b[34m[2020-11-01:04:09:39:INFO] Sniff delimiter as ','\u001b[0m\n",
      "\u001b[34m[2020-11-01:04:09:39:INFO] Determined delimiter of CSV input is ','\u001b[0m\n",
      "\u001b[35m[2020-11-01:04:09:39:INFO] Sniff delimiter as ','\u001b[0m\n",
      "\u001b[35m[2020-11-01:04:09:39:INFO] Determined delimiter of CSV input is ','\u001b[0m\n",
      "\u001b[34m[2020-11-01:04:09:40:INFO] Sniff delimiter as ','\u001b[0m\n",
      "\u001b[34m[2020-11-01:04:09:40:INFO] Determined delimiter of CSV input is ','\u001b[0m\n",
      "\u001b[35m[2020-11-01:04:09:40:INFO] Sniff delimiter as ','\u001b[0m\n",
      "\u001b[35m[2020-11-01:04:09:40:INFO] Determined delimiter of CSV input is ','\u001b[0m\n",
      "\u001b[34m[2020-11-01:04:09:41:INFO] Sniff delimiter as ','\u001b[0m\n",
      "\u001b[34m[2020-11-01:04:09:41:INFO] Determined delimiter of CSV input is ','\u001b[0m\n",
      "\u001b[34m[2020-11-01:04:09:41:INFO] Sniff delimiter as ','\u001b[0m\n",
      "\u001b[34m[2020-11-01:04:09:41:INFO] Determined delimiter of CSV input is ','\u001b[0m\n",
      "\u001b[34m[2020-11-01:04:09:41:INFO] Sniff delimiter as ','\u001b[0m\n",
      "\u001b[34m[2020-11-01:04:09:41:INFO] Determined delimiter of CSV input is ','\u001b[0m\n",
      "\u001b[35m[2020-11-01:04:09:41:INFO] Sniff delimiter as ','\u001b[0m\n",
      "\u001b[35m[2020-11-01:04:09:41:INFO] Determined delimiter of CSV input is ','\u001b[0m\n",
      "\u001b[35m[2020-11-01:04:09:41:INFO] Sniff delimiter as ','\u001b[0m\n",
      "\u001b[35m[2020-11-01:04:09:41:INFO] Determined delimiter of CSV input is ','\u001b[0m\n",
      "\u001b[35m[2020-11-01:04:09:41:INFO] Sniff delimiter as ','\u001b[0m\n",
      "\u001b[35m[2020-11-01:04:09:41:INFO] Determined delimiter of CSV input is ','\u001b[0m\n",
      "\u001b[34m[2020-11-01:04:09:43:INFO] Sniff delimiter as ','\u001b[0m\n",
      "\u001b[34m[2020-11-01:04:09:43:INFO] Determined delimiter of CSV input is ','\u001b[0m\n",
      "\u001b[35m[2020-11-01:04:09:43:INFO] Sniff delimiter as ','\u001b[0m\n",
      "\u001b[35m[2020-11-01:04:09:43:INFO] Determined delimiter of CSV input is ','\u001b[0m\n",
      "\u001b[34m[2020-11-01:04:09:44:INFO] Sniff delimiter as ','\u001b[0m\n",
      "\u001b[35m[2020-11-01:04:09:44:INFO] Sniff delimiter as ','\u001b[0m\n",
      "\u001b[34m[2020-11-01:04:09:44:INFO] Determined delimiter of CSV input is ','\u001b[0m\n",
      "\u001b[34m[2020-11-01:04:09:44:INFO] Sniff delimiter as ','\u001b[0m\n",
      "\u001b[34m[2020-11-01:04:09:44:INFO] Determined delimiter of CSV input is ','\u001b[0m\n",
      "\u001b[34m[2020-11-01:04:09:44:INFO] Sniff delimiter as ','\u001b[0m\n",
      "\u001b[34m[2020-11-01:04:09:44:INFO] Determined delimiter of CSV input is ','\u001b[0m\n",
      "\u001b[35m[2020-11-01:04:09:44:INFO] Determined delimiter of CSV input is ','\u001b[0m\n",
      "\u001b[35m[2020-11-01:04:09:44:INFO] Sniff delimiter as ','\u001b[0m\n",
      "\u001b[35m[2020-11-01:04:09:44:INFO] Determined delimiter of CSV input is ','\u001b[0m\n",
      "\u001b[35m[2020-11-01:04:09:44:INFO] Sniff delimiter as ','\u001b[0m\n",
      "\u001b[35m[2020-11-01:04:09:44:INFO] Determined delimiter of CSV input is ','\u001b[0m\n",
      "\u001b[34m[2020-11-01:04:09:45:INFO] Sniff delimiter as ','\u001b[0m\n",
      "\u001b[35m[2020-11-01:04:09:45:INFO] Sniff delimiter as ','\u001b[0m\n",
      "\u001b[34m[2020-11-01:04:09:45:INFO] Determined delimiter of CSV input is ','\u001b[0m\n",
      "\u001b[35m[2020-11-01:04:09:45:INFO] Determined delimiter of CSV input is ','\u001b[0m\n",
      "\u001b[34m[2020-11-01:04:09:46:INFO] Sniff delimiter as ','\u001b[0m\n",
      "\u001b[34m[2020-11-01:04:09:46:INFO] Determined delimiter of CSV input is ','\u001b[0m\n",
      "\u001b[34m[2020-11-01:04:09:46:INFO] Sniff delimiter as ','\u001b[0m\n",
      "\u001b[34m[2020-11-01:04:09:46:INFO] Determined delimiter of CSV input is ','\u001b[0m\n",
      "\u001b[34m[2020-11-01:04:09:46:INFO] Sniff delimiter as ','\u001b[0m\n",
      "\u001b[34m[2020-11-01:04:09:46:INFO] Determined delimiter of CSV input is ','\u001b[0m\n",
      "\u001b[35m[2020-11-01:04:09:46:INFO] Sniff delimiter as ','\u001b[0m\n",
      "\u001b[35m[2020-11-01:04:09:46:INFO] Determined delimiter of CSV input is ','\u001b[0m\n",
      "\u001b[35m[2020-11-01:04:09:46:INFO] Sniff delimiter as ','\u001b[0m\n",
      "\u001b[35m[2020-11-01:04:09:46:INFO] Determined delimiter of CSV input is ','\u001b[0m\n",
      "\u001b[35m[2020-11-01:04:09:46:INFO] Sniff delimiter as ','\u001b[0m\n",
      "\u001b[35m[2020-11-01:04:09:46:INFO] Determined delimiter of CSV input is ','\u001b[0m\n",
      "\u001b[34m[2020-11-01:04:09:48:INFO] Sniff delimiter as ','\u001b[0m\n",
      "\u001b[34m[2020-11-01:04:09:48:INFO] Determined delimiter of CSV input is ','\u001b[0m\n",
      "\u001b[35m[2020-11-01:04:09:48:INFO] Sniff delimiter as ','\u001b[0m\n",
      "\u001b[35m[2020-11-01:04:09:48:INFO] Determined delimiter of CSV input is ','\u001b[0m\n"
     ]
    },
    {
     "name": "stdout",
     "output_type": "stream",
     "text": [
      "\n",
      "\u001b[34m[2020-11-01:04:09:49:INFO] Sniff delimiter as ','\u001b[0m\n",
      "\u001b[34m[2020-11-01:04:09:49:INFO] Determined delimiter of CSV input is ','\u001b[0m\n",
      "\u001b[34m[2020-11-01:04:09:49:INFO] Sniff delimiter as ','\u001b[0m\n",
      "\u001b[34m[2020-11-01:04:09:49:INFO] Determined delimiter of CSV input is ','\u001b[0m\n",
      "\u001b[35m[2020-11-01:04:09:49:INFO] Sniff delimiter as ','\u001b[0m\n",
      "\u001b[35m[2020-11-01:04:09:49:INFO] Determined delimiter of CSV input is ','\u001b[0m\n",
      "\u001b[35m[2020-11-01:04:09:49:INFO] Sniff delimiter as ','\u001b[0m\n",
      "\u001b[35m[2020-11-01:04:09:49:INFO] Determined delimiter of CSV input is ','\u001b[0m\n"
     ]
    }
   ],
   "source": [
    "# TODO: Using new_xgb_transformer, transform the new_data_location data. You may wish to\n",
    "#       'wait' for the transform job to finish.\n",
    "new_xgb_transformer.transform(new_data_location, content_type='text/csv', split_type='Line')\n",
    "new_xgb_transformer.wait()"
   ]
  },
  {
   "cell_type": "markdown",
   "metadata": {},
   "source": [
    "Copy the results to our local instance."
   ]
  },
  {
   "cell_type": "code",
   "execution_count": 94,
   "metadata": {},
   "outputs": [
    {
     "name": "stdout",
     "output_type": "stream",
     "text": [
      "Completed 256.0 KiB/366.3 KiB (3.9 MiB/s) with 1 file(s) remaining\r",
      "Completed 366.3 KiB/366.3 KiB (5.6 MiB/s) with 1 file(s) remaining\r",
      "download: s3://sagemaker-us-east-2-189919161534/xgboost-2020-11-01-04-04-32-022/new_data.csv.out to ../data/sentiment_update/new_data.csv.out\r\n"
     ]
    }
   ],
   "source": [
    "!aws s3 cp --recursive $new_xgb_transformer.output_path $data_dir"
   ]
  },
  {
   "cell_type": "markdown",
   "metadata": {},
   "source": [
    "And see how well the model did."
   ]
  },
  {
   "cell_type": "code",
   "execution_count": 95,
   "metadata": {},
   "outputs": [],
   "source": [
    "predictions = pd.read_csv(os.path.join(data_dir, 'new_data.csv.out'), header=None)\n",
    "predictions = [round(num) for num in predictions.squeeze().values]"
   ]
  },
  {
   "cell_type": "code",
   "execution_count": 96,
   "metadata": {},
   "outputs": [
    {
     "data": {
      "text/plain": [
       "0.8508"
      ]
     },
     "execution_count": 96,
     "metadata": {},
     "output_type": "execute_result"
    }
   ],
   "source": [
    "accuracy_score(new_Y, predictions)"
   ]
  },
  {
   "cell_type": "markdown",
   "metadata": {},
   "source": [
    "As expected, since we trained the model on this data, our model performs pretty well. So, we have reason to believe that our new XGBoost model is a \"better\" model.\n",
    "\n",
    "However, before we start changing our deployed model, we should first make sure that our new model isn't too different. In other words, if our new model performed really poorly on the original test data then this might be an indication that something else has gone wrong.\n",
    "\n",
    "To start with, since we got rid of the variable that stored the original test reviews, we will read them in again from the cache that we created in Step 3. Note that we need to make sure that we read in the original test data after it has been pre-processed with `nltk` but before it has been bag of words encoded. This is because we need to use the new vocabulary instead of the original one."
   ]
  },
  {
   "cell_type": "code",
   "execution_count": 97,
   "metadata": {},
   "outputs": [
    {
     "name": "stdout",
     "output_type": "stream",
     "text": [
      "Read preprocessed data from cache file: preprocessed_data.pkl\n"
     ]
    }
   ],
   "source": [
    "cache_data = None\n",
    "with open(os.path.join(cache_dir, \"preprocessed_data.pkl\"), \"rb\") as f:\n",
    "            cache_data = pickle.load(f)\n",
    "            print(\"Read preprocessed data from cache file:\", \"preprocessed_data.pkl\")\n",
    "            \n",
    "test_X = cache_data['words_test']\n",
    "test_Y = cache_data['labels_test']\n",
    "\n",
    "# Here we set cache_data to None so that it doesn't occupy memory\n",
    "cache_data = None"
   ]
  },
  {
   "cell_type": "markdown",
   "metadata": {},
   "source": [
    "Once we've loaded the original test reviews, we need to create a bag of words encoding of them using the new vocabulary that we created, based on the new data.\n",
    "\n",
    "**TODO:** Transform the original test data using the new vocabulary."
   ]
  },
  {
   "cell_type": "code",
   "execution_count": 98,
   "metadata": {},
   "outputs": [],
   "source": [
    "# TODO: Use the new_vectorizer object that you created earlier to transform the test_X data.\n",
    "test_X = new_vectorizer.transform(test_X).toarray()"
   ]
  },
  {
   "cell_type": "markdown",
   "metadata": {},
   "source": [
    "Now that we have correctly encoded the original test data, we can write it to the local instance, upload it to S3 and test it."
   ]
  },
  {
   "cell_type": "code",
   "execution_count": 99,
   "metadata": {},
   "outputs": [],
   "source": [
    "pd.DataFrame(test_X).to_csv(os.path.join(data_dir, 'test.csv'), header=False, index=False)"
   ]
  },
  {
   "cell_type": "code",
   "execution_count": 100,
   "metadata": {},
   "outputs": [],
   "source": [
    "test_location = session.upload_data(os.path.join(data_dir, 'test.csv'), key_prefix=prefix)"
   ]
  },
  {
   "cell_type": "code",
   "execution_count": 101,
   "metadata": {},
   "outputs": [
    {
     "name": "stdout",
     "output_type": "stream",
     "text": [
      "............................\u001b[34mArguments: serve\u001b[0m\n",
      "\u001b[34m[2020-11-01 04:15:26 +0000] [1] [INFO] Starting gunicorn 19.7.1\u001b[0m\n",
      "\u001b[34m[2020-11-01 04:15:26 +0000] [1] [INFO] Listening at: http://0.0.0.0:8080 (1)\u001b[0m\n",
      "\u001b[34m[2020-11-01 04:15:26 +0000] [1] [INFO] Using worker: gevent\u001b[0m\n",
      "\u001b[34m[2020-11-01 04:15:26 +0000] [36] [INFO] Booting worker with pid: 36\u001b[0m\n",
      "\u001b[34m[2020-11-01:04:15:26:INFO] Model loaded successfully for worker : 36\u001b[0m\n",
      "\u001b[34m[2020-11-01 04:15:26 +0000] [37] [INFO] Booting worker with pid: 37\u001b[0m\n",
      "\u001b[34m[2020-11-01 04:15:26 +0000] [38] [INFO] Booting worker with pid: 38\u001b[0m\n",
      "\u001b[34m[2020-11-01 04:15:26 +0000] [39] [INFO] Booting worker with pid: 39\u001b[0m\n",
      "\u001b[34m[2020-11-01:04:15:26:INFO] Model loaded successfully for worker : 37\u001b[0m\n",
      "\u001b[34m[2020-11-01:04:15:26:INFO] Model loaded successfully for worker : 38\u001b[0m\n",
      "\u001b[34m[2020-11-01:04:15:26:INFO] Model loaded successfully for worker : 39\u001b[0m\n",
      "\u001b[34m[2020-11-01:04:15:27:INFO] Sniff delimiter as ','\u001b[0m\n",
      "\u001b[34m[2020-11-01:04:15:27:INFO] Determined delimiter of CSV input is ','\u001b[0m\n",
      "\u001b[34m[2020-11-01:04:15:27:INFO] Sniff delimiter as ','\u001b[0m\n",
      "\u001b[34m[2020-11-01:04:15:27:INFO] Determined delimiter of CSV input is ','\u001b[0m\n",
      "\u001b[34m[2020-11-01:04:15:27:INFO] Sniff delimiter as ','\u001b[0m\n",
      "\u001b[34m[2020-11-01:04:15:27:INFO] Determined delimiter of CSV input is ','\u001b[0m\n",
      "\u001b[34m[2020-11-01:04:15:27:INFO] Sniff delimiter as ','\u001b[0m\n",
      "\u001b[34m[2020-11-01:04:15:27:INFO] Determined delimiter of CSV input is ','\u001b[0m\n",
      "\u001b[34m[2020-11-01:04:15:29:INFO] Sniff delimiter as ','\u001b[0m\n",
      "\u001b[34m[2020-11-01:04:15:29:INFO] Determined delimiter of CSV input is ','\u001b[0m\n",
      "\u001b[34m[2020-11-01:04:15:29:INFO] Sniff delimiter as ','\u001b[0m\n",
      "\u001b[34m[2020-11-01:04:15:29:INFO] Determined delimiter of CSV input is ','\u001b[0m\n",
      "\u001b[34m[2020-11-01:04:15:30:INFO] Sniff delimiter as ','\u001b[0m\n",
      "\u001b[34m[2020-11-01:04:15:30:INFO] Determined delimiter of CSV input is ','\u001b[0m\n",
      "\u001b[34m[2020-11-01:04:15:30:INFO] Sniff delimiter as ','\u001b[0m\n",
      "\u001b[34m[2020-11-01:04:15:30:INFO] Determined delimiter of CSV input is ','\u001b[0m\n",
      "\u001b[32m2020-11-01T04:15:26.765:[sagemaker logs]: MaxConcurrentTransforms=4, MaxPayloadInMB=6, BatchStrategy=MULTI_RECORD\u001b[0m\n",
      "\u001b[34m[2020-11-01:04:15:32:INFO] Sniff delimiter as ','\u001b[0m\n",
      "\u001b[34m[2020-11-01:04:15:32:INFO] Determined delimiter of CSV input is ','\u001b[0m\n",
      "\u001b[34m[2020-11-01:04:15:32:INFO] Sniff delimiter as ','\u001b[0m\n",
      "\u001b[34m[2020-11-01:04:15:32:INFO] Determined delimiter of CSV input is ','\u001b[0m\n",
      "\u001b[35m[2020-11-01:04:15:32:INFO] Sniff delimiter as ','\u001b[0m\n",
      "\u001b[35m[2020-11-01:04:15:32:INFO] Determined delimiter of CSV input is ','\u001b[0m\n",
      "\u001b[35m[2020-11-01:04:15:32:INFO] Sniff delimiter as ','\u001b[0m\n",
      "\u001b[35m[2020-11-01:04:15:32:INFO] Determined delimiter of CSV input is ','\u001b[0m\n",
      "\u001b[34m[2020-11-01:04:15:32:INFO] Sniff delimiter as ','\u001b[0m\n",
      "\u001b[34m[2020-11-01:04:15:32:INFO] Determined delimiter of CSV input is ','\u001b[0m\n",
      "\u001b[34m[2020-11-01:04:15:32:INFO] Sniff delimiter as ','\u001b[0m\n",
      "\u001b[34m[2020-11-01:04:15:32:INFO] Determined delimiter of CSV input is ','\u001b[0m\n",
      "\u001b[35m[2020-11-01:04:15:32:INFO] Sniff delimiter as ','\u001b[0m\n",
      "\u001b[35m[2020-11-01:04:15:32:INFO] Determined delimiter of CSV input is ','\u001b[0m\n",
      "\u001b[35m[2020-11-01:04:15:32:INFO] Sniff delimiter as ','\u001b[0m\n",
      "\u001b[35m[2020-11-01:04:15:32:INFO] Determined delimiter of CSV input is ','\u001b[0m\n",
      "\u001b[34m[2020-11-01:04:15:34:INFO] Sniff delimiter as ','\u001b[0m\n",
      "\u001b[34m[2020-11-01:04:15:34:INFO] Determined delimiter of CSV input is ','\u001b[0m\n",
      "\u001b[34m[2020-11-01:04:15:34:INFO] Sniff delimiter as ','\u001b[0m\n",
      "\u001b[34m[2020-11-01:04:15:34:INFO] Determined delimiter of CSV input is ','\u001b[0m\n",
      "\u001b[34m[2020-11-01:04:15:35:INFO] Sniff delimiter as ','\u001b[0m\n",
      "\u001b[34m[2020-11-01:04:15:35:INFO] Determined delimiter of CSV input is ','\u001b[0m\n",
      "\u001b[34m[2020-11-01:04:15:35:INFO] Sniff delimiter as ','\u001b[0m\n",
      "\u001b[34m[2020-11-01:04:15:35:INFO] Determined delimiter of CSV input is ','\u001b[0m\n",
      "\u001b[35m[2020-11-01:04:15:34:INFO] Sniff delimiter as ','\u001b[0m\n",
      "\u001b[35m[2020-11-01:04:15:34:INFO] Determined delimiter of CSV input is ','\u001b[0m\n",
      "\u001b[35m[2020-11-01:04:15:34:INFO] Sniff delimiter as ','\u001b[0m\n",
      "\u001b[35m[2020-11-01:04:15:34:INFO] Determined delimiter of CSV input is ','\u001b[0m\n",
      "\u001b[35m[2020-11-01:04:15:35:INFO] Sniff delimiter as ','\u001b[0m\n",
      "\u001b[35m[2020-11-01:04:15:35:INFO] Determined delimiter of CSV input is ','\u001b[0m\n",
      "\u001b[35m[2020-11-01:04:15:35:INFO] Sniff delimiter as ','\u001b[0m\n",
      "\u001b[35m[2020-11-01:04:15:35:INFO] Determined delimiter of CSV input is ','\u001b[0m\n",
      "\u001b[34m[2020-11-01:04:15:37:INFO] Sniff delimiter as ','\u001b[0m\n",
      "\u001b[35m[2020-11-01:04:15:37:INFO] Sniff delimiter as ','\u001b[0m\n",
      "\u001b[34m[2020-11-01:04:15:37:INFO] Determined delimiter of CSV input is ','\u001b[0m\n",
      "\u001b[34m[2020-11-01:04:15:37:INFO] Sniff delimiter as ','\u001b[0m\n",
      "\u001b[34m[2020-11-01:04:15:37:INFO] Determined delimiter of CSV input is ','\u001b[0m\n",
      "\u001b[35m[2020-11-01:04:15:37:INFO] Determined delimiter of CSV input is ','\u001b[0m\n",
      "\u001b[35m[2020-11-01:04:15:37:INFO] Sniff delimiter as ','\u001b[0m\n",
      "\u001b[35m[2020-11-01:04:15:37:INFO] Determined delimiter of CSV input is ','\u001b[0m\n",
      "\u001b[34m[2020-11-01:04:15:37:INFO] Sniff delimiter as ','\u001b[0m\n",
      "\u001b[34m[2020-11-01:04:15:37:INFO] Determined delimiter of CSV input is ','\u001b[0m\n",
      "\u001b[34m[2020-11-01:04:15:37:INFO] Sniff delimiter as ','\u001b[0m\n",
      "\u001b[34m[2020-11-01:04:15:37:INFO] Determined delimiter of CSV input is ','\u001b[0m\n",
      "\u001b[35m[2020-11-01:04:15:37:INFO] Sniff delimiter as ','\u001b[0m\n",
      "\u001b[35m[2020-11-01:04:15:37:INFO] Determined delimiter of CSV input is ','\u001b[0m\n",
      "\u001b[35m[2020-11-01:04:15:37:INFO] Sniff delimiter as ','\u001b[0m\n",
      "\u001b[35m[2020-11-01:04:15:37:INFO] Determined delimiter of CSV input is ','\u001b[0m\n",
      "\u001b[34m[2020-11-01:04:15:39:INFO] Sniff delimiter as ','\u001b[0m\n",
      "\u001b[34m[2020-11-01:04:15:39:INFO] Determined delimiter of CSV input is ','\u001b[0m\n",
      "\u001b[34m[2020-11-01:04:15:39:INFO] Sniff delimiter as ','\u001b[0m\n",
      "\u001b[34m[2020-11-01:04:15:39:INFO] Determined delimiter of CSV input is ','\u001b[0m\n",
      "\u001b[34m[2020-11-01:04:15:40:INFO] Sniff delimiter as ','\u001b[0m\n",
      "\u001b[34m[2020-11-01:04:15:40:INFO] Determined delimiter of CSV input is ','\u001b[0m\n",
      "\u001b[34m[2020-11-01:04:15:40:INFO] Sniff delimiter as ','\u001b[0m\n",
      "\u001b[34m[2020-11-01:04:15:40:INFO] Determined delimiter of CSV input is ','\u001b[0m\n",
      "\u001b[35m[2020-11-01:04:15:39:INFO] Sniff delimiter as ','\u001b[0m\n",
      "\u001b[35m[2020-11-01:04:15:39:INFO] Determined delimiter of CSV input is ','\u001b[0m\n",
      "\u001b[35m[2020-11-01:04:15:39:INFO] Sniff delimiter as ','\u001b[0m\n",
      "\u001b[35m[2020-11-01:04:15:39:INFO] Determined delimiter of CSV input is ','\u001b[0m\n",
      "\u001b[35m[2020-11-01:04:15:40:INFO] Sniff delimiter as ','\u001b[0m\n",
      "\u001b[35m[2020-11-01:04:15:40:INFO] Determined delimiter of CSV input is ','\u001b[0m\n",
      "\u001b[35m[2020-11-01:04:15:40:INFO] Sniff delimiter as ','\u001b[0m\n",
      "\u001b[35m[2020-11-01:04:15:40:INFO] Determined delimiter of CSV input is ','\u001b[0m\n",
      "\n",
      "\u001b[34m[2020-11-01:04:15:44:INFO] Sniff delimiter as ','\u001b[0m\n",
      "\u001b[34m[2020-11-01:04:15:44:INFO] Determined delimiter of CSV input is ','\u001b[0m\n",
      "\u001b[34m[2020-11-01:04:15:44:INFO] Sniff delimiter as ','\u001b[0m\n",
      "\u001b[34m[2020-11-01:04:15:44:INFO] Determined delimiter of CSV input is ','\u001b[0m\n",
      "\u001b[34m[2020-11-01:04:15:44:INFO] Sniff delimiter as ','\u001b[0m\n",
      "\u001b[34m[2020-11-01:04:15:44:INFO] Determined delimiter of CSV input is ','\u001b[0m\n",
      "\u001b[34m[2020-11-01:04:15:45:INFO] Sniff delimiter as ','\u001b[0m\n",
      "\u001b[34m[2020-11-01:04:15:45:INFO] Determined delimiter of CSV input is ','\u001b[0m\n",
      "\u001b[35m[2020-11-01:04:15:44:INFO] Sniff delimiter as ','\u001b[0m\n",
      "\u001b[35m[2020-11-01:04:15:44:INFO] Determined delimiter of CSV input is ','\u001b[0m\n",
      "\u001b[35m[2020-11-01:04:15:44:INFO] Sniff delimiter as ','\u001b[0m\n",
      "\u001b[35m[2020-11-01:04:15:44:INFO] Determined delimiter of CSV input is ','\u001b[0m\n",
      "\u001b[35m[2020-11-01:04:15:44:INFO] Sniff delimiter as ','\u001b[0m\n",
      "\u001b[35m[2020-11-01:04:15:44:INFO] Determined delimiter of CSV input is ','\u001b[0m\n",
      "\u001b[35m[2020-11-01:04:15:45:INFO] Sniff delimiter as ','\u001b[0m\n",
      "\u001b[35m[2020-11-01:04:15:45:INFO] Determined delimiter of CSV input is ','\u001b[0m\n",
      "\u001b[34m[2020-11-01:04:15:47:INFO] Sniff delimiter as ','\u001b[0m\n",
      "\u001b[34m[2020-11-01:04:15:47:INFO] Determined delimiter of CSV input is ','\u001b[0m\n",
      "\u001b[34m[2020-11-01:04:15:47:INFO] Sniff delimiter as ','\u001b[0m\n",
      "\u001b[34m[2020-11-01:04:15:47:INFO] Determined delimiter of CSV input is ','\u001b[0m\n",
      "\u001b[34m[2020-11-01:04:15:47:INFO] Sniff delimiter as ','\u001b[0m\n",
      "\u001b[34m[2020-11-01:04:15:47:INFO] Determined delimiter of CSV input is ','\u001b[0m\n",
      "\u001b[34m[2020-11-01:04:15:47:INFO] Sniff delimiter as ','\u001b[0m\n",
      "\u001b[34m[2020-11-01:04:15:47:INFO] Determined delimiter of CSV input is ','\u001b[0m\n",
      "\u001b[35m[2020-11-01:04:15:47:INFO] Sniff delimiter as ','\u001b[0m\n",
      "\u001b[35m[2020-11-01:04:15:47:INFO] Determined delimiter of CSV input is ','\u001b[0m\n",
      "\u001b[35m[2020-11-01:04:15:47:INFO] Sniff delimiter as ','\u001b[0m\n",
      "\u001b[35m[2020-11-01:04:15:47:INFO] Determined delimiter of CSV input is ','\u001b[0m\n",
      "\u001b[35m[2020-11-01:04:15:47:INFO] Sniff delimiter as ','\u001b[0m\n",
      "\u001b[35m[2020-11-01:04:15:47:INFO] Determined delimiter of CSV input is ','\u001b[0m\n",
      "\u001b[35m[2020-11-01:04:15:47:INFO] Sniff delimiter as ','\u001b[0m\n",
      "\u001b[35m[2020-11-01:04:15:47:INFO] Determined delimiter of CSV input is ','\u001b[0m\n",
      "\u001b[34m[2020-11-01:04:15:49:INFO] Sniff delimiter as ','\u001b[0m\n",
      "\u001b[34m[2020-11-01:04:15:49:INFO] Determined delimiter of CSV input is ','\u001b[0m\n",
      "\u001b[35m[2020-11-01:04:15:49:INFO] Sniff delimiter as ','\u001b[0m\n",
      "\u001b[35m[2020-11-01:04:15:49:INFO] Determined delimiter of CSV input is ','\u001b[0m\n",
      "\u001b[34m[2020-11-01:04:15:49:INFO] Sniff delimiter as ','\u001b[0m\n",
      "\u001b[34m[2020-11-01:04:15:49:INFO] Determined delimiter of CSV input is ','\u001b[0m\n",
      "\u001b[34m[2020-11-01:04:15:49:INFO] Sniff delimiter as ','\u001b[0m\n",
      "\u001b[34m[2020-11-01:04:15:49:INFO] Determined delimiter of CSV input is ','\u001b[0m\n",
      "\u001b[34m[2020-11-01:04:15:49:INFO] Sniff delimiter as ','\u001b[0m\n",
      "\u001b[34m[2020-11-01:04:15:49:INFO] Determined delimiter of CSV input is ','\u001b[0m\n",
      "\u001b[35m[2020-11-01:04:15:49:INFO] Sniff delimiter as ','\u001b[0m\n",
      "\u001b[35m[2020-11-01:04:15:49:INFO] Determined delimiter of CSV input is ','\u001b[0m\n",
      "\u001b[35m[2020-11-01:04:15:49:INFO] Sniff delimiter as ','\u001b[0m\n",
      "\u001b[35m[2020-11-01:04:15:49:INFO] Determined delimiter of CSV input is ','\u001b[0m\n",
      "\u001b[35m[2020-11-01:04:15:49:INFO] Sniff delimiter as ','\u001b[0m\n",
      "\u001b[35m[2020-11-01:04:15:49:INFO] Determined delimiter of CSV input is ','\u001b[0m\n"
     ]
    }
   ],
   "source": [
    "new_xgb_transformer.transform(test_location, content_type='text/csv', split_type='Line')\n",
    "new_xgb_transformer.wait()"
   ]
  },
  {
   "cell_type": "code",
   "execution_count": 112,
   "metadata": {},
   "outputs": [],
   "source": [
    "test_X = None"
   ]
  },
  {
   "cell_type": "code",
   "execution_count": 113,
   "metadata": {},
   "outputs": [
    {
     "name": "stdout",
     "output_type": "stream",
     "text": [
      "Completed 256.0 KiB/366.7 KiB (2.1 MiB/s) with 1 file(s) remaining\r",
      "Completed 366.7 KiB/366.7 KiB (2.9 MiB/s) with 1 file(s) remaining\r",
      "download: s3://sagemaker-us-east-2-189919161534/xgboost-2020-11-01-04-10-53-362/test.csv.out to ../data/sentiment_update/test.csv.out\r\n"
     ]
    }
   ],
   "source": [
    "!aws s3 cp --recursive $new_xgb_transformer.output_path $data_dir"
   ]
  },
  {
   "cell_type": "code",
   "execution_count": 114,
   "metadata": {},
   "outputs": [],
   "source": [
    "predictions = pd.read_csv(os.path.join(data_dir, 'test.csv.out'), header=None)\n",
    "predictions = [round(num) for num in predictions.squeeze().values]"
   ]
  },
  {
   "cell_type": "code",
   "execution_count": 115,
   "metadata": {},
   "outputs": [
    {
     "data": {
      "text/plain": [
       "0.84"
      ]
     },
     "execution_count": 115,
     "metadata": {},
     "output_type": "execute_result"
    }
   ],
   "source": [
    "accuracy_score(test_Y, predictions)"
   ]
  },
  {
   "cell_type": "markdown",
   "metadata": {},
   "source": [
    "It would appear that our new XGBoost model is performing quite well on the old test data. This gives us some indication that our new model should be put into production and replace our original model."
   ]
  },
  {
   "cell_type": "markdown",
   "metadata": {},
   "source": [
    "## Step 6: (TODO) Updating the Model\n",
    "\n",
    "So we have a new model that we'd like to use instead of one that is already deployed. Furthermore, we are assuming that the model that is already deployed is being used in some sort of application. As a result, what we want to do is update the existing endpoint so that it uses our new model.\n",
    "\n",
    "Of course, to do this we need to create an endpoint configuration for our newly created model.\n",
    "\n",
    "First, note that we can access the name of the model that we created above using the `model_name` property of the transformer. The reason for this is that in order for the transformer to create a batch transform job it needs to first create the model object inside of SageMaker. Since we've sort of already done this we should take advantage of it."
   ]
  },
  {
   "cell_type": "code",
   "execution_count": 104,
   "metadata": {},
   "outputs": [
    {
     "data": {
      "text/plain": [
       "'xgboost-2020-11-01-03-42-46-309'"
      ]
     },
     "execution_count": 104,
     "metadata": {},
     "output_type": "execute_result"
    }
   ],
   "source": [
    "new_xgb_transformer.model_name"
   ]
  },
  {
   "cell_type": "markdown",
   "metadata": {},
   "source": [
    "Next, we create an endpoint configuration using the low level approach of creating the dictionary object which describes the endpoint configuration we want.\n",
    "\n",
    "**TODO:** Using the low level approach, create a new endpoint configuration. Don't forget that it needs a name and that the name needs to be unique. If you get stuck, try looking at the Boston Housing Low Level Deployment tutorial notebook."
   ]
  },
  {
   "cell_type": "code",
   "execution_count": 107,
   "metadata": {},
   "outputs": [],
   "source": [
    "from time import gmtime, strftime\n",
    "\n",
    "\n",
    "# TODO: Give our endpoint configuration a name. Remember, it needs to be unique.\n",
    "new_xgb_endpoint_config_name = \"boston-xgboost-endpoint-config-new-\" + strftime(\"%Y-%m-%d-%H-%M-%S\", gmtime())\n",
    "\n",
    "# TODO: Using the SageMaker Client, construct the endpoint configuration.\n",
    "new_xgb_endpoint_config_info = session.sagemaker_client.create_endpoint_config(\n",
    "                            EndpointConfigName = new_xgb_endpoint_config_name,\n",
    "                            ProductionVariants = [{\n",
    "                                \"InstanceType\": \"ml.m4.xlarge\",\n",
    "                                \"InitialVariantWeight\": 1,\n",
    "                                \"InitialInstanceCount\": 1,\n",
    "                                \"ModelName\": new_xgb_transformer.model_name,\n",
    "                                \"VariantName\": \"XGB-Model\"\n",
    "                            }])"
   ]
  },
  {
   "cell_type": "markdown",
   "metadata": {},
   "source": [
    "Once the endpoint configuration has been constructed, it is a straightforward matter to ask SageMaker to update the existing endpoint so that it uses the new endpoint configuration.\n",
    "\n",
    "Of note here is that SageMaker does this in such a way that there is no downtime. Essentially, SageMaker deploys the new model and then updates the original endpoint so that it points to the newly deployed model. After that, the original model is shut down. This way, whatever app is using our endpoint won't notice that we've changed the model that is being used.\n",
    "\n",
    "**TODO:** Use the SageMaker Client to update the endpoint that you deployed earlier."
   ]
  },
  {
   "cell_type": "code",
   "execution_count": 109,
   "metadata": {},
   "outputs": [
    {
     "data": {
      "text/plain": [
       "{'EndpointArn': 'arn:aws:sagemaker:us-east-2:189919161534:endpoint/xgboost-2020-11-01-02-20-03-112',\n",
       " 'ResponseMetadata': {'RequestId': 'fe7417b0-d9e3-4c92-8ce2-48ef4a1a6ed7',\n",
       "  'HTTPStatusCode': 200,\n",
       "  'HTTPHeaders': {'x-amzn-requestid': 'fe7417b0-d9e3-4c92-8ce2-48ef4a1a6ed7',\n",
       "   'content-type': 'application/x-amz-json-1.1',\n",
       "   'content-length': '99',\n",
       "   'date': 'Sun, 01 Nov 2020 04:23:40 GMT'},\n",
       "  'RetryAttempts': 0}}"
      ]
     },
     "execution_count": 109,
     "metadata": {},
     "output_type": "execute_result"
    }
   ],
   "source": [
    "# TODO: Update the xgb_predictor.endpoint so that it uses new_xgb_endpoint_config_name.\n",
    "session.sagemaker_client.update_endpoint(EndpointName=xgb_predictor.endpoint, EndpointConfigName=new_xgb_endpoint_config_name)"
   ]
  },
  {
   "cell_type": "markdown",
   "metadata": {},
   "source": [
    "And, as is generally the case with SageMaker requests, this is being done in the background so if we want to wait for it to complete we need to call the appropriate method."
   ]
  },
  {
   "cell_type": "code",
   "execution_count": 110,
   "metadata": {},
   "outputs": [
    {
     "name": "stdout",
     "output_type": "stream",
     "text": [
      "---------------!"
     ]
    },
    {
     "data": {
      "text/plain": [
       "{'EndpointName': 'xgboost-2020-11-01-02-20-03-112',\n",
       " 'EndpointArn': 'arn:aws:sagemaker:us-east-2:189919161534:endpoint/xgboost-2020-11-01-02-20-03-112',\n",
       " 'EndpointConfigName': 'boston-xgboost-endpoint-config-new-2020-11-01-04-22-22',\n",
       " 'ProductionVariants': [{'VariantName': 'XGB-Model',\n",
       "   'DeployedImages': [{'SpecifiedImage': '825641698319.dkr.ecr.us-east-2.amazonaws.com/xgboost:1',\n",
       "     'ResolvedImage': '825641698319.dkr.ecr.us-east-2.amazonaws.com/xgboost@sha256:52e3bbc5f2a9462bed15983634d6f615439afd4e81e8778337d734c93083bd5e',\n",
       "     'ResolutionTime': datetime.datetime(2020, 11, 1, 4, 23, 42, 951000, tzinfo=tzlocal())}],\n",
       "   'CurrentWeight': 1.0,\n",
       "   'DesiredWeight': 1.0,\n",
       "   'CurrentInstanceCount': 1,\n",
       "   'DesiredInstanceCount': 1}],\n",
       " 'EndpointStatus': 'InService',\n",
       " 'CreationTime': datetime.datetime(2020, 11, 1, 2, 59, 6, 370000, tzinfo=tzlocal()),\n",
       " 'LastModifiedTime': datetime.datetime(2020, 11, 1, 4, 30, 52, 231000, tzinfo=tzlocal()),\n",
       " 'ResponseMetadata': {'RequestId': 'eb9a0597-6d58-44f6-a7d8-d18adb92c838',\n",
       "  'HTTPStatusCode': 200,\n",
       "  'HTTPHeaders': {'x-amzn-requestid': 'eb9a0597-6d58-44f6-a7d8-d18adb92c838',\n",
       "   'content-type': 'application/x-amz-json-1.1',\n",
       "   'content-length': '735',\n",
       "   'date': 'Sun, 01 Nov 2020 04:31:14 GMT'},\n",
       "  'RetryAttempts': 0}}"
      ]
     },
     "execution_count": 110,
     "metadata": {},
     "output_type": "execute_result"
    }
   ],
   "source": [
    "session.wait_for_endpoint(xgb_predictor.endpoint)"
   ]
  },
  {
   "cell_type": "markdown",
   "metadata": {},
   "source": [
    "## Step 7: Delete the Endpoint\n",
    "\n",
    "Of course, since we are done with the deployed endpoint we need to make sure to shut it down, otherwise we will continue to be charged for it."
   ]
  },
  {
   "cell_type": "code",
   "execution_count": 116,
   "metadata": {},
   "outputs": [],
   "source": [
    "xgb_predictor.delete_endpoint()"
   ]
  },
  {
   "cell_type": "markdown",
   "metadata": {},
   "source": [
    "## Some Additional Questions\n",
    "\n",
    "This notebook is a little different from the other notebooks in this module. In part, this is because it is meant to be a little bit closer to the type of problem you may face in a real world scenario. Of course, this problem is a very easy one with a prescribed solution, but there are many other interesting questions that we did not consider here and that you may wish to consider yourself.\n",
    "\n",
    "For example,\n",
    "- What other ways could the underlying distribution change?\n",
    "- Is it a good idea to re-train the model using only the new data?\n",
    "- What would change if the quantity of new data wasn't large. Say you only received 500 samples?\n"
   ]
  },
  {
   "cell_type": "markdown",
   "metadata": {},
   "source": [
    "## Optional: Clean up\n",
    "\n",
    "The default notebook instance on SageMaker doesn't have a lot of excess disk space available. As you continue to complete and execute notebooks you will eventually fill up this disk space, leading to errors which can be difficult to diagnose. Once you are completely finished using a notebook it is a good idea to remove the files that you created along the way. Of course, you can do this from the terminal or from the notebook hub if you would like. The cell below contains some commands to clean up the created files from within the notebook."
   ]
  },
  {
   "cell_type": "code",
   "execution_count": 117,
   "metadata": {},
   "outputs": [],
   "source": [
    "# First we will remove all of the files contained in the data_dir directory\n",
    "!rm $data_dir/*\n",
    "\n",
    "# And then we delete the directory itself\n",
    "!rmdir $data_dir\n",
    "\n",
    "# Similarly we will remove the files in the cache_dir directory and the directory itself\n",
    "# !rm $cache_dir/*\n",
    "# !rmdir $cache_dir"
   ]
  },
  {
   "cell_type": "code",
   "execution_count": null,
   "metadata": {},
   "outputs": [],
   "source": []
  }
 ],
 "metadata": {
  "kernelspec": {
   "display_name": "conda_pytorch_p36",
   "language": "python",
   "name": "conda_pytorch_p36"
  },
  "language_info": {
   "codemirror_mode": {
    "name": "ipython",
    "version": 3
   },
   "file_extension": ".py",
   "mimetype": "text/x-python",
   "name": "python",
   "nbconvert_exporter": "python",
   "pygments_lexer": "ipython3",
   "version": "3.6.10"
  }
 },
 "nbformat": 4,
 "nbformat_minor": 2
}
